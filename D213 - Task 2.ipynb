{
 "cells": [
  {
   "cell_type": "markdown",
   "metadata": {},
   "source": [
    "# D213 TASK 2: NLP"
   ]
  },
  {
   "cell_type": "markdown",
   "metadata": {},
   "source": [
    "### Information\n",
    "\n",
    "* Matthew Blasa\n",
    "* Student ID: 001781641\n",
    "* MS Data Analytics (05/01/2021)\n",
    "* Program Mentor: Kirk Kelly\n",
    "* (503)805-0297\n",
    "* mblasa@wgu.edu"
   ]
  },
  {
   "cell_type": "markdown",
   "metadata": {},
   "source": [
    "#### Scenario 1\n",
    "In your previous coursework, you have explored a variety of supervised and unsupervised data mining models. You have seen the power of using data analytical techniques to help organizations make data-driven decisions and now want to extend these models into areas of machine learning and artificial intelligence. In this course, you will explore the use of neural networks and natural language processing (NLP).\n",
    "\n",
    "\n",
    "\n",
    "In this task, you will choose a data file from the Web Links section. The available data sets are as follows:\n",
    "\n",
    "* Amazon Product Data set\n",
    "\n",
    "* UCSD Recommender Systems Data sets\n",
    "\n",
    "* UCI Sentiment Labeled Sentences Data set\n",
    "\n",
    "\n",
    "\n",
    "For this task, you will build a neural network designed to learn word usage and context using NLP techniques. You will provide visualizations and a report, as well as build your network in an interactive development environment."
   ]
  },
  {
   "cell_type": "markdown",
   "metadata": {},
   "source": [
    "# Part I: Research Question"
   ]
  },
  {
   "cell_type": "markdown",
   "metadata": {},
   "source": [
    "## A1. Research Question\n",
    "Is it possible to detect negative or postive sentiment of customer reviews, with previously labeled data sets using Natural Language Processing? \n"
   ]
  },
  {
   "cell_type": "markdown",
   "metadata": {},
   "source": [
    "## A2. Objectives and Goals\n",
    "The object of this sentiement analysis is to build a NLP model using TensorFlow. After training the model, it will be used to detect and predict sentiment of customer feedback. A goal of this project includes being able to discover customer prefered products from the sentiment analysis of their views, in order to better market products and discover which products are preferred by them."
   ]
  },
  {
   "cell_type": "markdown",
   "metadata": {},
   "source": [
    "##  A3. Prescribed Network\n",
    "\n",
    "The deep learning neural network libraries used in this Natural Language Processing model are TensorFlow and Keras. The goal of the task to predict customer postive sentiment of products based on text from reviews from purchased and viewed items. Performing sentiment analysis using NLP modeling and neural networks would be ideal, since it should increase the classifcation of positive and negative sentiments of reviews."
   ]
  },
  {
   "cell_type": "markdown",
   "metadata": {},
   "source": [
    "# Part II: Data Preparation"
   ]
  },
  {
   "cell_type": "markdown",
   "metadata": {},
   "source": [
    "## B1. Data Exploration\n",
    "We will combine three samples datasets from Amazon, IMdb and Yelp into one DataFrame for analysis of opinion mining.  Data cleaning is as follows with comments to indicate code functions."
   ]
  },
  {
   "cell_type": "markdown",
   "metadata": {},
   "source": [
    "#### Data preparation"
   ]
  },
  {
   "cell_type": "code",
   "execution_count": 1,
   "metadata": {},
   "outputs": [],
   "source": [
    "# Import standard data science libraries for mathematics, statistics and visualization packages\n",
    "import numpy as np # linear algebra\n",
    "import pandas as pd # dataset processing\n",
    "from pandas import Series, DataFrame\n",
    "\n",
    "# Import visualization packages\n",
    "import matplotlib as mpl\n",
    "import matplotlib.pyplot as plt \n",
    "import seaborn as sns\n",
    "from matplotlib.axes._axes import _log as matplotlib_axes_logger\n",
    "matplotlib_axes_logger.setLevel('ERROR')\n",
    "\n",
    "# Import TensorFlow package\n",
    "from tensorflow import keras\n",
    "\n",
    "# Import parser\n",
    "from dateutil.parser import parse"
   ]
  },
  {
   "cell_type": "code",
   "execution_count": 4,
   "metadata": {},
   "outputs": [],
   "source": [
    "# Ignore Warning Code\n",
    "import warnings\n",
    "warnings.filterwarnings('ignore')"
   ]
  },
  {
   "cell_type": "code",
   "execution_count": 5,
   "metadata": {},
   "outputs": [],
   "source": [
    "# Load data set into Pandas dataframe\n",
    "amazon_df = pd.read_csv('data/sentiment labelled sentences/amazon_cells_labelled.txt', names = ['review', 'sentiments'], sep = '\\t')\n",
    "imdb_df = pd.read_csv('data/sentiment labelled sentences/imdb_labelled.txt', names = ['review', 'sentiments'], sep = '\\t')\n",
    "yelp_df = pd.read_csv('data/sentiment labelled sentences/yelp_labelled.txt', names = ['review', 'sentiments'], sep = '\\t')"
   ]
  },
  {
   "cell_type": "code",
   "execution_count": 6,
   "metadata": {},
   "outputs": [
    {
     "name": "stdout",
     "output_type": "stream",
     "text": [
      "                                              review  sentiments\n",
      "0  So there is no way for me to plug it in here i...           0\n",
      "1                        Good case, Excellent value.           1\n",
      "2                             Great for the jawbone.           1\n",
      "3  Tied to charger for conversations lasting more...           0\n",
      "4                                  The mic is great.           1\n",
      "5  I have to jiggle the plug to get it to line up...           0\n",
      "6  If you have several dozen or several hundred c...           0\n",
      "7        If you are Razr owner...you must have this!           1\n",
      "8                Needless to say, I wasted my money.           0\n",
      "9                   What a waste of money and time!.           0\n",
      "                                              review  sentiments\n",
      "0  A very, very, very slow-moving, aimless movie ...           0\n",
      "1  Not sure who was more lost - the flat characte...           0\n",
      "2  Attempting artiness with black & white and cle...           0\n",
      "3       Very little music or anything to speak of.             0\n",
      "4  The best scene in the movie was when Gerardo i...           1\n",
      "5  The rest of the movie lacks art, charm, meanin...           0\n",
      "6                                Wasted two hours.             0\n",
      "7  Saw the movie today and thought it was a good ...           1\n",
      "8                               A bit predictable.             0\n",
      "9  Loved the casting of Jimmy Buffet as the scien...           1\n",
      "                                              review  sentiments\n",
      "0                           Wow... Loved this place.           1\n",
      "1                                 Crust is not good.           0\n",
      "2          Not tasty and the texture was just nasty.           0\n",
      "3  Stopped by during the late May bank holiday of...           1\n",
      "4  The selection on the menu was great and so wer...           1\n",
      "5     Now I am getting angry and I want my damn pho.           0\n",
      "6              Honeslty it didn't taste THAT fresh.)           0\n",
      "7  The potatoes were like rubber and you could te...           0\n",
      "8                          The fries were great too.           1\n",
      "9                                     A great touch.           1\n"
     ]
    }
   ],
   "source": [
    "# Review individual DataFrames for columns to combine\n",
    "print(amazon_df.head(10))\n",
    "print(imdb_df.head(10))\n",
    "print(yelp_df.head(10))"
   ]
  },
  {
   "cell_type": "code",
   "execution_count": 7,
   "metadata": {
    "scrolled": true
   },
   "outputs": [
    {
     "data": {
      "text/plain": [
       "<bound method DataFrame.info of                                                 review  sentiments\n",
       "0    So there is no way for me to plug it in here i...           0\n",
       "1                          Good case, Excellent value.           1\n",
       "2                               Great for the jawbone.           1\n",
       "3    Tied to charger for conversations lasting more...           0\n",
       "4                                    The mic is great.           1\n",
       "..                                                 ...         ...\n",
       "995  The screen does get smudged easily because it ...           0\n",
       "996  What a piece of junk.. I lose more calls on th...           0\n",
       "997                       Item Does Not Match Picture.           0\n",
       "998  The only thing that disappoint me is the infra...           0\n",
       "999  You can not answer calls with the unit, never ...           0\n",
       "\n",
       "[1000 rows x 2 columns]>"
      ]
     },
     "execution_count": 7,
     "metadata": {},
     "output_type": "execute_result"
    }
   ],
   "source": [
    "# Review individual DataFrames info\n",
    "amazon_df.info"
   ]
  },
  {
   "cell_type": "code",
   "execution_count": 8,
   "metadata": {},
   "outputs": [
    {
     "data": {
      "text/plain": [
       "<bound method DataFrame.info of                                                 review  sentiments\n",
       "0    A very, very, very slow-moving, aimless movie ...           0\n",
       "1    Not sure who was more lost - the flat characte...           0\n",
       "2    Attempting artiness with black & white and cle...           0\n",
       "3         Very little music or anything to speak of.             0\n",
       "4    The best scene in the movie was when Gerardo i...           1\n",
       "..                                                 ...         ...\n",
       "743  I just got bored watching Jessice Lange take h...           0\n",
       "744  Unfortunately, any virtue in this film's produ...           0\n",
       "745                   In a word, it is embarrassing.             0\n",
       "746                               Exceptionally bad!             0\n",
       "747  All in all its an insult to one's intelligence...           0\n",
       "\n",
       "[748 rows x 2 columns]>"
      ]
     },
     "execution_count": 8,
     "metadata": {},
     "output_type": "execute_result"
    }
   ],
   "source": [
    "# Review individual DataFrames info\n",
    "imdb_df.info"
   ]
  },
  {
   "cell_type": "code",
   "execution_count": 9,
   "metadata": {},
   "outputs": [
    {
     "data": {
      "text/plain": [
       "<bound method DataFrame.info of                                                 review  sentiments\n",
       "0                             Wow... Loved this place.           1\n",
       "1                                   Crust is not good.           0\n",
       "2            Not tasty and the texture was just nasty.           0\n",
       "3    Stopped by during the late May bank holiday of...           1\n",
       "4    The selection on the menu was great and so wer...           1\n",
       "..                                                 ...         ...\n",
       "995  I think food should have flavor and texture an...           0\n",
       "996                           Appetite instantly gone.           0\n",
       "997  Overall I was not impressed and would not go b...           0\n",
       "998  The whole experience was underwhelming, and I ...           0\n",
       "999  Then, as if I hadn't wasted enough of my life ...           0\n",
       "\n",
       "[1000 rows x 2 columns]>"
      ]
     },
     "execution_count": 9,
     "metadata": {},
     "output_type": "execute_result"
    }
   ],
   "source": [
    "# Review individual DataFrames info\n",
    "yelp_df.info"
   ]
  },
  {
   "cell_type": "code",
   "execution_count": 10,
   "metadata": {},
   "outputs": [
    {
     "data": {
      "text/plain": [
       "{'AMAZON':                                                 review  sentiments\n",
       " 0    So there is no way for me to plug it in here i...           0\n",
       " 1                          Good case, Excellent value.           1\n",
       " 2                               Great for the jawbone.           1\n",
       " 3    Tied to charger for conversations lasting more...           0\n",
       " 4                                    The mic is great.           1\n",
       " ..                                                 ...         ...\n",
       " 995  The screen does get smudged easily because it ...           0\n",
       " 996  What a piece of junk.. I lose more calls on th...           0\n",
       " 997                       Item Does Not Match Picture.           0\n",
       " 998  The only thing that disappoint me is the infra...           0\n",
       " 999  You can not answer calls with the unit, never ...           0\n",
       " \n",
       " [1000 rows x 2 columns],\n",
       " 'IMDB':                                                 review  sentiments\n",
       " 0    A very, very, very slow-moving, aimless movie ...           0\n",
       " 1    Not sure who was more lost - the flat characte...           0\n",
       " 2    Attempting artiness with black & white and cle...           0\n",
       " 3         Very little music or anything to speak of.             0\n",
       " 4    The best scene in the movie was when Gerardo i...           1\n",
       " ..                                                 ...         ...\n",
       " 743  I just got bored watching Jessice Lange take h...           0\n",
       " 744  Unfortunately, any virtue in this film's produ...           0\n",
       " 745                   In a word, it is embarrassing.             0\n",
       " 746                               Exceptionally bad!             0\n",
       " 747  All in all its an insult to one's intelligence...           0\n",
       " \n",
       " [748 rows x 2 columns],\n",
       " 'YELP':                                                 review  sentiments\n",
       " 0                             Wow... Loved this place.           1\n",
       " 1                                   Crust is not good.           0\n",
       " 2            Not tasty and the texture was just nasty.           0\n",
       " 3    Stopped by during the late May bank holiday of...           1\n",
       " 4    The selection on the menu was great and so wer...           1\n",
       " ..                                                 ...         ...\n",
       " 995  I think food should have flavor and texture an...           0\n",
       " 996                           Appetite instantly gone.           0\n",
       " 997  Overall I was not impressed and would not go b...           0\n",
       " 998  The whole experience was underwhelming, and I ...           0\n",
       " 999  Then, as if I hadn't wasted enough of my life ...           0\n",
       " \n",
       " [1000 rows x 2 columns]}"
      ]
     },
     "execution_count": 10,
     "metadata": {},
     "output_type": "execute_result"
    }
   ],
   "source": [
    "# Review sample of individual DataFrame records and shapes\n",
    "companies = [amazon_df, imdb_df, yelp_df]\n",
    "companies_dict = {'AMAZON': amazon_df,\n",
    "              'IMDB': imdb_df,\n",
    "              'YELP': yelp_df}\n",
    "\n",
    "companies_dict"
   ]
  },
  {
   "cell_type": "code",
   "execution_count": 11,
   "metadata": {},
   "outputs": [],
   "source": [
    "# Compile the list of dataframes to merge\n",
    "data_frames = [amazon_df, imdb_df, yelp_df]"
   ]
  },
  {
   "cell_type": "code",
   "execution_count": 12,
   "metadata": {},
   "outputs": [],
   "source": [
    "# Import reduce \n",
    "from functools import reduce\n",
    "\n",
    "# Combine the three DataFrames into one\n",
    "df = reduce(lambda  left,right: pd.merge(left,right, on = ['review', 'sentiments'], how = 'outer'), data_frames)"
   ]
  },
  {
   "cell_type": "code",
   "execution_count": 13,
   "metadata": {},
   "outputs": [
    {
     "data": {
      "text/html": [
       "<div>\n",
       "<style scoped>\n",
       "    .dataframe tbody tr th:only-of-type {\n",
       "        vertical-align: middle;\n",
       "    }\n",
       "\n",
       "    .dataframe tbody tr th {\n",
       "        vertical-align: top;\n",
       "    }\n",
       "\n",
       "    .dataframe thead th {\n",
       "        text-align: right;\n",
       "    }\n",
       "</style>\n",
       "<table border=\"1\" class=\"dataframe\">\n",
       "  <thead>\n",
       "    <tr style=\"text-align: right;\">\n",
       "      <th></th>\n",
       "      <th>review</th>\n",
       "      <th>sentiments</th>\n",
       "    </tr>\n",
       "  </thead>\n",
       "  <tbody>\n",
       "    <tr>\n",
       "      <th>0</th>\n",
       "      <td>So there is no way for me to plug it in here i...</td>\n",
       "      <td>0</td>\n",
       "    </tr>\n",
       "    <tr>\n",
       "      <th>1</th>\n",
       "      <td>Good case, Excellent value.</td>\n",
       "      <td>1</td>\n",
       "    </tr>\n",
       "    <tr>\n",
       "      <th>2</th>\n",
       "      <td>Great for the jawbone.</td>\n",
       "      <td>1</td>\n",
       "    </tr>\n",
       "    <tr>\n",
       "      <th>3</th>\n",
       "      <td>Tied to charger for conversations lasting more...</td>\n",
       "      <td>0</td>\n",
       "    </tr>\n",
       "    <tr>\n",
       "      <th>4</th>\n",
       "      <td>The mic is great.</td>\n",
       "      <td>1</td>\n",
       "    </tr>\n",
       "    <tr>\n",
       "      <th>...</th>\n",
       "      <td>...</td>\n",
       "      <td>...</td>\n",
       "    </tr>\n",
       "    <tr>\n",
       "      <th>2743</th>\n",
       "      <td>I think food should have flavor and texture an...</td>\n",
       "      <td>0</td>\n",
       "    </tr>\n",
       "    <tr>\n",
       "      <th>2744</th>\n",
       "      <td>Appetite instantly gone.</td>\n",
       "      <td>0</td>\n",
       "    </tr>\n",
       "    <tr>\n",
       "      <th>2745</th>\n",
       "      <td>Overall I was not impressed and would not go b...</td>\n",
       "      <td>0</td>\n",
       "    </tr>\n",
       "    <tr>\n",
       "      <th>2746</th>\n",
       "      <td>The whole experience was underwhelming, and I ...</td>\n",
       "      <td>0</td>\n",
       "    </tr>\n",
       "    <tr>\n",
       "      <th>2747</th>\n",
       "      <td>Then, as if I hadn't wasted enough of my life ...</td>\n",
       "      <td>0</td>\n",
       "    </tr>\n",
       "  </tbody>\n",
       "</table>\n",
       "<p>2748 rows × 2 columns</p>\n",
       "</div>"
      ],
      "text/plain": [
       "                                                 review  sentiments\n",
       "0     So there is no way for me to plug it in here i...           0\n",
       "1                           Good case, Excellent value.           1\n",
       "2                                Great for the jawbone.           1\n",
       "3     Tied to charger for conversations lasting more...           0\n",
       "4                                     The mic is great.           1\n",
       "...                                                 ...         ...\n",
       "2743  I think food should have flavor and texture an...           0\n",
       "2744                           Appetite instantly gone.           0\n",
       "2745  Overall I was not impressed and would not go b...           0\n",
       "2746  The whole experience was underwhelming, and I ...           0\n",
       "2747  Then, as if I hadn't wasted enough of my life ...           0\n",
       "\n",
       "[2748 rows x 2 columns]"
      ]
     },
     "execution_count": 13,
     "metadata": {},
     "output_type": "execute_result"
    }
   ],
   "source": [
    "# Confirm merge\n",
    "df"
   ]
  },
  {
   "cell_type": "code",
   "execution_count": 14,
   "metadata": {
    "scrolled": true
   },
   "outputs": [
    {
     "data": {
      "text/plain": [
       "Index(['review', 'sentiments'], dtype='object')"
      ]
     },
     "execution_count": 14,
     "metadata": {},
     "output_type": "execute_result"
    }
   ],
   "source": [
    "# Examine the features of the dataset\n",
    "df.columns"
   ]
  },
  {
   "cell_type": "code",
   "execution_count": 15,
   "metadata": {},
   "outputs": [
    {
     "data": {
      "text/plain": [
       "<bound method DataFrame.info of                                                  review  sentiments\n",
       "0     So there is no way for me to plug it in here i...           0\n",
       "1                           Good case, Excellent value.           1\n",
       "2                                Great for the jawbone.           1\n",
       "3     Tied to charger for conversations lasting more...           0\n",
       "4                                     The mic is great.           1\n",
       "...                                                 ...         ...\n",
       "2743  I think food should have flavor and texture an...           0\n",
       "2744                           Appetite instantly gone.           0\n",
       "2745  Overall I was not impressed and would not go b...           0\n",
       "2746  The whole experience was underwhelming, and I ...           0\n",
       "2747  Then, as if I hadn't wasted enough of my life ...           0\n",
       "\n",
       "[2748 rows x 2 columns]>"
      ]
     },
     "execution_count": 15,
     "metadata": {},
     "output_type": "execute_result"
    }
   ],
   "source": [
    "# View DataFrame info\n",
    "df.info"
   ]
  },
  {
   "cell_type": "code",
   "execution_count": 16,
   "metadata": {},
   "outputs": [
    {
     "data": {
      "text/plain": [
       "review        object\n",
       "sentiments     int64\n",
       "dtype: object"
      ]
     },
     "execution_count": 16,
     "metadata": {},
     "output_type": "execute_result"
    }
   ],
   "source": [
    "# Get data types of features\n",
    "df.dtypes"
   ]
  },
  {
   "cell_type": "code",
   "execution_count": 17,
   "metadata": {},
   "outputs": [
    {
     "name": "stdout",
     "output_type": "stream",
     "text": [
      "review        0\n",
      "sentiments    0\n",
      "dtype: int64\n"
     ]
    }
   ],
   "source": [
    "# Discover missing data points within dataset\n",
    "data_nulls = df.isnull().sum()\n",
    "print(data_nulls)"
   ]
  },
  {
   "cell_type": "code",
   "execution_count": 18,
   "metadata": {
    "scrolled": true
   },
   "outputs": [
    {
     "data": {
      "text/html": [
       "<div>\n",
       "<style scoped>\n",
       "    .dataframe tbody tr th:only-of-type {\n",
       "        vertical-align: middle;\n",
       "    }\n",
       "\n",
       "    .dataframe tbody tr th {\n",
       "        vertical-align: top;\n",
       "    }\n",
       "\n",
       "    .dataframe thead th {\n",
       "        text-align: right;\n",
       "    }\n",
       "</style>\n",
       "<table border=\"1\" class=\"dataframe\">\n",
       "  <thead>\n",
       "    <tr style=\"text-align: right;\">\n",
       "      <th></th>\n",
       "      <th>sentiments</th>\n",
       "    </tr>\n",
       "  </thead>\n",
       "  <tbody>\n",
       "    <tr>\n",
       "      <th>count</th>\n",
       "      <td>2748.000000</td>\n",
       "    </tr>\n",
       "    <tr>\n",
       "      <th>mean</th>\n",
       "      <td>0.504367</td>\n",
       "    </tr>\n",
       "    <tr>\n",
       "      <th>std</th>\n",
       "      <td>0.500072</td>\n",
       "    </tr>\n",
       "    <tr>\n",
       "      <th>min</th>\n",
       "      <td>0.000000</td>\n",
       "    </tr>\n",
       "    <tr>\n",
       "      <th>25%</th>\n",
       "      <td>0.000000</td>\n",
       "    </tr>\n",
       "    <tr>\n",
       "      <th>50%</th>\n",
       "      <td>1.000000</td>\n",
       "    </tr>\n",
       "    <tr>\n",
       "      <th>75%</th>\n",
       "      <td>1.000000</td>\n",
       "    </tr>\n",
       "    <tr>\n",
       "      <th>max</th>\n",
       "      <td>1.000000</td>\n",
       "    </tr>\n",
       "  </tbody>\n",
       "</table>\n",
       "</div>"
      ],
      "text/plain": [
       "        sentiments\n",
       "count  2748.000000\n",
       "mean      0.504367\n",
       "std       0.500072\n",
       "min       0.000000\n",
       "25%       0.000000\n",
       "50%       1.000000\n",
       "75%       1.000000\n",
       "max       1.000000"
      ]
     },
     "execution_count": 18,
     "metadata": {},
     "output_type": "execute_result"
    }
   ],
   "source": [
    "# Get an overview of descriptive statistics\n",
    "df.describe()"
   ]
  },
  {
   "cell_type": "code",
   "execution_count": 19,
   "metadata": {},
   "outputs": [
    {
     "data": {
      "text/plain": [
       "array([0, 1], dtype=int64)"
      ]
     },
     "execution_count": 19,
     "metadata": {},
     "output_type": "execute_result"
    }
   ],
   "source": [
    "# Confirm binary rating system of 0 = negative, 1 = positive\n",
    "df.sentiments.unique()"
   ]
  },
  {
   "cell_type": "code",
   "execution_count": 20,
   "metadata": {},
   "outputs": [
    {
     "name": "stdout",
     "output_type": "stream",
     "text": [
      "Merged Dataframe \n",
      " 1    1386\n",
      "0    1362\n",
      "Name: sentiments, dtype: int64\n"
     ]
    }
   ],
   "source": [
    "# Review positive and negative reviews from merged DataFrame\n",
    "print('Merged Dataframe \\n', df.sentiments.value_counts())"
   ]
  },
  {
   "cell_type": "code",
   "execution_count": 21,
   "metadata": {},
   "outputs": [
    {
     "name": "stdout",
     "output_type": "stream",
     "text": [
      "Merged Dataframe \n",
      " 1    0.504367\n",
      "0    0.495633\n",
      "Name: sentiments, dtype: float64\n"
     ]
    }
   ],
   "source": [
    "# Review positive and negative reviews as percentages\n",
    "print('Merged Dataframe \\n', df.sentiments.value_counts() / len(df))"
   ]
  },
  {
   "cell_type": "code",
   "execution_count": 22,
   "metadata": {},
   "outputs": [
    {
     "data": {
      "text/plain": [
       "0        82\n",
       "1        27\n",
       "2        22\n",
       "3        79\n",
       "4        17\n",
       "       ... \n",
       "2743     66\n",
       "2744     24\n",
       "2745     50\n",
       "2746     91\n",
       "2747    134\n",
       "Name: review, Length: 2748, dtype: int64"
      ]
     },
     "execution_count": 22,
     "metadata": {},
     "output_type": "execute_result"
    }
   ],
   "source": [
    "# Find review lengths\n",
    "length_reviews = df.review.str.len()\n",
    "length_reviews"
   ]
  },
  {
   "cell_type": "code",
   "execution_count": 23,
   "metadata": {
    "scrolled": true
   },
   "outputs": [
    {
     "data": {
      "text/plain": [
       "pandas.core.series.Series"
      ]
     },
     "execution_count": 23,
     "metadata": {},
     "output_type": "execute_result"
    }
   ],
   "source": [
    "# Print reviews type\n",
    "type(length_reviews)"
   ]
  },
  {
   "cell_type": "code",
   "execution_count": 24,
   "metadata": {},
   "outputs": [
    {
     "data": {
      "text/plain": [
       "7"
      ]
     },
     "execution_count": 24,
     "metadata": {},
     "output_type": "execute_result"
    }
   ],
   "source": [
    "# Find shortest review\n",
    "min(length_reviews)"
   ]
  },
  {
   "cell_type": "code",
   "execution_count": 25,
   "metadata": {},
   "outputs": [
    {
     "data": {
      "text/plain": [
       "196812"
      ]
     },
     "execution_count": 25,
     "metadata": {},
     "output_type": "execute_result"
    }
   ],
   "source": [
    "# Sum all reviews\n",
    "sum(length_reviews)"
   ]
  },
  {
   "cell_type": "code",
   "execution_count": 26,
   "metadata": {},
   "outputs": [
    {
     "name": "stdout",
     "output_type": "stream",
     "text": [
      "Longest review is 8041 words.\n"
     ]
    }
   ],
   "source": [
    "# Print length of the longest review\n",
    "print('Longest review is ' + str(max(length_reviews)) + ' words.')"
   ]
  },
  {
   "cell_type": "code",
   "execution_count": 27,
   "metadata": {},
   "outputs": [
    {
     "data": {
      "text/plain": [
       "CountVectorizer(max_features=20)"
      ]
     },
     "execution_count": 27,
     "metadata": {},
     "output_type": "execute_result"
    }
   ],
   "source": [
    "# Perform bag of words tokenization\n",
    "# Import bag count vectorizer function from Scikit-Learn\n",
    "from sklearn.feature_extraction.text import CountVectorizer\n",
    "\n",
    "# Limit features to the top 20 words\n",
    "vect = CountVectorizer(max_features=20)\n",
    "\n",
    "# Fit count vectorizer\n",
    "vect.fit(df.review)"
   ]
  },
  {
   "cell_type": "code",
   "execution_count": 28,
   "metadata": {},
   "outputs": [
    {
     "data": {
      "text/plain": [
       "<2748x20 sparse matrix of type '<class 'numpy.int64'>'\n",
       "\twith 8115 stored elements in Compressed Sparse Row format>"
      ]
     },
     "execution_count": 28,
     "metadata": {},
     "output_type": "execute_result"
    }
   ],
   "source": [
    "# Transform vector\n",
    "X = vect.transform(df.review)\n",
    "X"
   ]
  },
  {
   "cell_type": "code",
   "execution_count": 29,
   "metadata": {},
   "outputs": [],
   "source": [
    "# Transform sparse matrix to array so that it may be visualized\n",
    "my_array = X.toarray()"
   ]
  },
  {
   "cell_type": "code",
   "execution_count": 30,
   "metadata": {},
   "outputs": [],
   "source": [
    "# Build into pandas DataFrame from array, assign column names\n",
    "X_df = pd.DataFrame(my_array, columns = vect.get_feature_names())"
   ]
  },
  {
   "cell_type": "code",
   "execution_count": 31,
   "metadata": {
    "scrolled": true
   },
   "outputs": [
    {
     "data": {
      "text/html": [
       "<div>\n",
       "<style scoped>\n",
       "    .dataframe tbody tr th:only-of-type {\n",
       "        vertical-align: middle;\n",
       "    }\n",
       "\n",
       "    .dataframe tbody tr th {\n",
       "        vertical-align: top;\n",
       "    }\n",
       "\n",
       "    .dataframe thead th {\n",
       "        text-align: right;\n",
       "    }\n",
       "</style>\n",
       "<table border=\"1\" class=\"dataframe\">\n",
       "  <thead>\n",
       "    <tr style=\"text-align: right;\">\n",
       "      <th></th>\n",
       "      <th>and</th>\n",
       "      <th>but</th>\n",
       "      <th>for</th>\n",
       "      <th>good</th>\n",
       "      <th>great</th>\n",
       "      <th>in</th>\n",
       "      <th>is</th>\n",
       "      <th>it</th>\n",
       "      <th>my</th>\n",
       "      <th>not</th>\n",
       "      <th>of</th>\n",
       "      <th>on</th>\n",
       "      <th>that</th>\n",
       "      <th>the</th>\n",
       "      <th>this</th>\n",
       "      <th>to</th>\n",
       "      <th>very</th>\n",
       "      <th>was</th>\n",
       "      <th>with</th>\n",
       "      <th>you</th>\n",
       "    </tr>\n",
       "  </thead>\n",
       "  <tbody>\n",
       "    <tr>\n",
       "      <th>0</th>\n",
       "      <td>0</td>\n",
       "      <td>0</td>\n",
       "      <td>1</td>\n",
       "      <td>0</td>\n",
       "      <td>0</td>\n",
       "      <td>2</td>\n",
       "      <td>1</td>\n",
       "      <td>1</td>\n",
       "      <td>0</td>\n",
       "      <td>0</td>\n",
       "      <td>0</td>\n",
       "      <td>0</td>\n",
       "      <td>0</td>\n",
       "      <td>1</td>\n",
       "      <td>0</td>\n",
       "      <td>1</td>\n",
       "      <td>0</td>\n",
       "      <td>0</td>\n",
       "      <td>0</td>\n",
       "      <td>0</td>\n",
       "    </tr>\n",
       "    <tr>\n",
       "      <th>1</th>\n",
       "      <td>0</td>\n",
       "      <td>0</td>\n",
       "      <td>0</td>\n",
       "      <td>1</td>\n",
       "      <td>0</td>\n",
       "      <td>0</td>\n",
       "      <td>0</td>\n",
       "      <td>0</td>\n",
       "      <td>0</td>\n",
       "      <td>0</td>\n",
       "      <td>0</td>\n",
       "      <td>0</td>\n",
       "      <td>0</td>\n",
       "      <td>0</td>\n",
       "      <td>0</td>\n",
       "      <td>0</td>\n",
       "      <td>0</td>\n",
       "      <td>0</td>\n",
       "      <td>0</td>\n",
       "      <td>0</td>\n",
       "    </tr>\n",
       "    <tr>\n",
       "      <th>2</th>\n",
       "      <td>0</td>\n",
       "      <td>0</td>\n",
       "      <td>1</td>\n",
       "      <td>0</td>\n",
       "      <td>1</td>\n",
       "      <td>0</td>\n",
       "      <td>0</td>\n",
       "      <td>0</td>\n",
       "      <td>0</td>\n",
       "      <td>0</td>\n",
       "      <td>0</td>\n",
       "      <td>0</td>\n",
       "      <td>0</td>\n",
       "      <td>1</td>\n",
       "      <td>0</td>\n",
       "      <td>0</td>\n",
       "      <td>0</td>\n",
       "      <td>0</td>\n",
       "      <td>0</td>\n",
       "      <td>0</td>\n",
       "    </tr>\n",
       "    <tr>\n",
       "      <th>3</th>\n",
       "      <td>0</td>\n",
       "      <td>0</td>\n",
       "      <td>1</td>\n",
       "      <td>0</td>\n",
       "      <td>0</td>\n",
       "      <td>0</td>\n",
       "      <td>0</td>\n",
       "      <td>0</td>\n",
       "      <td>0</td>\n",
       "      <td>0</td>\n",
       "      <td>0</td>\n",
       "      <td>0</td>\n",
       "      <td>0</td>\n",
       "      <td>0</td>\n",
       "      <td>0</td>\n",
       "      <td>1</td>\n",
       "      <td>0</td>\n",
       "      <td>0</td>\n",
       "      <td>0</td>\n",
       "      <td>0</td>\n",
       "    </tr>\n",
       "    <tr>\n",
       "      <th>4</th>\n",
       "      <td>0</td>\n",
       "      <td>0</td>\n",
       "      <td>0</td>\n",
       "      <td>0</td>\n",
       "      <td>1</td>\n",
       "      <td>0</td>\n",
       "      <td>1</td>\n",
       "      <td>0</td>\n",
       "      <td>0</td>\n",
       "      <td>0</td>\n",
       "      <td>0</td>\n",
       "      <td>0</td>\n",
       "      <td>0</td>\n",
       "      <td>1</td>\n",
       "      <td>0</td>\n",
       "      <td>0</td>\n",
       "      <td>0</td>\n",
       "      <td>0</td>\n",
       "      <td>0</td>\n",
       "      <td>0</td>\n",
       "    </tr>\n",
       "    <tr>\n",
       "      <th>5</th>\n",
       "      <td>0</td>\n",
       "      <td>0</td>\n",
       "      <td>0</td>\n",
       "      <td>0</td>\n",
       "      <td>0</td>\n",
       "      <td>0</td>\n",
       "      <td>0</td>\n",
       "      <td>1</td>\n",
       "      <td>0</td>\n",
       "      <td>0</td>\n",
       "      <td>0</td>\n",
       "      <td>0</td>\n",
       "      <td>0</td>\n",
       "      <td>1</td>\n",
       "      <td>0</td>\n",
       "      <td>4</td>\n",
       "      <td>0</td>\n",
       "      <td>0</td>\n",
       "      <td>0</td>\n",
       "      <td>0</td>\n",
       "    </tr>\n",
       "    <tr>\n",
       "      <th>6</th>\n",
       "      <td>0</td>\n",
       "      <td>0</td>\n",
       "      <td>0</td>\n",
       "      <td>0</td>\n",
       "      <td>0</td>\n",
       "      <td>0</td>\n",
       "      <td>0</td>\n",
       "      <td>0</td>\n",
       "      <td>0</td>\n",
       "      <td>0</td>\n",
       "      <td>2</td>\n",
       "      <td>0</td>\n",
       "      <td>0</td>\n",
       "      <td>1</td>\n",
       "      <td>0</td>\n",
       "      <td>0</td>\n",
       "      <td>0</td>\n",
       "      <td>0</td>\n",
       "      <td>0</td>\n",
       "      <td>1</td>\n",
       "    </tr>\n",
       "    <tr>\n",
       "      <th>7</th>\n",
       "      <td>0</td>\n",
       "      <td>0</td>\n",
       "      <td>0</td>\n",
       "      <td>0</td>\n",
       "      <td>0</td>\n",
       "      <td>0</td>\n",
       "      <td>0</td>\n",
       "      <td>0</td>\n",
       "      <td>0</td>\n",
       "      <td>0</td>\n",
       "      <td>0</td>\n",
       "      <td>0</td>\n",
       "      <td>0</td>\n",
       "      <td>0</td>\n",
       "      <td>1</td>\n",
       "      <td>0</td>\n",
       "      <td>0</td>\n",
       "      <td>0</td>\n",
       "      <td>0</td>\n",
       "      <td>2</td>\n",
       "    </tr>\n",
       "    <tr>\n",
       "      <th>8</th>\n",
       "      <td>0</td>\n",
       "      <td>0</td>\n",
       "      <td>0</td>\n",
       "      <td>0</td>\n",
       "      <td>0</td>\n",
       "      <td>0</td>\n",
       "      <td>0</td>\n",
       "      <td>0</td>\n",
       "      <td>1</td>\n",
       "      <td>0</td>\n",
       "      <td>0</td>\n",
       "      <td>0</td>\n",
       "      <td>0</td>\n",
       "      <td>0</td>\n",
       "      <td>0</td>\n",
       "      <td>1</td>\n",
       "      <td>0</td>\n",
       "      <td>0</td>\n",
       "      <td>0</td>\n",
       "      <td>0</td>\n",
       "    </tr>\n",
       "    <tr>\n",
       "      <th>9</th>\n",
       "      <td>1</td>\n",
       "      <td>0</td>\n",
       "      <td>0</td>\n",
       "      <td>0</td>\n",
       "      <td>0</td>\n",
       "      <td>0</td>\n",
       "      <td>0</td>\n",
       "      <td>0</td>\n",
       "      <td>0</td>\n",
       "      <td>0</td>\n",
       "      <td>1</td>\n",
       "      <td>0</td>\n",
       "      <td>0</td>\n",
       "      <td>0</td>\n",
       "      <td>0</td>\n",
       "      <td>0</td>\n",
       "      <td>0</td>\n",
       "      <td>0</td>\n",
       "      <td>0</td>\n",
       "      <td>0</td>\n",
       "    </tr>\n",
       "  </tbody>\n",
       "</table>\n",
       "</div>"
      ],
      "text/plain": [
       "   and  but  for  good  great  in  is  it  my  not  of  on  that  the  this  \\\n",
       "0    0    0    1     0      0   2   1   1   0    0   0   0     0    1     0   \n",
       "1    0    0    0     1      0   0   0   0   0    0   0   0     0    0     0   \n",
       "2    0    0    1     0      1   0   0   0   0    0   0   0     0    1     0   \n",
       "3    0    0    1     0      0   0   0   0   0    0   0   0     0    0     0   \n",
       "4    0    0    0     0      1   0   1   0   0    0   0   0     0    1     0   \n",
       "5    0    0    0     0      0   0   0   1   0    0   0   0     0    1     0   \n",
       "6    0    0    0     0      0   0   0   0   0    0   2   0     0    1     0   \n",
       "7    0    0    0     0      0   0   0   0   0    0   0   0     0    0     1   \n",
       "8    0    0    0     0      0   0   0   0   1    0   0   0     0    0     0   \n",
       "9    1    0    0     0      0   0   0   0   0    0   1   0     0    0     0   \n",
       "\n",
       "   to  very  was  with  you  \n",
       "0   1     0    0     0    0  \n",
       "1   0     0    0     0    0  \n",
       "2   0     0    0     0    0  \n",
       "3   1     0    0     0    0  \n",
       "4   0     0    0     0    0  \n",
       "5   4     0    0     0    0  \n",
       "6   0     0    0     0    1  \n",
       "7   0     0    0     0    2  \n",
       "8   1     0    0     0    0  \n",
       "9   0     0    0     0    0  "
      ]
     },
     "execution_count": 31,
     "metadata": {},
     "output_type": "execute_result"
    }
   ],
   "source": [
    "# Review head of vectorized array\n",
    "X_df.head(10)"
   ]
  },
  {
   "cell_type": "code",
   "execution_count": 32,
   "metadata": {},
   "outputs": [],
   "source": [
    "# Specify n-gram range of vector\n",
    "min_n = 1\n",
    "max_n = 3\n",
    "vect = CountVectorizer(ngram_range=(min_n, max_n))"
   ]
  },
  {
   "cell_type": "markdown",
   "metadata": {},
   "source": [
    "#### Tokenize strings"
   ]
  },
  {
   "cell_type": "code",
   "execution_count": 33,
   "metadata": {},
   "outputs": [],
   "source": [
    "# Import appropriate tokenize function\n",
    "import nltk\n",
    "from nltk import word_tokenize"
   ]
  },
  {
   "cell_type": "code",
   "execution_count": 34,
   "metadata": {},
   "outputs": [
    {
     "data": {
      "text/plain": [
       "list"
      ]
     },
     "execution_count": 34,
     "metadata": {},
     "output_type": "execute_result"
    }
   ],
   "source": [
    "# Iterate of reviews for tokenization with a list comprehension\n",
    "word_tokens = [word_tokenize(review) for review in df.review]\n",
    "type(word_tokens)"
   ]
  },
  {
   "cell_type": "code",
   "execution_count": 35,
   "metadata": {},
   "outputs": [
    {
     "name": "stdout",
     "output_type": "stream",
     "text": [
      "<class 'list'>\n"
     ]
    }
   ],
   "source": [
    "# Print type of individual tokenized review\n",
    "print(type(word_tokens[0]))"
   ]
  },
  {
   "cell_type": "code",
   "execution_count": 36,
   "metadata": {},
   "outputs": [
    {
     "name": "stdout",
     "output_type": "stream",
     "text": [
      "[['So', 'there', 'is', 'no', 'way', 'for', 'me', 'to', 'plug', 'it', 'in', 'here', 'in', 'the', 'US', 'unless', 'I', 'go', 'by', 'a', 'converter', '.'], ['Good', 'case', ',', 'Excellent', 'value', '.'], ['Great', 'for', 'the', 'jawbone', '.'], ['Tied', 'to', 'charger', 'for', 'conversations', 'lasting', 'more', 'than', '45', 'minutes.MAJOR', 'PROBLEMS', '!', '!'], ['The', 'mic', 'is', 'great', '.']]\n"
     ]
    }
   ],
   "source": [
    "# Print first five tokenized reviews\n",
    "print(word_tokens[0:5])"
   ]
  },
  {
   "cell_type": "code",
   "execution_count": 37,
   "metadata": {},
   "outputs": [],
   "source": [
    "# Count how many tokens there are in each tokenized review within our word_tokens list\n",
    "len_tokens = []\n",
    "\n",
    "# Iterate over the word_tokens list\n",
    "for i in range(len(word_tokens)):\n",
    "    len_tokens.append(len(word_tokens[i]))"
   ]
  },
  {
   "cell_type": "code",
   "execution_count": 38,
   "metadata": {},
   "outputs": [
    {
     "data": {
      "text/html": [
       "<div>\n",
       "<style scoped>\n",
       "    .dataframe tbody tr th:only-of-type {\n",
       "        vertical-align: middle;\n",
       "    }\n",
       "\n",
       "    .dataframe tbody tr th {\n",
       "        vertical-align: top;\n",
       "    }\n",
       "\n",
       "    .dataframe thead th {\n",
       "        text-align: right;\n",
       "    }\n",
       "</style>\n",
       "<table border=\"1\" class=\"dataframe\">\n",
       "  <thead>\n",
       "    <tr style=\"text-align: right;\">\n",
       "      <th></th>\n",
       "      <th>review</th>\n",
       "      <th>sentiments</th>\n",
       "    </tr>\n",
       "  </thead>\n",
       "  <tbody>\n",
       "    <tr>\n",
       "      <th>0</th>\n",
       "      <td>So there is no way for me to plug it in here i...</td>\n",
       "      <td>0</td>\n",
       "    </tr>\n",
       "    <tr>\n",
       "      <th>1</th>\n",
       "      <td>Good case, Excellent value.</td>\n",
       "      <td>1</td>\n",
       "    </tr>\n",
       "    <tr>\n",
       "      <th>2</th>\n",
       "      <td>Great for the jawbone.</td>\n",
       "      <td>1</td>\n",
       "    </tr>\n",
       "    <tr>\n",
       "      <th>3</th>\n",
       "      <td>Tied to charger for conversations lasting more...</td>\n",
       "      <td>0</td>\n",
       "    </tr>\n",
       "    <tr>\n",
       "      <th>4</th>\n",
       "      <td>The mic is great.</td>\n",
       "      <td>1</td>\n",
       "    </tr>\n",
       "  </tbody>\n",
       "</table>\n",
       "</div>"
      ],
      "text/plain": [
       "                                              review  sentiments\n",
       "0  So there is no way for me to plug it in here i...           0\n",
       "1                        Good case, Excellent value.           1\n",
       "2                             Great for the jawbone.           1\n",
       "3  Tied to charger for conversations lasting more...           0\n",
       "4                                  The mic is great.           1"
      ]
     },
     "execution_count": 38,
     "metadata": {},
     "output_type": "execute_result"
    }
   ],
   "source": [
    "# Review n_tokens column\n",
    "df.head()"
   ]
  },
  {
   "cell_type": "code",
   "execution_count": 39,
   "metadata": {},
   "outputs": [
    {
     "data": {
      "text/html": [
       "<div>\n",
       "<style scoped>\n",
       "    .dataframe tbody tr th:only-of-type {\n",
       "        vertical-align: middle;\n",
       "    }\n",
       "\n",
       "    .dataframe tbody tr th {\n",
       "        vertical-align: top;\n",
       "    }\n",
       "\n",
       "    .dataframe thead th {\n",
       "        text-align: right;\n",
       "    }\n",
       "</style>\n",
       "<table border=\"1\" class=\"dataframe\">\n",
       "  <thead>\n",
       "    <tr style=\"text-align: right;\">\n",
       "      <th></th>\n",
       "      <th>review</th>\n",
       "      <th>sentiments</th>\n",
       "    </tr>\n",
       "  </thead>\n",
       "  <tbody>\n",
       "    <tr>\n",
       "      <th>0</th>\n",
       "      <td>So there is no way for me to plug it in here i...</td>\n",
       "      <td>0</td>\n",
       "    </tr>\n",
       "    <tr>\n",
       "      <th>1</th>\n",
       "      <td>Good case, Excellent value.</td>\n",
       "      <td>1</td>\n",
       "    </tr>\n",
       "    <tr>\n",
       "      <th>2</th>\n",
       "      <td>Great for the jawbone.</td>\n",
       "      <td>1</td>\n",
       "    </tr>\n",
       "    <tr>\n",
       "      <th>3</th>\n",
       "      <td>Tied to charger for conversations lasting more...</td>\n",
       "      <td>0</td>\n",
       "    </tr>\n",
       "    <tr>\n",
       "      <th>4</th>\n",
       "      <td>The mic is great.</td>\n",
       "      <td>1</td>\n",
       "    </tr>\n",
       "  </tbody>\n",
       "</table>\n",
       "</div>"
      ],
      "text/plain": [
       "                                              review  sentiments\n",
       "0  So there is no way for me to plug it in here i...           0\n",
       "1                        Good case, Excellent value.           1\n",
       "2                             Great for the jawbone.           1\n",
       "3  Tied to charger for conversations lasting more...           0\n",
       "4                                  The mic is great.           1"
      ]
     },
     "execution_count": 39,
     "metadata": {},
     "output_type": "execute_result"
    }
   ],
   "source": [
    "df.head()"
   ]
  },
  {
   "cell_type": "code",
   "execution_count": 40,
   "metadata": {},
   "outputs": [
    {
     "name": "stdout",
     "output_type": "stream",
     "text": [
      "False\n",
      "False\n",
      "False\n",
      "False\n",
      "False\n",
      "False\n",
      "False\n",
      "False\n",
      "False\n",
      "False\n",
      "False\n",
      "False\n",
      "False\n",
      "False\n",
      "False\n",
      "False\n",
      "False\n"
     ]
    }
   ],
   "source": [
    "# Check for unused characters\n",
    "def isEnglish(review):\n",
    "    return review.isascii()\n",
    "\n",
    "for i in df.review:\n",
    "    if isEnglish(i) != True:\n",
    "        print(isEnglish(i))"
   ]
  },
  {
   "cell_type": "code",
   "execution_count": 41,
   "metadata": {},
   "outputs": [
    {
     "name": "stdout",
     "output_type": "stream",
     "text": [
      "this line contains :) emoji\n",
      "this line contains :) emoji\n",
      "this line contains :) emoji\n",
      "this line contains :) emoji\n"
     ]
    }
   ],
   "source": [
    "# Checking for common emoji \"\":)\"\"\n",
    "\n",
    "for i in df.review:\n",
    "    substring = \":)\"\n",
    "    if substring in i:\n",
    "        print(\"this line contains :) emoji\")   "
   ]
  },
  {
   "cell_type": "code",
   "execution_count": 42,
   "metadata": {},
   "outputs": [],
   "source": [
    "# Create a function that returns the number of words in each review\n",
    "def count_words(review):\n",
    "    # Split reviews into words/tokens\n",
    "    words = review.split()\n",
    "    # Return the number of words per review\n",
    "    return len(words)\n",
    "\n",
    "# Create a new feature called \"word_count\"\n",
    "df['word_count'] = df['review'].apply(count_words)"
   ]
  },
  {
   "cell_type": "code",
   "execution_count": 43,
   "metadata": {},
   "outputs": [
    {
     "name": "stdout",
     "output_type": "stream",
     "text": [
      "There are an average of 13.006550218340612 per customer review.\n"
     ]
    }
   ],
   "source": [
    "# Print the average word count of the reviews\n",
    "print('There are an average of ' + str(df['word_count'].mean()) + ' per customer review.' )"
   ]
  },
  {
   "cell_type": "code",
   "execution_count": 44,
   "metadata": {},
   "outputs": [],
   "source": [
    "# Find estimation of vocabulary size; how many unique words are there within the DataFrame\n",
    "unique = set(df['review'].str.replace('[^a-zA-Z]', '').str.lower().str.split(' ').sum())"
   ]
  },
  {
   "cell_type": "code",
   "execution_count": 45,
   "metadata": {},
   "outputs": [
    {
     "name": "stdout",
     "output_type": "stream",
     "text": [
      "There are 2717 unique words in the merged DataFrame.\n"
     ]
    }
   ],
   "source": [
    "# Print length of unique words\n",
    "print('There are ' + str(len(unique)) + ' unique words in the merged DataFrame.')"
   ]
  },
  {
   "cell_type": "code",
   "execution_count": 46,
   "metadata": {},
   "outputs": [
    {
     "data": {
      "text/plain": [
       "'Tied to charger for conversations lasting more than 45 minutes.MAJOR PROBLEMS!!'"
      ]
     },
     "execution_count": 46,
     "metadata": {},
     "output_type": "execute_result"
    }
   ],
   "source": [
    "# Examine sample review\n",
    "df['review'][3]"
   ]
  },
  {
   "cell_type": "code",
   "execution_count": 47,
   "metadata": {},
   "outputs": [],
   "source": [
    "# Clean available urls within the review text\n",
    "import re\n",
    "def clean_url(review_text):\n",
    "    return re.sub('r.http\\S+', '', review_text)\n",
    "\n",
    "# Create clean_review column\n",
    "df['clean_review'] = df['review'].apply(clean_url)"
   ]
  },
  {
   "cell_type": "code",
   "execution_count": 48,
   "metadata": {},
   "outputs": [],
   "source": [
    "# Clean text of superfluous punctuation\n",
    "def clean(txt):\n",
    "    txt = txt.str.replace('(<br/>)', '')\n",
    "    txt = txt.str.replace('(<a).*(>).*(</a>)', '')\n",
    "    txt = txt.str.replace('(&amp)', '')\n",
    "    txt = txt.str.replace('(&gt)', '')\n",
    "    txt = txt.str.replace('(&lt)', '')\n",
    "    txt = txt.str.replace('(\\xa0)', '')\n",
    "    return txt\n",
    "\n",
    "# Refresh clean_review column\n",
    "df['clean_review'] = clean(df['clean_review'])"
   ]
  },
  {
   "cell_type": "code",
   "execution_count": 49,
   "metadata": {},
   "outputs": [
    {
     "data": {
      "text/html": [
       "<div>\n",
       "<style scoped>\n",
       "    .dataframe tbody tr th:only-of-type {\n",
       "        vertical-align: middle;\n",
       "    }\n",
       "\n",
       "    .dataframe tbody tr th {\n",
       "        vertical-align: top;\n",
       "    }\n",
       "\n",
       "    .dataframe thead th {\n",
       "        text-align: right;\n",
       "    }\n",
       "</style>\n",
       "<table border=\"1\" class=\"dataframe\">\n",
       "  <thead>\n",
       "    <tr style=\"text-align: right;\">\n",
       "      <th></th>\n",
       "      <th>review</th>\n",
       "      <th>sentiments</th>\n",
       "      <th>word_count</th>\n",
       "      <th>clean_review</th>\n",
       "    </tr>\n",
       "  </thead>\n",
       "  <tbody>\n",
       "    <tr>\n",
       "      <th>0</th>\n",
       "      <td>So there is no way for me to plug it in here i...</td>\n",
       "      <td>0</td>\n",
       "      <td>21</td>\n",
       "      <td>So there is no way for me to plug it in here i...</td>\n",
       "    </tr>\n",
       "    <tr>\n",
       "      <th>1</th>\n",
       "      <td>Good case, Excellent value.</td>\n",
       "      <td>1</td>\n",
       "      <td>4</td>\n",
       "      <td>Good case, Excellent value.</td>\n",
       "    </tr>\n",
       "    <tr>\n",
       "      <th>2</th>\n",
       "      <td>Great for the jawbone.</td>\n",
       "      <td>1</td>\n",
       "      <td>4</td>\n",
       "      <td>Great for the jawbone.</td>\n",
       "    </tr>\n",
       "    <tr>\n",
       "      <th>3</th>\n",
       "      <td>Tied to charger for conversations lasting more...</td>\n",
       "      <td>0</td>\n",
       "      <td>11</td>\n",
       "      <td>Tied to charger for conversations lasting more...</td>\n",
       "    </tr>\n",
       "    <tr>\n",
       "      <th>4</th>\n",
       "      <td>The mic is great.</td>\n",
       "      <td>1</td>\n",
       "      <td>4</td>\n",
       "      <td>The mic is great.</td>\n",
       "    </tr>\n",
       "    <tr>\n",
       "      <th>...</th>\n",
       "      <td>...</td>\n",
       "      <td>...</td>\n",
       "      <td>...</td>\n",
       "      <td>...</td>\n",
       "    </tr>\n",
       "    <tr>\n",
       "      <th>2743</th>\n",
       "      <td>I think food should have flavor and texture an...</td>\n",
       "      <td>0</td>\n",
       "      <td>12</td>\n",
       "      <td>I think food should have flavor and texture an...</td>\n",
       "    </tr>\n",
       "    <tr>\n",
       "      <th>2744</th>\n",
       "      <td>Appetite instantly gone.</td>\n",
       "      <td>0</td>\n",
       "      <td>3</td>\n",
       "      <td>Appetite instantly gone.</td>\n",
       "    </tr>\n",
       "    <tr>\n",
       "      <th>2745</th>\n",
       "      <td>Overall I was not impressed and would not go b...</td>\n",
       "      <td>0</td>\n",
       "      <td>10</td>\n",
       "      <td>Overall I was not impressed and would not go b...</td>\n",
       "    </tr>\n",
       "    <tr>\n",
       "      <th>2746</th>\n",
       "      <td>The whole experience was underwhelming, and I ...</td>\n",
       "      <td>0</td>\n",
       "      <td>16</td>\n",
       "      <td>The whole experience was underwhelming, and I ...</td>\n",
       "    </tr>\n",
       "    <tr>\n",
       "      <th>2747</th>\n",
       "      <td>Then, as if I hadn't wasted enough of my life ...</td>\n",
       "      <td>0</td>\n",
       "      <td>28</td>\n",
       "      <td>Then, as if I hadn't wasted enough of my life ...</td>\n",
       "    </tr>\n",
       "  </tbody>\n",
       "</table>\n",
       "<p>2748 rows × 4 columns</p>\n",
       "</div>"
      ],
      "text/plain": [
       "                                                 review  sentiments  \\\n",
       "0     So there is no way for me to plug it in here i...           0   \n",
       "1                           Good case, Excellent value.           1   \n",
       "2                                Great for the jawbone.           1   \n",
       "3     Tied to charger for conversations lasting more...           0   \n",
       "4                                     The mic is great.           1   \n",
       "...                                                 ...         ...   \n",
       "2743  I think food should have flavor and texture an...           0   \n",
       "2744                           Appetite instantly gone.           0   \n",
       "2745  Overall I was not impressed and would not go b...           0   \n",
       "2746  The whole experience was underwhelming, and I ...           0   \n",
       "2747  Then, as if I hadn't wasted enough of my life ...           0   \n",
       "\n",
       "      word_count                                       clean_review  \n",
       "0             21  So there is no way for me to plug it in here i...  \n",
       "1              4                        Good case, Excellent value.  \n",
       "2              4                             Great for the jawbone.  \n",
       "3             11  Tied to charger for conversations lasting more...  \n",
       "4              4                                  The mic is great.  \n",
       "...          ...                                                ...  \n",
       "2743          12  I think food should have flavor and texture an...  \n",
       "2744           3                           Appetite instantly gone.  \n",
       "2745          10  Overall I was not impressed and would not go b...  \n",
       "2746          16  The whole experience was underwhelming, and I ...  \n",
       "2747          28  Then, as if I hadn't wasted enough of my life ...  \n",
       "\n",
       "[2748 rows x 4 columns]"
      ]
     },
     "execution_count": 49,
     "metadata": {},
     "output_type": "execute_result"
    }
   ],
   "source": [
    "# Review DataFrame as of recent changes\n",
    "df"
   ]
  },
  {
   "cell_type": "code",
   "execution_count": 50,
   "metadata": {},
   "outputs": [],
   "source": [
    "# Remove irrelevant characters\n",
    "def clean_non_alphanumeric(review_text):\n",
    "    return re.sub('[^a-zA-Z]', ' ', review_text)\n",
    "\n",
    "# Refresh clean_review column\n",
    "df['clean_review'] = df['clean_review'].apply(clean_non_alphanumeric)"
   ]
  },
  {
   "cell_type": "code",
   "execution_count": 51,
   "metadata": {},
   "outputs": [
    {
     "data": {
      "text/html": [
       "<div>\n",
       "<style scoped>\n",
       "    .dataframe tbody tr th:only-of-type {\n",
       "        vertical-align: middle;\n",
       "    }\n",
       "\n",
       "    .dataframe tbody tr th {\n",
       "        vertical-align: top;\n",
       "    }\n",
       "\n",
       "    .dataframe thead th {\n",
       "        text-align: right;\n",
       "    }\n",
       "</style>\n",
       "<table border=\"1\" class=\"dataframe\">\n",
       "  <thead>\n",
       "    <tr style=\"text-align: right;\">\n",
       "      <th></th>\n",
       "      <th>review</th>\n",
       "      <th>sentiments</th>\n",
       "      <th>word_count</th>\n",
       "      <th>clean_review</th>\n",
       "    </tr>\n",
       "  </thead>\n",
       "  <tbody>\n",
       "    <tr>\n",
       "      <th>0</th>\n",
       "      <td>So there is no way for me to plug it in here i...</td>\n",
       "      <td>0</td>\n",
       "      <td>21</td>\n",
       "      <td>so there is no way for me to plug it in here i...</td>\n",
       "    </tr>\n",
       "    <tr>\n",
       "      <th>1</th>\n",
       "      <td>Good case, Excellent value.</td>\n",
       "      <td>1</td>\n",
       "      <td>4</td>\n",
       "      <td>good case  excellent value</td>\n",
       "    </tr>\n",
       "    <tr>\n",
       "      <th>2</th>\n",
       "      <td>Great for the jawbone.</td>\n",
       "      <td>1</td>\n",
       "      <td>4</td>\n",
       "      <td>great for the jawbone</td>\n",
       "    </tr>\n",
       "    <tr>\n",
       "      <th>3</th>\n",
       "      <td>Tied to charger for conversations lasting more...</td>\n",
       "      <td>0</td>\n",
       "      <td>11</td>\n",
       "      <td>tied to charger for conversations lasting more...</td>\n",
       "    </tr>\n",
       "    <tr>\n",
       "      <th>4</th>\n",
       "      <td>The mic is great.</td>\n",
       "      <td>1</td>\n",
       "      <td>4</td>\n",
       "      <td>the mic is great</td>\n",
       "    </tr>\n",
       "    <tr>\n",
       "      <th>...</th>\n",
       "      <td>...</td>\n",
       "      <td>...</td>\n",
       "      <td>...</td>\n",
       "      <td>...</td>\n",
       "    </tr>\n",
       "    <tr>\n",
       "      <th>2743</th>\n",
       "      <td>I think food should have flavor and texture an...</td>\n",
       "      <td>0</td>\n",
       "      <td>12</td>\n",
       "      <td>i think food should have flavor and texture an...</td>\n",
       "    </tr>\n",
       "    <tr>\n",
       "      <th>2744</th>\n",
       "      <td>Appetite instantly gone.</td>\n",
       "      <td>0</td>\n",
       "      <td>3</td>\n",
       "      <td>appetite instantly gone</td>\n",
       "    </tr>\n",
       "    <tr>\n",
       "      <th>2745</th>\n",
       "      <td>Overall I was not impressed and would not go b...</td>\n",
       "      <td>0</td>\n",
       "      <td>10</td>\n",
       "      <td>overall i was not impressed and would not go b...</td>\n",
       "    </tr>\n",
       "    <tr>\n",
       "      <th>2746</th>\n",
       "      <td>The whole experience was underwhelming, and I ...</td>\n",
       "      <td>0</td>\n",
       "      <td>16</td>\n",
       "      <td>the whole experience was underwhelming  and i ...</td>\n",
       "    </tr>\n",
       "    <tr>\n",
       "      <th>2747</th>\n",
       "      <td>Then, as if I hadn't wasted enough of my life ...</td>\n",
       "      <td>0</td>\n",
       "      <td>28</td>\n",
       "      <td>then  as if i hadn t wasted enough of my life ...</td>\n",
       "    </tr>\n",
       "  </tbody>\n",
       "</table>\n",
       "<p>2748 rows × 4 columns</p>\n",
       "</div>"
      ],
      "text/plain": [
       "                                                 review  sentiments  \\\n",
       "0     So there is no way for me to plug it in here i...           0   \n",
       "1                           Good case, Excellent value.           1   \n",
       "2                                Great for the jawbone.           1   \n",
       "3     Tied to charger for conversations lasting more...           0   \n",
       "4                                     The mic is great.           1   \n",
       "...                                                 ...         ...   \n",
       "2743  I think food should have flavor and texture an...           0   \n",
       "2744                           Appetite instantly gone.           0   \n",
       "2745  Overall I was not impressed and would not go b...           0   \n",
       "2746  The whole experience was underwhelming, and I ...           0   \n",
       "2747  Then, as if I hadn't wasted enough of my life ...           0   \n",
       "\n",
       "      word_count                                       clean_review  \n",
       "0             21  so there is no way for me to plug it in here i...  \n",
       "1              4                        good case  excellent value   \n",
       "2              4                             great for the jawbone   \n",
       "3             11  tied to charger for conversations lasting more...  \n",
       "4              4                                  the mic is great   \n",
       "...          ...                                                ...  \n",
       "2743          12  i think food should have flavor and texture an...  \n",
       "2744           3                           appetite instantly gone   \n",
       "2745          10  overall i was not impressed and would not go b...  \n",
       "2746          16  the whole experience was underwhelming  and i ...  \n",
       "2747          28  then  as if i hadn t wasted enough of my life ...  \n",
       "\n",
       "[2748 rows x 4 columns]"
      ]
     },
     "execution_count": 51,
     "metadata": {},
     "output_type": "execute_result"
    }
   ],
   "source": [
    "# Convert all caps to lowercase\n",
    "def clean_case(review_text):\n",
    "    return str(review_text).lower()\n",
    "\n",
    "# Refresh clean_review column\n",
    "df['clean_review'] = df['clean_review'].apply(clean_case)\n",
    "df"
   ]
  },
  {
   "cell_type": "code",
   "execution_count": 52,
   "metadata": {},
   "outputs": [
    {
     "name": "stderr",
     "output_type": "stream",
     "text": [
      "[nltk_data] Downloading package stopwords to\n",
      "[nltk_data]     C:\\Users\\blasa\\AppData\\Roaming\\nltk_data...\n",
      "[nltk_data]   Package stopwords is already up-to-date!\n"
     ]
    },
    {
     "data": {
      "text/html": [
       "<div>\n",
       "<style scoped>\n",
       "    .dataframe tbody tr th:only-of-type {\n",
       "        vertical-align: middle;\n",
       "    }\n",
       "\n",
       "    .dataframe tbody tr th {\n",
       "        vertical-align: top;\n",
       "    }\n",
       "\n",
       "    .dataframe thead th {\n",
       "        text-align: right;\n",
       "    }\n",
       "</style>\n",
       "<table border=\"1\" class=\"dataframe\">\n",
       "  <thead>\n",
       "    <tr style=\"text-align: right;\">\n",
       "      <th></th>\n",
       "      <th>review</th>\n",
       "      <th>sentiments</th>\n",
       "      <th>word_count</th>\n",
       "      <th>clean_review</th>\n",
       "    </tr>\n",
       "  </thead>\n",
       "  <tbody>\n",
       "    <tr>\n",
       "      <th>0</th>\n",
       "      <td>So there is no way for me to plug it in here i...</td>\n",
       "      <td>0</td>\n",
       "      <td>21</td>\n",
       "      <td>way plug us unless go converter</td>\n",
       "    </tr>\n",
       "    <tr>\n",
       "      <th>1</th>\n",
       "      <td>Good case, Excellent value.</td>\n",
       "      <td>1</td>\n",
       "      <td>4</td>\n",
       "      <td>good case excellent value</td>\n",
       "    </tr>\n",
       "    <tr>\n",
       "      <th>2</th>\n",
       "      <td>Great for the jawbone.</td>\n",
       "      <td>1</td>\n",
       "      <td>4</td>\n",
       "      <td>great jawbone</td>\n",
       "    </tr>\n",
       "    <tr>\n",
       "      <th>3</th>\n",
       "      <td>Tied to charger for conversations lasting more...</td>\n",
       "      <td>0</td>\n",
       "      <td>11</td>\n",
       "      <td>tied charger conversations lasting minutes maj...</td>\n",
       "    </tr>\n",
       "    <tr>\n",
       "      <th>4</th>\n",
       "      <td>The mic is great.</td>\n",
       "      <td>1</td>\n",
       "      <td>4</td>\n",
       "      <td>mic great</td>\n",
       "    </tr>\n",
       "    <tr>\n",
       "      <th>...</th>\n",
       "      <td>...</td>\n",
       "      <td>...</td>\n",
       "      <td>...</td>\n",
       "      <td>...</td>\n",
       "    </tr>\n",
       "    <tr>\n",
       "      <th>2743</th>\n",
       "      <td>I think food should have flavor and texture an...</td>\n",
       "      <td>0</td>\n",
       "      <td>12</td>\n",
       "      <td>think food flavor texture lacking</td>\n",
       "    </tr>\n",
       "    <tr>\n",
       "      <th>2744</th>\n",
       "      <td>Appetite instantly gone.</td>\n",
       "      <td>0</td>\n",
       "      <td>3</td>\n",
       "      <td>appetite instantly gone</td>\n",
       "    </tr>\n",
       "    <tr>\n",
       "      <th>2745</th>\n",
       "      <td>Overall I was not impressed and would not go b...</td>\n",
       "      <td>0</td>\n",
       "      <td>10</td>\n",
       "      <td>overall impressed would go back</td>\n",
       "    </tr>\n",
       "    <tr>\n",
       "      <th>2746</th>\n",
       "      <td>The whole experience was underwhelming, and I ...</td>\n",
       "      <td>0</td>\n",
       "      <td>16</td>\n",
       "      <td>whole experience underwhelming think go ninja ...</td>\n",
       "    </tr>\n",
       "    <tr>\n",
       "      <th>2747</th>\n",
       "      <td>Then, as if I hadn't wasted enough of my life ...</td>\n",
       "      <td>0</td>\n",
       "      <td>28</td>\n",
       "      <td>wasted enough life poured salt wound drawing t...</td>\n",
       "    </tr>\n",
       "  </tbody>\n",
       "</table>\n",
       "<p>2748 rows × 4 columns</p>\n",
       "</div>"
      ],
      "text/plain": [
       "                                                 review  sentiments  \\\n",
       "0     So there is no way for me to plug it in here i...           0   \n",
       "1                           Good case, Excellent value.           1   \n",
       "2                                Great for the jawbone.           1   \n",
       "3     Tied to charger for conversations lasting more...           0   \n",
       "4                                     The mic is great.           1   \n",
       "...                                                 ...         ...   \n",
       "2743  I think food should have flavor and texture an...           0   \n",
       "2744                           Appetite instantly gone.           0   \n",
       "2745  Overall I was not impressed and would not go b...           0   \n",
       "2746  The whole experience was underwhelming, and I ...           0   \n",
       "2747  Then, as if I hadn't wasted enough of my life ...           0   \n",
       "\n",
       "      word_count                                       clean_review  \n",
       "0             21                    way plug us unless go converter  \n",
       "1              4                          good case excellent value  \n",
       "2              4                                      great jawbone  \n",
       "3             11  tied charger conversations lasting minutes maj...  \n",
       "4              4                                          mic great  \n",
       "...          ...                                                ...  \n",
       "2743          12                  think food flavor texture lacking  \n",
       "2744           3                            appetite instantly gone  \n",
       "2745          10                    overall impressed would go back  \n",
       "2746          16  whole experience underwhelming think go ninja ...  \n",
       "2747          28  wasted enough life poured salt wound drawing t...  \n",
       "\n",
       "[2748 rows x 4 columns]"
      ]
     },
     "execution_count": 52,
     "metadata": {},
     "output_type": "execute_result"
    }
   ],
   "source": [
    "# Remove stop words\n",
    "# Import nltk functions\n",
    "nltk.download('stopwords')\n",
    "from nltk.corpus import stopwords\n",
    "\n",
    "# Instantiate stopwords\n",
    "stop = stopwords.words('english')\n",
    "df['clean_review'] = df['clean_review'].apply(lambda x: \" \".join(x for x in x.split() if x not in stop))\n",
    "df"
   ]
  },
  {
   "cell_type": "code",
   "execution_count": 53,
   "metadata": {},
   "outputs": [],
   "source": [
    "# Remove rare words \n",
    "freq = pd.Series(' '.join(df['clean_review']).split()).value_counts()\n",
    "less_freq = list(freq[freq == 1].index)\n",
    "\n",
    "# Refresh clean_review column\n",
    "df['clean_review'] = df['clean_review'].apply(lambda x: \" \".join(x for x in x.split() if x not in less_freq))"
   ]
  },
  {
   "cell_type": "code",
   "execution_count": 54,
   "metadata": {},
   "outputs": [
    {
     "data": {
      "text/html": [
       "<div>\n",
       "<style scoped>\n",
       "    .dataframe tbody tr th:only-of-type {\n",
       "        vertical-align: middle;\n",
       "    }\n",
       "\n",
       "    .dataframe tbody tr th {\n",
       "        vertical-align: top;\n",
       "    }\n",
       "\n",
       "    .dataframe thead th {\n",
       "        text-align: right;\n",
       "    }\n",
       "</style>\n",
       "<table border=\"1\" class=\"dataframe\">\n",
       "  <thead>\n",
       "    <tr style=\"text-align: right;\">\n",
       "      <th></th>\n",
       "      <th>review</th>\n",
       "      <th>sentiments</th>\n",
       "      <th>word_count</th>\n",
       "      <th>clean_review</th>\n",
       "    </tr>\n",
       "  </thead>\n",
       "  <tbody>\n",
       "    <tr>\n",
       "      <th>0</th>\n",
       "      <td>So there is no way for me to plug it in here i...</td>\n",
       "      <td>0</td>\n",
       "      <td>21</td>\n",
       "      <td>way plug us unless go</td>\n",
       "    </tr>\n",
       "    <tr>\n",
       "      <th>1</th>\n",
       "      <td>Good case, Excellent value.</td>\n",
       "      <td>1</td>\n",
       "      <td>4</td>\n",
       "      <td>good case excellent value</td>\n",
       "    </tr>\n",
       "    <tr>\n",
       "      <th>2</th>\n",
       "      <td>Great for the jawbone.</td>\n",
       "      <td>1</td>\n",
       "      <td>4</td>\n",
       "      <td>great jawbone</td>\n",
       "    </tr>\n",
       "    <tr>\n",
       "      <th>3</th>\n",
       "      <td>Tied to charger for conversations lasting more...</td>\n",
       "      <td>0</td>\n",
       "      <td>11</td>\n",
       "      <td>charger conversations lasting minutes major pr...</td>\n",
       "    </tr>\n",
       "    <tr>\n",
       "      <th>4</th>\n",
       "      <td>The mic is great.</td>\n",
       "      <td>1</td>\n",
       "      <td>4</td>\n",
       "      <td>mic great</td>\n",
       "    </tr>\n",
       "    <tr>\n",
       "      <th>...</th>\n",
       "      <td>...</td>\n",
       "      <td>...</td>\n",
       "      <td>...</td>\n",
       "      <td>...</td>\n",
       "    </tr>\n",
       "    <tr>\n",
       "      <th>2743</th>\n",
       "      <td>I think food should have flavor and texture an...</td>\n",
       "      <td>0</td>\n",
       "      <td>12</td>\n",
       "      <td>think food flavor texture lacking</td>\n",
       "    </tr>\n",
       "    <tr>\n",
       "      <th>2744</th>\n",
       "      <td>Appetite instantly gone.</td>\n",
       "      <td>0</td>\n",
       "      <td>3</td>\n",
       "      <td>gone</td>\n",
       "    </tr>\n",
       "    <tr>\n",
       "      <th>2745</th>\n",
       "      <td>Overall I was not impressed and would not go b...</td>\n",
       "      <td>0</td>\n",
       "      <td>10</td>\n",
       "      <td>overall impressed would go back</td>\n",
       "    </tr>\n",
       "    <tr>\n",
       "      <th>2746</th>\n",
       "      <td>The whole experience was underwhelming, and I ...</td>\n",
       "      <td>0</td>\n",
       "      <td>16</td>\n",
       "      <td>whole experience underwhelming think go sushi ...</td>\n",
       "    </tr>\n",
       "    <tr>\n",
       "      <th>2747</th>\n",
       "      <td>Then, as if I hadn't wasted enough of my life ...</td>\n",
       "      <td>0</td>\n",
       "      <td>28</td>\n",
       "      <td>wasted enough life salt time took bring check</td>\n",
       "    </tr>\n",
       "  </tbody>\n",
       "</table>\n",
       "<p>2748 rows × 4 columns</p>\n",
       "</div>"
      ],
      "text/plain": [
       "                                                 review  sentiments  \\\n",
       "0     So there is no way for me to plug it in here i...           0   \n",
       "1                           Good case, Excellent value.           1   \n",
       "2                                Great for the jawbone.           1   \n",
       "3     Tied to charger for conversations lasting more...           0   \n",
       "4                                     The mic is great.           1   \n",
       "...                                                 ...         ...   \n",
       "2743  I think food should have flavor and texture an...           0   \n",
       "2744                           Appetite instantly gone.           0   \n",
       "2745  Overall I was not impressed and would not go b...           0   \n",
       "2746  The whole experience was underwhelming, and I ...           0   \n",
       "2747  Then, as if I hadn't wasted enough of my life ...           0   \n",
       "\n",
       "      word_count                                       clean_review  \n",
       "0             21                              way plug us unless go  \n",
       "1              4                          good case excellent value  \n",
       "2              4                                      great jawbone  \n",
       "3             11  charger conversations lasting minutes major pr...  \n",
       "4              4                                          mic great  \n",
       "...          ...                                                ...  \n",
       "2743          12                  think food flavor texture lacking  \n",
       "2744           3                                               gone  \n",
       "2745          10                    overall impressed would go back  \n",
       "2746          16  whole experience underwhelming think go sushi ...  \n",
       "2747          28      wasted enough life salt time took bring check  \n",
       "\n",
       "[2748 rows x 4 columns]"
      ]
     },
     "execution_count": 54,
     "metadata": {},
     "output_type": "execute_result"
    }
   ],
   "source": [
    "# Clean with spelling corrections\n",
    "# !pip install textblob\n",
    "# import textblob\n",
    "from textblob import TextBlob, Word, Blobber\n",
    "df['clean_review'].apply(lambda x: str(TextBlob(x).correct()))\n",
    "df"
   ]
  },
  {
   "cell_type": "code",
   "execution_count": 55,
   "metadata": {},
   "outputs": [],
   "source": [
    "# Stem words to find word roots\n",
    "from nltk.stem import PorterStemmer\n",
    "st = PorterStemmer()\n",
    "\n",
    "# Refresh clean_review column\n",
    "df['clean_review'] = df['clean_review'].apply(lambda x: \" \".join([st.stem(word) for word in x.split()]))"
   ]
  },
  {
   "cell_type": "code",
   "execution_count": 56,
   "metadata": {
    "scrolled": true
   },
   "outputs": [
    {
     "name": "stderr",
     "output_type": "stream",
     "text": [
      "[nltk_data] Downloading package wordnet to\n",
      "[nltk_data]     C:\\Users\\blasa\\AppData\\Roaming\\nltk_data...\n",
      "[nltk_data]   Package wordnet is already up-to-date!\n"
     ]
    }
   ],
   "source": [
    "# Perform lemmatization\n",
    "import nltk\n",
    "nltk.download('wordnet')\n",
    "\n",
    "# Refresh clean_review column\n",
    "df['clean_review'] = df['clean_review'].apply(lambda x: \" \".join([Word(word).lemmatize() for word in x.split()]))"
   ]
  },
  {
   "cell_type": "code",
   "execution_count": 57,
   "metadata": {},
   "outputs": [],
   "source": [
    "# Repeat punctuation removal\n",
    "df['clean_review'] = df['clean_review'].str.replace('[^\\w\\s]', '')"
   ]
  },
  {
   "cell_type": "code",
   "execution_count": 58,
   "metadata": {},
   "outputs": [
    {
     "data": {
      "text/html": [
       "<div>\n",
       "<style scoped>\n",
       "    .dataframe tbody tr th:only-of-type {\n",
       "        vertical-align: middle;\n",
       "    }\n",
       "\n",
       "    .dataframe tbody tr th {\n",
       "        vertical-align: top;\n",
       "    }\n",
       "\n",
       "    .dataframe thead th {\n",
       "        text-align: right;\n",
       "    }\n",
       "</style>\n",
       "<table border=\"1\" class=\"dataframe\">\n",
       "  <thead>\n",
       "    <tr style=\"text-align: right;\">\n",
       "      <th></th>\n",
       "      <th>review</th>\n",
       "      <th>sentiments</th>\n",
       "      <th>word_count</th>\n",
       "      <th>clean_review</th>\n",
       "      <th>polarity</th>\n",
       "    </tr>\n",
       "  </thead>\n",
       "  <tbody>\n",
       "    <tr>\n",
       "      <th>0</th>\n",
       "      <td>So there is no way for me to plug it in here i...</td>\n",
       "      <td>0</td>\n",
       "      <td>21</td>\n",
       "      <td>way plug u unless go</td>\n",
       "      <td>0.00000</td>\n",
       "    </tr>\n",
       "    <tr>\n",
       "      <th>1</th>\n",
       "      <td>Good case, Excellent value.</td>\n",
       "      <td>1</td>\n",
       "      <td>4</td>\n",
       "      <td>good case excel valu</td>\n",
       "      <td>0.70000</td>\n",
       "    </tr>\n",
       "    <tr>\n",
       "      <th>2</th>\n",
       "      <td>Great for the jawbone.</td>\n",
       "      <td>1</td>\n",
       "      <td>4</td>\n",
       "      <td>great jawbon</td>\n",
       "      <td>0.80000</td>\n",
       "    </tr>\n",
       "    <tr>\n",
       "      <th>3</th>\n",
       "      <td>Tied to charger for conversations lasting more...</td>\n",
       "      <td>0</td>\n",
       "      <td>11</td>\n",
       "      <td>charger convers last minut major problem</td>\n",
       "      <td>0.03125</td>\n",
       "    </tr>\n",
       "    <tr>\n",
       "      <th>4</th>\n",
       "      <td>The mic is great.</td>\n",
       "      <td>1</td>\n",
       "      <td>4</td>\n",
       "      <td>mic great</td>\n",
       "      <td>0.80000</td>\n",
       "    </tr>\n",
       "    <tr>\n",
       "      <th>...</th>\n",
       "      <td>...</td>\n",
       "      <td>...</td>\n",
       "      <td>...</td>\n",
       "      <td>...</td>\n",
       "      <td>...</td>\n",
       "    </tr>\n",
       "    <tr>\n",
       "      <th>2743</th>\n",
       "      <td>I think food should have flavor and texture an...</td>\n",
       "      <td>0</td>\n",
       "      <td>12</td>\n",
       "      <td>think food flavor textur lack</td>\n",
       "      <td>0.00000</td>\n",
       "    </tr>\n",
       "    <tr>\n",
       "      <th>2744</th>\n",
       "      <td>Appetite instantly gone.</td>\n",
       "      <td>0</td>\n",
       "      <td>3</td>\n",
       "      <td>gone</td>\n",
       "      <td>0.00000</td>\n",
       "    </tr>\n",
       "    <tr>\n",
       "      <th>2745</th>\n",
       "      <td>Overall I was not impressed and would not go b...</td>\n",
       "      <td>0</td>\n",
       "      <td>10</td>\n",
       "      <td>overal impress would go back</td>\n",
       "      <td>0.00000</td>\n",
       "    </tr>\n",
       "    <tr>\n",
       "      <th>2746</th>\n",
       "      <td>The whole experience was underwhelming, and I ...</td>\n",
       "      <td>0</td>\n",
       "      <td>16</td>\n",
       "      <td>whole experi underwhelm think go sushi next time</td>\n",
       "      <td>0.10000</td>\n",
       "    </tr>\n",
       "    <tr>\n",
       "      <th>2747</th>\n",
       "      <td>Then, as if I hadn't wasted enough of my life ...</td>\n",
       "      <td>0</td>\n",
       "      <td>28</td>\n",
       "      <td>wast enough life salt time took bring check</td>\n",
       "      <td>0.00000</td>\n",
       "    </tr>\n",
       "  </tbody>\n",
       "</table>\n",
       "<p>2748 rows × 5 columns</p>\n",
       "</div>"
      ],
      "text/plain": [
       "                                                 review  sentiments  \\\n",
       "0     So there is no way for me to plug it in here i...           0   \n",
       "1                           Good case, Excellent value.           1   \n",
       "2                                Great for the jawbone.           1   \n",
       "3     Tied to charger for conversations lasting more...           0   \n",
       "4                                     The mic is great.           1   \n",
       "...                                                 ...         ...   \n",
       "2743  I think food should have flavor and texture an...           0   \n",
       "2744                           Appetite instantly gone.           0   \n",
       "2745  Overall I was not impressed and would not go b...           0   \n",
       "2746  The whole experience was underwhelming, and I ...           0   \n",
       "2747  Then, as if I hadn't wasted enough of my life ...           0   \n",
       "\n",
       "      word_count                                      clean_review  polarity  \n",
       "0             21                              way plug u unless go   0.00000  \n",
       "1              4                              good case excel valu   0.70000  \n",
       "2              4                                      great jawbon   0.80000  \n",
       "3             11          charger convers last minut major problem   0.03125  \n",
       "4              4                                         mic great   0.80000  \n",
       "...          ...                                               ...       ...  \n",
       "2743          12                     think food flavor textur lack   0.00000  \n",
       "2744           3                                              gone   0.00000  \n",
       "2745          10                      overal impress would go back   0.00000  \n",
       "2746          16  whole experi underwhelm think go sushi next time   0.10000  \n",
       "2747          28       wast enough life salt time took bring check   0.00000  \n",
       "\n",
       "[2748 rows x 5 columns]"
      ]
     },
     "execution_count": 58,
     "metadata": {},
     "output_type": "execute_result"
    }
   ],
   "source": [
    "# Add polarity of reviews\n",
    "df['polarity'] = df['clean_review'].map(lambda text: TextBlob(text).sentiment.polarity)\n",
    "df"
   ]
  },
  {
   "cell_type": "code",
   "execution_count": 59,
   "metadata": {},
   "outputs": [],
   "source": [
    "# Prepare cleaned DataFrame for visualization\n",
    "negative_review = df[df.sentiments == 0]['clean_review']\n",
    "positive_review = df[df.sentiments == 1]['clean_review']"
   ]
  },
  {
   "cell_type": "code",
   "execution_count": 60,
   "metadata": {},
   "outputs": [],
   "source": [
    "# Prepare lists for visualization of word frequency by plotting bar graph\n",
    "color = ['Accent', 'Paired']\n",
    "split_df = [positive_review, negative_review]"
   ]
  },
  {
   "cell_type": "code",
   "execution_count": 85,
   "metadata": {},
   "outputs": [
    {
     "data": {
      "image/png": "[encoded data removed]",
      "text/plain": [
       "<Figure size 504x360 with 1 Axes>"
      ]
     },
     "metadata": {},
     "output_type": "display_data"
    },
    {
     "data": {
      "image/png": "[encoded data removed]",
      "text/plain": [
       "<Figure size 504x360 with 1 Axes>"
      ]
     },
     "metadata": {},
     "output_type": "display_data"
    },
    {
     "data": {
      "text/plain": [
       "<Figure size 504x360 with 0 Axes>"
      ]
     },
     "metadata": {},
     "output_type": "display_data"
    }
   ],
   "source": [
    "# Visualize by iterating over word lemmas\n",
    "for item in range(3):\n",
    "    try:\n",
    "        plt.figure(figsize = (7, 5))\n",
    "        pd.Series(' '.join([i for i in split_df[item]]).split()).value_counts().head(30).plot(kind = 'bar', colormap = color[item])\n",
    "        plt.show();\n",
    "    except IndexError:\n",
    "        pass"
   ]
  },
  {
   "cell_type": "code",
   "execution_count": 62,
   "metadata": {},
   "outputs": [],
   "source": [
    "# Remove specific words that occur in both positive and negative reviews\n",
    "def word_remover(review):\n",
    "    return ' '.join([i for i in review.split() if i not in ['film', 'get', 'good', 'like', 'movi', 'phone', 'work']])\n",
    "\n",
    "negative_review = negative_review.apply(word_remover)\n",
    "positive_review = positive_review.apply(word_remover)"
   ]
  },
  {
   "cell_type": "markdown",
   "metadata": {},
   "source": [
    "## B2. Tokenization\n",
    "Tokenization is useful for understanding the context of a raw text by breaking it down into sentences and token words. \n",
    "Tokenization helps give greater accuracy to words by analyzing the sequence of words and frequent items that repeat. The process separates our reviews into individual words an lemmas. Lemmas help get the root meaning of the word, but removing prefixes, suffixes to a form that is easily understood by the algorthimn to classify. It is removing noise. In the following section, we will be converting text into numerical form and encoding it into integers. \n",
    "\n",
    "Scikit-learn, Tensorflow, and Keras will be used in the cells. \n",
    "\n",
    "The following parameters will be applied during tokenization: \n",
    "* num_words / vocab_size: maximum number of unique words used \n",
    "* max_length: maximum length of each review, which will be limited to 100\n",
    "* embedding_dim: individual words to be embedded into 16 dimensions\n",
    "* trunc_type: reviews of greater than 100 words will be cut off at 100 word mark. \n",
    "* oov_tok = Out-of-Vocabulary, which will replace any unknown words with ‘oov’ token\n",
    "* padding_type = reviews of less than 100 words will have padding applied until they reach the 100 word mark\n"
   ]
  },
  {
   "cell_type": "code",
   "execution_count": 63,
   "metadata": {},
   "outputs": [
    {
     "name": "stdout",
     "output_type": "stream",
     "text": [
      "Training samples: 1923\n",
      "Test samples: 825\n"
     ]
    }
   ],
   "source": [
    "# Split dataset into training and test sets\n",
    "# Import Scikit-learn function\n",
    "from sklearn.model_selection import train_test_split\n",
    "\n",
    "# Set predictor and outcome variables\n",
    "X = df['clean_review']\n",
    "y = df['sentiments']\n",
    "X_train, X_test, y_train, y_test = train_test_split(X, y, test_size = 0.30, random_state = 42)\n",
    "\n",
    "# Print size of data splits\n",
    "print('Training samples:', X_train.shape[0])\n",
    "print('Test samples:', X_test.shape[0])"
   ]
  },
  {
   "cell_type": "code",
   "execution_count": 64,
   "metadata": {},
   "outputs": [],
   "source": [
    "# Tokenize reviews\n",
    "# Import TensorFlow functions and Tokenizer API\n",
    "from tensorflow.keras.preprocessing.text import Tokenizer\n",
    "from tensorflow.keras.preprocessing.sequence import pad_sequences\n",
    "\n",
    "# Instantiate tokenizer object\n",
    "tokenizer = Tokenizer(oov_token = '<OOV>')\n",
    "\n",
    "# Split dataset with 80% retained for training\n",
    "split = round(len(df) * 0.8)\n",
    "training_reviews = df['clean_review'][:split]\n",
    "training_sentiments = df['sentiments'][:split]\n",
    "test_reviews = df['clean_review'][split:]\n",
    "test_sentiments = df['sentiments'][split:]"
   ]
  },
  {
   "cell_type": "code",
   "execution_count": 65,
   "metadata": {},
   "outputs": [],
   "source": [
    "# Instantiate list for training and test sets\n",
    "training_sentences = []\n",
    "training_labels = [] \n",
    "test_sentences = []\n",
    "test_labels = []\n",
    "\n",
    "# Append lists\n",
    "for row in training_reviews:\n",
    "    training_sentences.append(str(row))\n",
    "for row in training_sentiments:\n",
    "    training_labels.append(row)\n",
    "for row in test_reviews:\n",
    "    test_sentences.append(str(row))\n",
    "for row in test_sentiments:\n",
    "    test_labels.append(row)"
   ]
  },
  {
   "cell_type": "code",
   "execution_count": 66,
   "metadata": {},
   "outputs": [],
   "source": [
    "# Set parameters for vocabulary\n",
    "vocab_size = 2000\n",
    "embedding_dim = 16\n",
    "max_length = 100\n",
    "trunc_type = 'post'\n",
    "oov_tok = '<OOV>'\n",
    "padding_type = 'post'\n",
    "\n",
    "# Instantiate tokenizer object\n",
    "tokenizer = Tokenizer(num_words = vocab_size, oov_token = oov_tok)\n",
    "\n",
    "# Fit tokenizer to training set\n",
    "tokenizer.fit_on_texts(training_sentences)\n",
    "word_index = tokenizer.word_index"
   ]
  },
  {
   "cell_type": "code",
   "execution_count": 67,
   "metadata": {
    "scrolled": true
   },
   "outputs": [
    {
     "name": "stdout",
     "output_type": "stream",
     "text": [
      "Word index:\n",
      " {'<OOV>': 1, 'movi': 2, 'film': 3, 'good': 4, 'phone': 5, 'great': 6, 'work': 7, 'one': 8, 'like': 9, 'time': 10, 'bad': 11, 'use': 12, 'well': 13, 'realli': 14, 'love': 15, 'would': 16, 'place': 17, 'make': 18, 'even': 19, 'servic': 20, 'go': 21, 'get': 22, 'best': 23, 'ever': 24, 'product': 25, 'qualiti': 26, 'look': 27, 'charact': 28, 'also': 29, 'sound': 30, 'food': 31, 'headset': 32, 'recommend': 33, 'made': 34, 'watch': 35, 'excel': 36, 'batteri': 37, 'act': 38, 'see': 39, 'could': 40, 'never': 41, 'better': 42, 'wast': 43, 'price': 44, 'thing': 45, 'disappoint': 46, 'back': 47, 'ear': 48, 'think': 49, 'year': 50, 'first': 51, 'much': 52, 'case': 53, 'way': 54, 'come': 55, 'nice': 56, 'still': 57, 'end': 58, 'play': 59, 'worst': 60, 'scene': 61, 'tri': 62, 'stori': 63, 'problem': 64, 'right': 65, 'say': 66, 'wonder': 67, 'littl': 68, 'real': 69, 'pretti': 70, 'everyth': 71, 'everi': 72, 'peopl': 73, 'call': 74, 'got': 75, 'actor': 76, 'minut': 77, 'two': 78, 'enough': 79, 'feel': 80, 'know': 81, 'plot': 82, 'money': 83, 'piec': 84, 'terribl': 85, 'suck': 86, 'show': 87, 'comfort': 88, 'life': 89, 'want': 90, 'buy': 91, 'lot': 92, 'give': 93, 'seen': 94, 'new': 95, 'fit': 96, 'take': 97, 'noth': 98, 'line': 99, 'day': 100, 'perform': 101, 'screen': 102, 'worth': 103, 'mani': 104, 'cast': 105, 'script': 106, 'far': 107, 'charg': 108, 'poor': 109, 'camera': 110, 'order': 111, 'definit': 112, 'charger': 113, 'easi': 114, 'quit': 115, 'anyon': 116, 'amaz': 117, 'total': 118, 'highli': 119, 'long': 120, 'part': 121, 'enjoy': 122, 'last': 123, 'bought': 124, 'car': 125, 'fine': 126, 'find': 127, 'purchas': 128, 'expect': 129, 'hour': 130, 'funni': 131, 'star': 132, 'interest': 133, 'happi': 134, 'item': 135, 'found': 136, 'thought': 137, 'howev': 138, 'turn': 139, 'bluetooth': 140, 'seem': 141, 'big': 142, 'music': 143, 'job': 144, 'anoth': 145, 'alway': 146, 'aw': 147, 'direct': 148, 'bore': 149, 'pictur': 150, 'drop': 151, 'cool': 152, 'beauti': 153, 'black': 154, 'recept': 155, 'around': 156, 'kind': 157, 'horribl': 158, 'came': 159, 'effect': 160, 'stupid': 161, 'write': 162, 'impress': 163, 'start': 164, 'though': 165, 'absolut': 166, 'need': 167, 'complet': 168, 'cheap': 169, 'incred': 170, 'experi': 171, 'probabl': 172, 'old': 173, 'plug': 174, 'must': 175, 'everyon': 176, 'went': 177, 'talk': 178, 'return': 179, 'reason': 180, 'sinc': 181, 'rate': 182, 'set': 183, 'fantast': 184, 'side': 185, 'lack': 186, 'friendli': 187, 'believ': 188, 'vega': 189, 'delici': 190, 'design': 191, 'hear': 192, 'hold': 193, 'least': 194, 'actual': 195, 'cell': 196, 'small': 197, 'avoid': 198, 'slow': 199, 'overal': 200, 'simpli': 201, 'hand': 202, 'low': 203, 'game': 204, 'especi': 205, 'said': 206, 'director': 207, 'restaur': 208, 'u': 209, 'motorola': 210, 'without': 211, 'left': 212, 'short': 213, 'clear': 214, 'differ': 215, 'devic': 216, 'receiv': 217, 'light': 218, 'done': 219, 'almost': 220, 'care': 221, 'put': 222, 'custom': 223, 'anyth': 224, 'away': 225, 'understand': 226, 'review': 227, 'man': 228, 'art': 229, 'dialogu': 230, 'special': 231, 'volum': 232, 'month': 233, 'help': 234, 'sure': 235, 'featur': 236, 'wear': 237, 'plea': 238, 'stay': 239, 'either': 240, 'famili': 241, 'crap': 242, 'deal': 243, 'wait': 244, 'keep': 245, 'hard': 246, 'saw': 247, 'predict': 248, 'sever': 249, 'imagin': 250, 'second': 251, 'let': 252, 'week': 253, 'white': 254, 'fast': 255, 'full': 256, 'fail': 257, 'le': 258, 'charm': 259, 'night': 260, 'live': 261, 'mess': 262, 'whole': 263, 'final': 264, 'truli': 265, 'next': 266, 'top': 267, 'fact': 268, 'wors': 269, 'eat': 270, 'valu': 271, 'origin': 272, 'three': 273, 'hate': 274, 'button': 275, 'seri': 276, 'cost': 277, 'fall': 278, 'may': 279, 'strong': 280, 'voic': 281, 'glad': 282, 'hope': 283, 'perfectli': 284, 'check': 285, 'extrem': 286, 'felt': 287, 'certainli': 288, 'break': 289, 'rather': 290, 'touch': 291, 'none': 292, 'tv': 293, 'word': 294, 'kid': 295, 'cinematographi': 296, 'drama': 297, 'salad': 298, 'pair': 299, 'yet': 300, 'bar': 301, 'verizon': 302, 'world': 303, 'serious': 304, 'cover': 305, 'song': 306, 'broke': 307, 'free': 308, 'huge': 309, 'flaw': 310, 'jabra': 311, 'human': 312, 'compani': 313, 'child': 314, 'bit': 315, 'tell': 316, 'junk': 317, 'gave': 318, 'amazon': 319, 'face': 320, 'self': 321, 'oh': 322, 'unfortun': 323, 'role': 324, 'wrong': 325, 'took': 326, 'menu': 327, 'entir': 328, 'shot': 329, 'perfect': 330, 'togeth': 331, 'easili': 332, 'consid': 333, 'select': 334, 'horror': 335, 'fresh': 336, 'possibl': 337, 'tast': 338, 'staff': 339, 'burger': 340, 'decent': 341, 'fun': 342, 'run': 343, 'includ': 344, 'garbag': 345, 'audio': 346, 'mind': 347, 'perhap': 348, 'player': 349, 'home': 350, 'high': 351, 'wife': 352, 'awesom': 353, 'replac': 354, 'mean': 355, 'import': 356, 'fri': 357, 'ago': 358, 'coupl': 359, 'today': 360, 'unit': 361, 'given': 362, 'eye': 363, 'cannot': 364, 'happen': 365, 'gener': 366, 'girl': 367, 'cinema': 368, 'creat': 369, 'deserv': 370, 'portray': 371, 'suspens': 372, 'fan': 373, 'intellig': 374, 'serv': 375, 'tabl': 376, 'dish': 377, 'steak': 378, 'flavor': 379, 'pizza': 380, 'unless': 381, 'send': 382, 'kept': 383, 'loud': 384, 'later': 385, 'choic': 386, 'within': 387, 'arriv': 388, 'quickli': 389, 'ship': 390, 'basic': 391, 'earpiec': 392, 'softwar': 393, 'brilliant': 394, 'hous': 395, 'area': 396, 'superb': 397, 'internet': 398, 'obvious': 399, 'connect': 400, 'v': 401, 'lost': 402, 'useless': 403, 'color': 404, 'mostli': 405, 'usual': 406, 'appear': 407, 'cabl': 408, 'weak': 409, 'nokia': 410, 'drive': 411, 'mention': 412, 'bland': 413, 'solid': 414, 'plu': 415, 'point': 416, 'guess': 417, 'told': 418, 'someth': 419, 'mediocr': 420, 'whatev': 421, 'el': 422, 'joy': 423, 'budget': 424, 'written': 425, 'annoy': 426, 'busi': 427, 'pace': 428, 'john': 429, 'attent': 430, 'danc': 431, 'action': 432, 'subtl': 433, 'leav': 434, 'comedi': 435, 'delight': 436, 'atmospher': 437, 'tasti': 438, 'server': 439, 'provid': 440, 'simpl': 441, 'book': 442, 'larg': 443, 'headphon': 444, 'front': 445, 'sometim': 446, 'person': 447, 'super': 448, 'although': 449, 'ask': 450, 'number': 451, 'signal': 452, 'liter': 453, 'goe': 454, 'whether': 455, 'recent': 456, 'rang': 457, 'addit': 458, 'whatsoev': 459, 'ador': 460, 'someon': 461, 'clever': 462, 'allow': 463, 'angel': 464, 'other': 465, 'might': 466, 'difficult': 467, 'result': 468, 'store': 469, 'friend': 470, 'bare': 471, 'samsung': 472, 'pay': 473, 'except': 474, 'open': 475, 'wall': 476, 'manag': 477, 'insid': 478, 'rest': 479, 'wow': 480, 'half': 481, 'buffet': 482, 'hilari': 483, 'deliv': 484, 'singl': 485, 'edit': 486, 'histori': 487, 'level': 488, 'amount': 489, 'flick': 490, 'follow': 491, 'classic': 492, 'terrif': 493, 'rent': 494, 'attempt': 495, 'beyond': 496, 'hitchcock': 497, 'hole': 498, 'master': 499, 'sen': 500, 'visual': 501, 'actress': 502, 'memor': 503, 'throughout': 504, 'style': 505, 'heart': 506, 'tender': 507, 'begin': 508, 'potato': 509, 'dine': 510, 'convers': 511, 'razr': 512, 'blue': 513, 'mobil': 514, 'pull': 515, 'move': 516, 'instead': 517, 'sturdi': 518, 'complaint': 519, 'forget': 520, 'particular': 521, 'die': 522, 'bargain': 523, 'construct': 524, 'bt': 525, 'realiz': 526, 'tremend': 527, 'graphic': 528, 'form': 529, 'embarrass': 530, 'mistak': 531, 'poorli': 532, 'belt': 533, 'hot': 534, 'data': 535, 'along': 536, 'exactli': 537, 'satisfi': 538, 'dead': 539, 'plastic': 540, 'note': 541, 'clariti': 542, 'size': 543, 'read': 544, 'memori': 545, 'comput': 546, 'chang': 547, 'abil': 548, 'describ': 549, 'miss': 550, 'joke': 551, 'forc': 552, 'stop': 553, 'walk': 554, 'idea': 555, 'trash': 556, 'cours': 557, 'quick': 558, 'extra': 559, 'wind': 560, 'produc': 561, 'continu': 562, 'balanc': 563, 'despit': 564, 'etc': 565, 'cut': 566, 'utterli': 567, 'seat': 568, 'audienc': 569, 'ridicul': 570, 'non': 571, 'lame': 572, 'moment': 573, 'talent': 574, 'ladi': 575, 'tom': 576, 'often': 577, 'gross': 578, 'theme': 579, 'cult': 580, 'treat': 581, 'cartoon': 582, 'lead': 583, 'silent': 584, 'step': 585, 'close': 586, 'thriller': 587, 'pathet': 588, 'plain': 589, 'spoiler': 590, 'locat': 591, 'sick': 592, 'waitress': 593, 'guy': 594, 'becom': 595, 'involv': 596, 'period': 597, 'particularli': 598, 'insult': 599, 'documentari': 600, 'spot': 601, 'unbeliev': 602, 'pho': 603, 'beer': 604, 'waiter': 605, 'cook': 606, 'sauc': 607, 'drink': 608, 'breakfast': 609, 'town': 610, 'sushi': 611, 'mic': 612, 'notic': 613, 'clip': 614, 'advis': 615, 'websit': 616, 'own': 617, 'instruct': 618, 'worthless': 619, 'mp': 620, 'keyboard': 621, 'e': 622, 'support': 623, 'angl': 624, 'parti': 625, 'clearli': 626, 'situat': 627, 'troubl': 628, 'longer': 629, 'dont': 630, 'decis': 631, 'rock': 632, 'leather': 633, 'stuff': 634, 'forev': 635, 'state': 636, 'previou': 637, 'tool': 638, 'share': 639, 'thank': 640, 'network': 641, 'function': 642, 'ring': 643, 'tone': 644, 'hit': 645, 'bother': 646, 'abl': 647, 'room': 648, 'issu': 649, 'lightweight': 650, 'authent': 651, 'cute': 652, 'type': 653, 'caus': 654, 'unreli': 655, 'seller': 656, 'plantron': 657, 'lg': 658, 'cant': 659, 'practic': 660, 'easier': 661, 'happier': 662, 'averag': 663, 'outsid': 664, 'wish': 665, 'q': 666, 'exchang': 667, 'earlier': 668, 'zero': 669, 'cingular': 670, 'rington': 671, 'due': 672, 'treo': 673, 'usb': 674, 'genuin': 675, 'normal': 676, 'red': 677, 'surpris': 678, 'readi': 679, 'video': 680, 'power': 681, 'elsewher': 682, 'pas': 683, 'soon': 684, 'son': 685, 'carri': 686, 'rare': 687, 'five': 688, 'ye': 689, 'sister': 690, 'lose': 691, 'young': 692, 'head': 693, 'empti': 694, 'tale': 695, 'true': 696, 'masterpiec': 697, 'th': 698, 'massiv': 699, 'pure': 700, 'pg': 701, 'convinc': 702, 'energi': 703, 'pretenti': 704, 'occasion': 705, 'bring': 706, 'mayb': 707, 'chemistri': 708, 'fear': 709, 'depth': 710, 'fish': 711, 'storylin': 712, 'dislik': 713, 'alreadi': 714, 'tortur': 715, 'premis': 716, 'up': 717, 'age': 718, 'ray': 719, 'charl': 720, 'contain': 721, 'soundtrack': 722, 'water': 723, 'inde': 724, 'theater': 725, 'judg': 726, 'natur': 727, 'entertain': 728, 'nut': 729, 'relationship': 730, 'drago': 731, 'god': 732, 'scamp': 733, 'dog': 734, 'american': 735, 'death': 736, 'roll': 737, 'space': 738, 'seriou': 739, 'mickey': 740, 'jame': 741, 'par': 742, 'dark': 743, 'known': 744, 'heard': 745, 'prepar': 746, 'rice': 747, 'sub': 748, 'appreci': 749, 'damn': 750, 'portion': 751, 'lunch': 752, 'rude': 753, 'bacon': 754, 'jawbon': 755, 'contact': 756, 'owner': 757, 'static': 758, 'odd': 759, 'fire': 760, 'mother': 761, 'pocket': 762, 'pc': 763, 'speed': 764, 'that': 765, 'gonna': 766, 'protect': 767, 'machin': 768, 'glass': 769, 'quiet': 770, 'station': 771, 'packag': 772, 'load': 773, 'ea': 774, 'plan': 775, 'bewar': 776, 'supposedli': 777, 'match': 778, 'display': 779, 'sex': 780, 'setup': 781, 'earbud': 782, 'coverag': 783, 'descript': 784, 'wire': 785, 'build': 786, 'w': 787, 'sharp': 788, 'tip': 789, 'offer': 790, 'handsfre': 791, 'g': 792, 'nearli': 793, 'anyway': 794, 'hair': 795, 'soni': 796, 'favorit': 797, 'market': 798, 'aspect': 799, 'smell': 800, 'scari': 801, 'drain': 802, 'scratch': 803, 'wise': 804, 'microphon': 805, 'uncomfort': 806, 'gotten': 807, 'immedi': 808, 'flip': 809, 'inexpens': 810, 'lo': 811, 'wireless': 812, 'appeal': 813, 'save': 814, 'finish': 815, 'era': 816, 'weird': 817, 'warn': 818, 'alon': 819, 'expens': 820, 'fi': 821, 'sunglass': 822, 'worthwhil': 823, 'regret': 824, 'user': 825, 'piti': 826, 'im': 827, 'nois': 828, 'holster': 829, 'palm': 830, 'edg': 831, 'refund': 832, 'speaker': 833, 'sprint': 834, 'effort': 835, 'killer': 836, 'apart': 837, 'tinni': 838, 'overli': 839, 'tini': 840, 'spring': 841, 'third': 842, 'explain': 843, 'crisp': 844, 'stand': 845, 'occupi': 846, 'rip': 847, 'beat': 848, 'mini': 849, 'r': 850, 'iphon': 851, 'outlet': 852, 'freedom': 853, 'mark': 854, 'sign': 855, 'plenti': 856, 'somewhat': 857, 'date': 858, 'bottom': 859, 'wooden': 860, 'boot': 861, 'foot': 862, 'everywher': 863, 'father': 864, 'materi': 865, 'beep': 866, 'christma': 867, 'control': 868, 'lousi': 869, 'pain': 870, 'flat': 871, 'speak': 872, 'main': 873, 'greatest': 874, 'gem': 875, 'sea': 876, 'faux': 877, 'signific': 878, 'brillianc': 879, 'hill': 880, 'ed': 881, 'green': 882, 'grace': 883, 'neg': 884, 'pointless': 885, 'ann': 886, 'sat': 887, 'twice': 888, 'honestli': 889, 'parent': 890, 'dialog': 891, 'mouth': 892, 'provok': 893, 'lion': 894, 'trip': 895, 'sceneri': 896, 'matur': 897, 'episod': 898, 'remak': 899, 'nobodi': 900, 'conflict': 901, 'disast': 902, 'yeah': 903, 'stereotyp': 904, 'paul': 905, 'woman': 906, 'brain': 907, 'redeem': 908, 'appal': 909, 'present': 910, 'pleasant': 911, 'screenwrit': 912, 'indulg': 913, 'spent': 914, 'daughter': 915, 'rememb': 916, 'sing': 917, 'dvd': 918, 'aerial': 919, 'thrill': 920, 'narr': 921, 'stun': 922, 'fx': 923, 'surprisingli': 924, 'releas': 925, 'mexican': 926, 'rank': 927, 'journey': 928, 'thoroughli': 929, 'summari': 930, 'billi': 931, 'trilog': 932, 'favourit': 933, 'vomit': 934, 'sweet': 935, 'smart': 936, 'stage': 937, 'modern': 938, 'scare': 939, 'toward': 940, 'suppos': 941, 'learn': 942, 'photographi': 943, 'huston': 944, 'steve': 945, 'ruthless': 946, 'war': 947, 'exampl': 948, 'clich': 949, 'thrown': 950, 'scale': 951, 'score': 952, 'frighten': 953, 'oscar': 954, 'knew': 955, 'stanwyck': 956, 'fat': 957, 'footag': 958, 'sort': 959, 'conclus': 960, 'race': 961, 'ten': 962, 'season': 963, 'unconvinc': 964, 'earli': 965, 'martin': 966, 'racial': 967, 'credit': 968, 'watchabl': 969, 'past': 970, 'excus': 971, 'nonsens': 972, 'exquisit': 973, 'south': 974, 'wilkinson': 975, 'laughabl': 976, 'giallo': 977, 'emot': 978, 'cold': 979, 'stink': 980, 'writer': 981, 'pm': 982, 'puppet': 983, 'doubt': 984, 'miyazaki': 985, 'anim': 986, 'sad': 987, 'chicken': 988, 'taco': 989, 'warm': 990, 'salmon': 991, 'greek': 992, 'dress': 993, 'husband': 994, 'pasta': 995, 'min': 996, 'meat': 997, 'spici': 998, 'eaten': 999, 'delish': 1000, 'bathroom': 1001, 'clean': 1002, 'decor': 1003, 'bread': 1004, 'egg': 1005, 'major': 1006, 'dozen': 1007, 'extend': 1008, 'tooth': 1009, 'combin': 1010, 'unus': 1011, 'contract': 1012, 'regard': 1013, 'pda': 1014, 'gadget': 1015, 'essenti': 1016, 'microsoft': 1017, 'tech': 1018, 'eleg': 1019, 'skip': 1020, 'lock': 1021, 'fairli': 1022, 'dock': 1023, 'advertis': 1024, 'handi': 1025, 'boy': 1026, 'cheaper': 1027, 'seamlessli': 1028, 'buyer': 1029, 'appar': 1030, 'pro': 1031, 'rel': 1032, 'resolut': 1033, 'slim': 1034, 'toast': 1035, 'sleek': 1036, 'compromis': 1037, 'keypad': 1038, 'unhappi': 1039, 'winner': 1040, 'logitech': 1041, 'recognit': 1042, 'experienc': 1043, 'blackberri': 1044, 'technolog': 1045, 'messag': 1046, 'faster': 1047, 'whine': 1048, 'maintain': 1049, 'c': 1050, 'igo': 1051, 'option': 1052, 'latest': 1053, 'storag': 1054, 'buzz': 1055, 'overrid': 1056, 'buck': 1057, 'weight': 1058, 'thin': 1059, 'strang': 1060, 'consum': 1061, 'background': 1062, 'excit': 1063, 'gel': 1064, 'purpos': 1065, 'secur': 1066, 'gosh': 1067, 'attract': 1068, 'rubber': 1069, 'unbear': 1070, 'flimsi': 1071, 'flawlessli': 1072, 'cat': 1073, 'strip': 1074, 'remov': 1075, 'dial': 1076, 'neither': 1077, 'ipod': 1078, 'recharg': 1079, 'add': 1080, 'boost': 1081, 'sit': 1082, 'auto': 1083, 'revers': 1084, 'hurt': 1085, 'push': 1086, 'skype': 1087, 'prompt': 1088, 'cheapli': 1089, 'att': 1090, 'distort': 1091, 'forgot': 1092, 'model': 1093, 'enter': 1094, 'modest': 1095, 'built': 1096, 'instal': 1097, 'moto': 1098, 'figur': 1099, 'fulli': 1100, 'card': 1101, 'updat': 1102, 'cumbersom': 1103, 'vx': 1104, 'switch': 1105, 'cellphon': 1106, 'nyc': 1107, 'defect': 1108, 'unaccept': 1109, 'catch': 1110, 'timefram': 1111, 'standard': 1112, 'ugli': 1113, 'improv': 1114, 'accident': 1115, 'listen': 1116, 'kitchen': 1117, 'ampl': 1118, 'eargel': 1119, 'channel': 1120, 'properli': 1121, 'numer': 1122, 'frustrat': 1123, 'broken': 1124, 'develop': 1125, 'oper': 1126, 'pack': 1127, 'brand': 1128, 'comment': 1129, 'fabul': 1130, 'echo': 1131, 'warranti': 1132, 'utter': 1133, 'four': 1134, 'download': 1135, 'smoothli': 1136, 'studi': 1137, 'access': 1138, 'flash': 1139, 'prime': 1140, 'chine': 1141, 'jack': 1142, 'biggest': 1143, 'accept': 1144, 'crash': 1145, 'multipl': 1146, 'span': 1147, 'classi': 1148, 'mainli': 1149, 'metro': 1150, 'conveni': 1151, 'highest': 1152, 'protector': 1153, 'wont': 1154, 'sorri': 1155, 'imposs': 1156, 'discount': 1157, 'doubl': 1158, 'disgust': 1159, 'p': 1160, 'telephon': 1161, 'thumb': 1162, 'awkward': 1163, 'row': 1164, 'current': 1165, 'dirti': 1166, 'answer': 1167, 'laptop': 1168, 'discomfort': 1169, 'confus': 1170, 'cutout': 1171, 'ok': 1172, 'wild': 1173, 'loo': 1174, 'otherwis': 1175, 'z': 1176, 'certain': 1177, 'unsatisfactori': 1178, 'hype': 1179, 'blew': 1180, 'becam': 1181, 'jimmi': 1182, 'term': 1183, 'canada': 1184, 'sequel': 1185, 'unfunni': 1186, 'fare': 1187, 'morgan': 1188, 'jonah': 1189, 'lazi': 1190, 'presenc': 1191, 'obviou': 1192, 'lesser': 1193, 'french': 1194, 'whini': 1195, 'futur': 1196, 'warmth': 1197, 'unpredict': 1198, 'badli': 1199, 'alexand': 1200, 'artist': 1201, 'superbl': 1202, 'b': 1203, 'list': 1204, 'heaven': 1205, 'church': 1206, 'uplift': 1207, 'frankli': 1208, 'lane': 1209, 'chick': 1210, 'bold': 1211, 'idiot': 1212, 'accus': 1213, 'afraid': 1214, 'sandra': 1215, 'bullock': 1216, 'dramat': 1217, 'tension': 1218, 'central': 1219, 'handl': 1220, 'core': 1221, 'bunch': 1222, 'hell': 1223, 'view': 1224, 'paid': 1225, 'quinn': 1226, 'crazi': 1227, 'girlfriend': 1228, 'dollar': 1229, 'mad': 1230, 'cardboard': 1231, 'craft': 1232, 'depress': 1233, 'racism': 1234, 'charisma': 1235, 'explan': 1236, 'drag': 1237, 'wayn': 1238, 'industri': 1239, 'noteworthi': 1240, 'blood': 1241, 'jami': 1242, 'geniu': 1243, 'henc': 1244, 'mishima': 1245, 'uninterest': 1246, 'chilli': 1247, 'cultur': 1248, 'schrader': 1249, 'struck': 1250, 'realist': 1251, 'chanc': 1252, 'deepli': 1253, 'june': 1254, 'angri': 1255, 'matter': 1256, 'noir': 1257, 'complex': 1258, 'psycholog': 1259, 'soul': 1260, 'grip': 1261, 'disturb': 1262, 'jerki': 1263, 'camerawork': 1264, 'witti': 1265, 'ceas': 1266, 'remain': 1267, 'suffer': 1268, 'smile': 1269, 'wrap': 1270, 'coppola': 1271, 'unfold': 1272, 'contrast': 1273, 'sublim': 1274, 'offens': 1275, 'poetri': 1276, 'femal': 1277, 'danger': 1278, 'reaction': 1279, 'twist': 1280, 'shed': 1281, 'underneath': 1282, 'bakeri': 1283, 'assist': 1284, 'laugh': 1285, 'de': 1286, 'tape': 1287, 'wholesom': 1288, 'bear': 1289, 'kinda': 1290, 'question': 1291, 'luci': 1292, 'america': 1293, 'composit': 1294, 'brian': 1295, 'member': 1296, 'identifi': 1297, 'conneri': 1298, 'robert': 1299, 'murder': 1300, 'humour': 1301, 'hollywood': 1302, 'thu': 1303, 'undoubtedli': 1304, 'popular': 1305, 'posit': 1306, 'european': 1307, 'caught': 1308, 'junkyard': 1309, 'pile': 1310, 'corn': 1311, 'box': 1312, 'directori': 1313, 'proud': 1314, 'sand': 1315, 'sake': 1316, 'glanc': 1317, 'public': 1318, 'fox': 1319, 'unrecogniz': 1320, 'relat': 1321, 'taylor': 1322, 'chow': 1323, 'cheesi': 1324, 'proceed': 1325, 'remot': 1326, 'merci': 1327, 'kill': 1328, 'overact': 1329, 'english': 1330, 'hackney': 1331, 'blah': 1332, 'length': 1333, 'air': 1334, 'afternoon': 1335, 'fascin': 1336, 'behind': 1337, 'humor': 1338, 'began': 1339, 'realiti': 1340, 'centuri': 1341, 'implaus': 1342, 'jean': 1343, 'studio': 1344, 'middl': 1345, 'betti': 1346, 'asid': 1347, 'mous': 1348, 'ground': 1349, 'crowd': 1350, 'pleaser': 1351, 'turkey': 1352, 'among': 1353, 'shame': 1354, 'dumb': 1355, 'zombi': 1356, 'notabl': 1357, 'sequenc': 1358, 'teeth': 1359, 'sum': 1360, 'asleep': 1361, 'element': 1362, 'fifteen': 1363, 'volcano': 1364, 'honest': 1365, 'abysm': 1366, 'dedic': 1367, 'versu': 1368, 'focu': 1369, 'underli': 1370, 'engag': 1371, 'errol': 1372, 'flynn': 1373, 'dull': 1374, 'surround': 1375, 'nasti': 1376, 'sci': 1377, 'reveal': 1378, 'africa': 1379, 'process': 1380, 'shakespear': 1381, 'macbeth': 1382, 'brief': 1383, 'moral': 1384, 'decay': 1385, 'evil': 1386, 'adapt': 1387, 'costum': 1388, 'ball': 1389, 'joe': 1390, 'watkin': 1391, 'peter': 1392, 'hollow': 1393, 'expert': 1394, 'as': 1395, 'cole': 1396, 'disgrac': 1397, 'sleep': 1398, 'achiev': 1399, 'late': 1400, 'tough': 1401, 'whenev': 1402, 'earth': 1403, 'emili': 1404, 'watson': 1405, 'compel': 1406, 'sentiment': 1407, 'trap': 1408, 'fulci': 1409, 'genr': 1410, 'italian': 1411, 'event': 1412, 'slightest': 1413, 'duet': 1414, 'astronaut': 1415, 'doctor': 1416, 'courtroom': 1417, 'highlight': 1418, 'discov': 1419, 'underst': 1420, 'base': 1421, 'belli': 1422, 'male': 1423, 'phenomen': 1424, 'neil': 1425, 'sharpli': 1426, 'struggl': 1427, 'childhood': 1428, 'lord': 1429, 'atroci': 1430, 'spoil': 1431, 'refer': 1432, 'dream': 1433, 'hip': 1434, 'loneli': 1435, 'emilio': 1436, 'estevez': 1437, 'interplay': 1438, 'street': 1439, 'reader': 1440, 'depict': 1441, 'ponyo': 1442, 'refresh': 1443, 'wave': 1444, 'ad': 1445, 'lang': 1446, 'crust': 1447, 'textur': 1448, 'overpr': 1449, 'overwhelm': 1450, 'bite': 1451, 'familiar': 1452, 'visit': 1453, 'shrimp': 1454, 'dessert': 1455, 'beef': 1456, 'sandwich': 1457, 'duck': 1458, 'attack': 1459, 'seafood': 1460, 'scallop': 1461, 'appet': 1462, 'salt': 1463, 'batter': 1464, 'roast': 1465, 'bye': 1466, 'cafe': 1467, 'marrow': 1468, 'meal': 1469, 'lover': 1470, 'thai': 1471, 'ambianc': 1472, 'pork': 1473, 'cream': 1474, 'subway': 1475, 'curri': 1476, 'bay': 1477, 'stale': 1478, 'phoenix': 1479, 'healthi': 1480, 'ice': 1481, 'chip': 1482, 'wing': 1483, 'bowl': 1484, 'gold': 1485, 'bug': 1486, 'shower': 1487, 'lobster': 1488, 'bisqu': 1489, 'folk': 1490, 'yum': 1491, 'tea': 1492, 'patio': 1493, 'outstand': 1494, 'bachi': 1495, 'stir': 1496, 'mom': 1497, 'stuf': 1498, 'dinner': 1499, 'needle': 1500, 'juic': 1501, 'neat': 1502, 'hardli': 1503, 'rotat': 1504, 'thru': 1505, 'compliment': 1506, 'promptli': 1507, 'key': 1508, 'deliveri': 1509, 'luck': 1510, 'somehow': 1511, 'via': 1512, 'smoke': 1513, 'refus': 1514, 'lightli': 1515, 'complain': 1516, 'babi': 1517, 'fill': 1518, 'tonight': 1519, 'club': 1520, 'correct': 1521, 'paper': 1522, 'boyfriend': 1523, 'gone': 1524, 'older': 1525, 'forth': 1526, 'sour': 1527, 'disbelief': 1528, 'array': 1529, 'dri': 1530, 'wide': 1531, 'japanes': 1532, 'brother': 1533, 'ryan': 1534, 'uniqu': 1535, 'circumst': 1536, 'round': 1537, 'awkwardli': 1538, 'indoor': 1539, 'class': 1540, 'famou': 1541, 'version': 1542, 'monster': 1543, 'ga': 1544, 'fair': 1545, 'limit': 1546, 'vibe': 1547, 'guest': 1548, 'typic': 1549, 'thick': 1550, 'blown': 1551, 'extraordinari': 1552, 'court': 1553, 'opinion': 1554, 'sampl': 1555, 'tongu': 1556, 'cheek': 1557, 'remind': 1558, 'spend': 1559, 'consist': 1560, 'suggest': 1561, 'tradit': 1562, 'deep': 1563, 'cashier': 1564, 'mmmm': 1565, 'brought': 1566, 'sashimi': 1567, 'favor': 1568, 'moist': 1569, 'establish': 1570, 'frozen': 1571, 'pita': 1572, 'hummu': 1573, 'char': 1574, 'attitud': 1575, 'grill': 1576, 'downtown': 1577, 'tasteless': 1578, 'refil': 1579, 'chewi': 1580, 'meh': 1581, 'opportun': 1582, 'underwhelm': 1583, 'greas': 1584, 'sugari': 1585, 'six': 1586, 'yummi': 1587, 'garlic': 1588, 'mari': 1589, 'wine': 1590, 'bartend': 1591, 'ambienc': 1592, 'indian': 1593, 'crispi': 1594, 'tuna': 1595, 'melt': 1596, 'bagel': 1597, 'chees': 1598, 'ate': 1599, 'greet': 1600, 'joint': 1601, 'vegetarian': 1602, 'overcook': 1603, 'charcoal': 1604, 'decid': 1605, 'dirt': 1606, 'butter': 1607, 'gyro': 1608, 'valley': 1609, 'disrespect': 1610, 'brunch': 1611, 'soggi': 1612, 'filet': 1613, 'pepper': 1614, 'chef': 1615, 'cheeseburg': 1616, 'mayo': 1617, 'creami': 1618, 'similar': 1619, 'stick': 1620, 'tap': 1621, 'coffe': 1622, 'boba': 1623, 'neighborhood': 1624, 'soooo': 1625, 'summer': 1626, 'omg': 1627, 'veget': 1628, 'brick': 1629, 'oven': 1630, 'equal': 1631, 'pancak': 1632, 'door': 1633, 'soup': 1634, 'lukewarm': 1635, 'stomach': 1636, 'eggplant': 1637, 'bean': 1638, 'mall': 1639, 'impecc': 1640, 'pop': 1641, 'assur': 1642, 'regular': 1643, 'profession': 1644, 'nicest': 1645, 'biscuit': 1646, 'cow': 1647}\n"
     ]
    }
   ],
   "source": [
    "# Print word index\n",
    "print(\"Word index:\\n\", word_index)"
   ]
  },
  {
   "cell_type": "code",
   "execution_count": 68,
   "metadata": {},
   "outputs": [
    {
     "name": "stdout",
     "output_type": "stream",
     "text": [
      "The vocabulary includes 1647 words.\n"
     ]
    }
   ],
   "source": [
    "print('The vocabulary includes ' + str(len(word_index)) + ' words.')"
   ]
  },
  {
   "cell_type": "markdown",
   "metadata": {},
   "source": [
    "##  B3. Padding Process\n",
    "In this deep learning model, uniform setence length is one of the parameters. In Keras, the padding process standardizes a dataset of reviews with many different lengths, which include pre and post methods. In reviews of less that 100 words, posting methods will be used, where the sentence will be padded at the end. "
   ]
  },
  {
   "cell_type": "markdown",
   "metadata": {},
   "source": [
    "For our deep learning model we require a uniform sentence length. The Keras padding process standardizes a dataset of reviews with many different lengths.  Padding methods include \"pre\" or \"post\".  We have chosen to pad sentences at the end, the \"post\" argument, when we have a sentence length of of less than 100 words."
   ]
  },
  {
   "cell_type": "code",
   "execution_count": 69,
   "metadata": {},
   "outputs": [],
   "source": [
    "# Pad sentences\n",
    "sequences = tokenizer.texts_to_sequences(training_sentences)\n",
    "padded = pad_sequences(sequences, maxlen = max_length, truncating = trunc_type)\n",
    "test_sentences = tokenizer.texts_to_sequences(test_sentences)\n",
    "testing_padded = pad_sequences(test_sentences, maxlen = max_length)"
   ]
  },
  {
   "cell_type": "code",
   "execution_count": 70,
   "metadata": {},
   "outputs": [
    {
     "name": "stdout",
     "output_type": "stream",
     "text": [
      "\n",
      "Training sequences:\n",
      " ['way plug u unless go', 'good case excel valu', 'great jawbon', 'charger convers last minut major problem', 'mic great', 'plug get line right get decent volum', 'sever dozen sever contact imagin fun send one one', 'razr owner must', 'needle say wast money', 'wast money time', 'sound qualiti great', 'impress go origin batteri extend batteri', 'two start notic static sound headset', 'good qualiti though', 'design odd ear clip comfort', 'highli recommend one blue tooth phone', 'advis everyon', 'far good', 'work great', 'work great', 'place way make wonder long would last', 'went motorola websit could get pair', 'bought use fire absolut love', '', 'yet run new batteri two bar three day without charg', 'bought mother problem batteri', 'great pocket pc phone combin', 'own phone month say best mobil phone', 'think instruct provid help', 'peopl hear talk pull talk phone', 'hold charg', 'simpl littl phone use', 'product peopl like ear', 'unus move car speed', 'two year left contract hate phone', 'car charger well charger includ make sure never run juic recommend', 'need least get phone book time first turn phone batteri life short', 'kept well', 'poor talk time perform', 'case great work fine', 'worthless product', 'great camera that mp nice clear great pictur qualiti', 'impress product', 'nice headset price right', 'hear garbag audio', 'excel bluetooth headset', 'featur want', 'right mind gonna buy batteri', 'verizon regard drop call return phone two day', 'case seem well made', 'disappoint batteri', 'loud enough turn like', 'good protect make phone', 'keyboard actual turn pda real world machin instead neat gadget', 'phone pretti sturdi never larg problem', 'love thing', 'everyth fine reason price e', 'disappoint', 'even drop phone second still work great', 'happi complaint one regard sound qualiti end', 'button bad', 'essenti forget microsoft tech support', 'realli recommend sinc look nice eleg cool', 'headphon great find think perhap best purchas made last sever year serious', 'buy differ phone', 'hold phone particular angl parti hear clearli', 'one big mp player button phone front cover let skip song lock second', 'week later die', 'feel comfort headset wear glass get way sometim', 'great', 'devic great sever situat', 'mic work', 'even seri fairli quiet troubl person say', 'great choic', 'nice dock station home work', 'beauti phone', 'love product', 'buy advertis', 'great littl item', 'love phone handi lot featur', 'purchas within day longer work', 'wear hold well', 'good bargain', 'well packag arriv time work', 'batteri quickli', 'item work great broke month use', 'headset easi use everyon love', 'phone work great', 'construct headset poor', 'product excel work better verizon one boy cheaper', 'phone load super', 'product cost much one expect work far better ea thing', 'made sturdi', 'work great', 'ear play music one ear', 'dont wast money', 'order', 'plan use car forget', 'found product big', 'best found far tri one best qualiti well ea use', 'disappoint decis', 'seamlessli motorola razr phone', 'buyer bewar could money right', 'definit bargain', 'price good free ship good purchas', 'receiv supposedli new motorola appar match phone charger', 'pro good camera nice pictur also cool like black white', 'huge design flaw unless use think case', 'love headset jabra bluetooth headset great recept good ear piec comfort fit', 'camera although rate impress fall well expect rel high resolut', 'car charger work', 'sound qualiti end excel use headset call wife ask wife use headset call', 'phone slim light display beauti', 'littl think that sex toast rock sex right batteri sleek leather case', 'great product fast ship', 'absolut great', 'keyboard nice compromis full basic cell phone number keypad', 'got phone around end may complet unhappi', 'comfort ear', 'winner u', 'setup', 'tri sever differ earpiec cell phone jabra one first one found fit ear comfort', 'could get strong enough signal', 'plea purchas', 'bad qualiti', 'get job done', 'great audio', 'basic servic bad', 'work cell phone plug set charger', 'bluetooth week realli like', 'bt headset', 'small even realiz get use', 'softwar almost brilliant', 'headset work great packag avoid', 'recommend', 'buyer care', 'logitech earbud headset fail', 'good stuff price', 'headset work', 'hous get drop coverag coverag', 'voic recognit tremend', 'wast', 'sever differ minut call experienc drop area bar', 'happi item', 'disappoint', 'phone take forev charg like hour liter', 'got phone glad', 'wast time', 'recept poor', 'state includ descript includ', 'month screen went black', 'hope', 'audio qualiti poor poor', 'absolut problem headset blackberri', 'know sound funni seem like technolog work well well one work great', 'bought wire headphon sound better', 'phone fast send kind messag faster previou phone use', 'nice qualiti build cheap', 'item fantast work perfectli', 'love', 'w superb', 'whine internet goe use thing le like', 'great charger', 'essenti tool', 'work like charm work one got phone', 'still maintain make headphon obvious share enough design human', 'great valu', 'work c work', 'look sharp screen nice clear great graphic', 'last long', 'one thing hate set button side', 'excel servic', 'thank wast money', 'audio qualiti poor', 'igo charger tip realli great', 'offer option one need handsfre great', 'superb phone great network', 'connect wife bluetooth motorola phone work like charm whether phone pocket case', 'put latest v g like slow lock everi', 'phone storag devic', 'like loud buzz overrid convers phone', 'like loud buzz overrid convers phone', 'buy product', 'buy product', 'headset time still comfort way fit ear', 'sound qualiti good function awesom', 'phone side realli', 'recent problem could stay connect minut', 'incred', 'design flaw', 'great phone', 'great phone', 'wast buck', 'check voic night keypad turn second first lost', 'replac die week', 'ring tone overal good phone buy', 'extrem nice help phone', 'problem hit drop signal', 'impress', 'light weight hardli notic', 'love thin', 'bad choic', 'case fit', 'useless phone simpli', 'color even thought would graphic incred sharp', 'think good', 'make strang end call', 'best', 'batteri last hour', 'great headset impress', 'camera part phone reason good', 'nearli year work great', 'good audio', 'send back', 'bother compani product bought form anyway', 'hate avoid phone mean', 'great price also', 'rang decent abl around hous phone live room recept sound qualiti issu', 'fast servic', 'would highli recommend', 'would recommend', 'also like button felt like would use', 'worst phone ever', 'still phone', '', 'kind embarrass use look mostli embarrass child like compani', 'simpl lightweight great fit', 'expect better consum experi motorola', 'horribl sound background call never experienc', 'certainli comfort function decent', 'usual like one lightweight mess hair', 'bit disappoint', 'phone year tell great', 'order soni w think work that first use', 'batteri complet useless', 'big wast time', 'wast one', 'great sound servic', 'realli plea product far', 'one favorit ever', 'best bluetooth market', 'authent leather nice comfort recommend case', 'excit get headset thought realli cute', 'make mistak', 'big disappoint', 'phone unus new', 'worst custom servic ever', 'addit ear gel provid instruct whatsoev', 'purpos bluetooth headset', 'worth everi', 'excel type phone case', 'nice headphon price work great', 'internet slow', 'comfort wear well probabl import aspect use case', 'fit like strong secur', 'gosh best phone ever', 'attract appear good qualiti', 'love featur form', 'product strong rubber smell unbear caus return', 'poor qualiti servic', 'cabl look thin flimsi scari', 'great earpiec', 'excel hand free tool', 'great use home', 'good product incred valu', 'month work flawlessli far', 'work great', 'work great', 'junk', 'one work either', 'batteri life real good', 'return hour later', 'great item', 'wast money', 'love headset', 'drain player may also fri', 'work perfectli', 'unreli give', 'gave star sound qualiti', 'avoid one', 'plug work great', 'wast littl money earpiec', 'good phone', 'best rotat featur help', 'comfort whole famili', 'good product good seller', 'love bluetooth', 'first wear well', 'impress headset plantron', 'got small ador', 'recommend buy product', 'piec junk', 'poorli', 'item great let charg work good everi sinc problem', 'great phone', 'great phone', 'buy', 'excel phone', 'purchas phone', 'voic recognit thru excel', 'hand best phone ever', 'work great cat phone scratch strip instead screen', 'one work price right', 'custom servic terribl', 'batteri life still long enough motorola v', 'send back', 'know made wise decis', 'someon', 'good price', 'everyth work first tri devic certainli clever way construct feel good', 'receiv quickli work great', 'work great', 'mani peopl found headset microphon weak', 'year old nokia hold charg lot better', 'care consum one bit', 'good batteri got realli fast', 'lack', 'also slim enough fit dock station without remov case', 'phone hold charg like new', 'batteri unreli well servic use', 'uncomfort sound qualiti quit poor phone razr previou wire headset plug lg', 'gotten lot compliment', 'definit must state allow cell phone drive', 'want money back', 'love devic', 'also happi price', 'order product first unhappi immedi', 'still lack', 'abl voic dial car problem', 'bar cell phone home cant hear anyth', 'good item low price', 'howev best neither game', 'plug work well', 'amazon suck', 'charg ship', 'comfort', 'batteri work well replac origin came phone year ago', 'recept excel', 'fit comfort either ear sound clear loud charg last coupl day', 'clear qualiti sound mess sound ipod sinc sound button headset', 'long last batteri recharg flip phone', 'obvious problem', 'disappoint', 'inexpens piec would still expect better qualiti', 'practic useless add kind boost recept bought', 'excel sound qualiti', 'happi', 'piec junk broke phone day', 'new batteri work great phone', 'worst custom servic', 'drop phone time say even phone still great', 'recept terribl full static', 'good audio qualiti', 'littl devic made life whole lot easier', 'sit belt headset lost signal', 'phone', 'work like charm work advertis', 'comfort nice rang good batteri life', 'network coverag lo angel horribl', 'excel wireless headset', 'great appeal', 'thing think could sound headset', 'first recept suck never bar ever', 'phone get extrem hot', 'microphon also work well peopl call everyth', 'nice design qualiti', 'also phone drop case go save drop face', 'light easi use clear recept', 'bad fit way big', 'definit good', 'awesom devic', 'wast money', 'order motorola data cabl got well finish work product', 'love phone', 'look headset long time got happier', 'along headset start ring reason', 'display excel camera good year', 'batteri life also great', 'worst phone ever month', 'good item work start problem auto revers player', 'also ear hurt tri push ear plug ear', 'phone side', 'averag phone bad batteri life weak network', 'clear skype call long batteri life long rang', 'technolog suck', 'great hand free devic', 'even take self outsid display cool', 'problem other', 'tri mani mani handsfre one final work well', 'help', 'worst piec crap ever along verizon custom servic', 'poor sound qualiti', 'best phone market', 'work well', 'compani ship product promptli work well', 'exactli want', 'pictur resolut far price phone today', 'great deal', 'great deal', 'excel product satisfi purchas', 'highli recommend peopl give tri', 'better expect', 'use earpiec left right thing stay ear', 'great product price', 'sound good reason price effect simpl', 'still wait sure item would work well ever', 'disappoint', 'prompt servic', 'excel product price', 'excel product price', 'plea headset', 'wast money time', 'especi love long batteri life', 'stupid keep buy new charger car charger headphon car everi time new phone come', 'plantron bluetooth buy', 'came verizon cell phone first thing notic realli bad servic', 'look new earpiec', 'highli recommend devic everyon', 'jawbon era awesom', 'receiv white color batteri goe dead coupl origin use last week still last longer', 'year batteri went complet dead headset', 'use sever phone two year one best', 'awesom new look fall', 'first phone cheapli made', 'att clear sound distort talk', 'plastic break realli easi clip', 'price good', 'make mistak', 'oh forgot also mention weird color effect phone', 'use case fit fine', 'also area unit broke', 'overal phone contact get great recept', 'everi thing phone work perfectli like', 'anoth note phone appear realli look rather bland especi black model', 'realli easi', 'drop without effect', 'fantast', 'find cell phone right away enter car', 'low qualiti', 'highli recommend modest price phone', 'get better recept clariti phone', 'warn stay away', 'wish could return unit get back money', 'devic work great', 'use talk hour batteri would liter die', 'find bad unit come one would recommend anyon', '', 'might gotten would buy built qualiti alon', 'made case small difficult instal', 'phone like new perform', 'would recommend purchas jabra seri work flawlessli moto q go figur', 'internet found one best valu', 'fit', 'fit', 'happi product', 'screen size big key well enough camera qualiti excel camera phone', 'realli noth bad say headset', 'glad found product amazon hard find high price', 'work', 'get great recept littl expens perform great', 'even fulli charg went turn blue tooth fi notic left', 'also problem phone read memori card alway turn', 'good wear sunglass', 'time qualiti product', 'nice solid keyboard', 'well made fit perfectli', 'horribl phone', 'bt batteri junk', 'would recommend other', 'cant get softwar work comput', 'disappoint', 'poor voic clariti', 'batteri work great', 'one', 'disappoint', 'find probabl return phone perhap chang', 'look great strong', 'servic year pretti happi', 'updat difficult cumbersom', 'disappoint hate anyth goe ear', 'great softwar', 'deliveri time', 'easi use', 'uncomfort ear use lg vx', 'volum switch unit', 'hold charg long time reason comfort long wear qualiti sound tremend', 'like return', 'keyboard realli worthwhil sturdi enough expect problem', 'verizon howev difficult understand even though price simpl', 'charg batteri work great', 'regret', 'love phone', 'disappoint', 'user friendli', 'unfortun abil actual know receiv call rather import featur phone piti', 'exchang phone even problem', 'result phone either volum', 'pda rock', 'super charg use small camera cellphon role', 'would definit recommend jabra bt v look comfort clariti great price', 'verizon year ago realli like servic', 'pretti piec junk', 'plug wrong size', 'work describ', 'save money item month', 'bad purchas', 'well im satisfi', 'nois amaz import nyc', 'batteri excel bargain', 'defect crap', 'would given star abl', 'wear glass fit fine', 'sound qualiti devic unaccept unless realli quiet area almost hear noth', 'would recommend item anyon', 'holster arriv match', 'great problem', 'earlier review plug charger noth', 'phone charm ador eye catch', 'never know hard enough right number time function want', 'sound clear peopl talk amaz qualiti', 'got case new palm vx work realli well perfectli far', 'good product well made', 'mobil phone must', 'impress job motorola phone', 'receiv order well within ship timefram everyth good work order overal excit', 'phone sturdi', 'impress would recommend item anyon', 'complaint standard sound volum littl low even turn', 'thank amazon thing need good price', 'end edg back instead', 'go store bought new nokia phone work great', 'realli ugli', 'horribl switch time', 'nois', 'real improv', 'razr batteri good buy', 'keep good work amazon', 'refund replac', 'unfortun easi accident touch button accident touch phone face listen', 'basic money noth', 'great case price', 'took one drop kitchen impress', 'bluetooth rang good day ago left phone got call convers without', 'small sleek impress look practic setup ampl storag place', 'eargel channel sound ear seem sound volum clariti', 'none new one ever quit work properli', 'glad purchas', 'miss numer call reason', 'perhap phone defect peopl cannot hear use', 'suck stuff work phone', 'even noth happier new one', 'worst softwar ever use could give zero star would', 'tri make call frustrat', 'case flimsi piec plastic front side protect whatsoev', 'jabra happi sound qualiti especi better', 'love camera realli pretti good qualiti', 'thank great servic', 'total', 'seller understand would definit buy', 'give star cingular', '', 'great product price', 'purchas famili friend enjoy clariti ea use', 'wireless rock cheap littl phone', 'none work buy', 'low qualiti sound around wire poorli super', 'plea dont wast money', 'quit satisfi purchas', 'look good qualiti motorola headset keep look', 'yet use flaw charger design', 'result', 'cumbersom design', 'great new packag nice work good problem came le time expect', 'great product', 'piec crap', 'experi terribl bluetooth headset much comfort last jabra hate', 'problem', 'worst ever', 'happi', 'troubl internet rington', 'bare ever hear say', 'batteri life highli unaccept', 'compani joke', 'everyth descript said would', 'due everi call forc stop use headset', 'work great car charger especi cannot plug two time', 'verizon tech support walk none work end hard set data', 'voic qualiti signal drop call', 'play speaker size price low would think qualiti lack howev', 'better expect', 'feel poorli construct menu difficult button difficult push', 'batteri hold well', 'also difficult put recommend product', 'use two day alway easi hear', 'got car charger even week charger broken went plug start', 'sprint terribl custom servic', 'phone without effort', 'cool', 'easi use', 'better new', 'get junk idea', 'piec trash', 'pretti good product', 'great phone', 'price amazon excel product would highli recommend', 'develop obvious know', 'real killer volum cours break', 'phone work fine', 'happi product', 'poor construct', '', 'overal would recommend phone new', 'sprint servic', 'cheap feel look cheap', 'fit ear well comfort', 'work', 'belt make feel like come', 'like design look jabra ear headset pretti wear hour day without ear', 'amaz quick two origin lg cell phone batteri price', 'worst phone samsung crap samsung e worst ever', 'charger work week complet stop charg phone', 'poor product', 'howev need better instruct', 'need two hand oper screen softwar old cannot new softwar', 'work well pair treo w skype headset pc use usb bluetooth', 'clear product go genuin palm come three pack', 'buy suck', 'great product sure use', 'plu serious believ worth price point', 'case tri normal fall apart month one seem long', 'perform', 'make mistak plea buy phone', 'phone might well worst ever brand', 'case le extra put later scratch ear', 'recommend igo anyon differ brand cell phone mp player famili', 'bother go store', 'comment black phone fire red great color', 'problem item would order need', 'get pay guess', 'softwar great job could also make rington form without internet connect', 'im surpris good qualiti car charger much review', 'fabul', 'howev bt headset good real time game like first person sinc audio', 'use free find internet data phone price cabl excel', 'disappoint good', 'perform aw tinni sound echo end call', 'wind', 'obvious terribl custom servic get pay', 'last forev overli expens replac easi oper sound much better other tri', 'compani told although unit still warranti produc luck', 'way exchang bad phone unit someth', 'phone sturdi nokia bar phone', 'great phone', 'great phone', 'place treo case lot extra room side', 'plea', 'batteri terribl', 'found product easi set use', 'earpiec larg keep fall ear', 'utter crap sound qualiti terribl', 'charger arriv within timefram work', 'ear need tini sound great', 'final three four time spring broke could use longer', 'handsfre part work fine car tri download book treo overal still rate devic high', 'talk useless custom servic', 'felt light tinni', 'fit palm e broke first time tri plug', 'happi purchas good qualiti low price', 'love look feel samsung', 'well design sharp blue nice color', 'everyth', 'could recommend', 'nice sound', 'look good pictur case huge disappoint', 'much le jawbon go replac', 'setup went smoothli', 'extrem slow take forev anyth', 'must studi anyon interest worst design', 'first thing happen', 'well made easi access phone handi belt clip', 'continu pair sinc somehow kept drop', 'rington third parti', 'bluetooth work phone flash make call pocket', 'truli aw', 'work fine motorola cellphon lot better batteri', 'volum real good choic loud', 'none tone', 'camera color balanc aw', 'product clearli readi prime time care cool look tell call come worthless', 'love rington', 'chine', 'easi pair samsung cell', 'instruct explain microphon jack could use', 'would advis purchas item never work well', 'bad pay month servic', 'work well', 'nokia usb cabl work phone', 'clear crisp sound', 'use earpiec provid pretti well', 'biggest complaint batteri', 'design might could stand ear', 'buy want use holster', 'phone also take great pictur even video', 'make look cool', 'ear occupi background', 'comfort fit need headset comfort least hour time entir day', 'also phone seem accept anyth except mp rip player', 'beat price', 'come strong light use light camera shot even flash serious', 'lightweight work well', 'bewar', 'love cabl allow mini usb devic pc', 'anyon hear part convers', 'cool case open allow screen get scratch', 'bought phone replac sinc', 'appear actual origin batteri came v', 'store anyth phone number', 'last le minut actual tri use phone wife phone problem', 'poor qualiti', 'jabra ear gel r best', 'worth', 'phone crash complet get', 'quit work use month purchas anoth one best headset ever own', 'unfortun recharg iphon despit multipl power batteri wall outlet etc', 'great phone', 'simpli want small flip phone look elsewher extra mediocr', 'good valu work fine power via usb car wall outlet', 'phone around car phone hand', 'simpli best bluetooth headset sound qualiti', 'think plan one sure last moto phone', 'span hour two peopl new phone tv', 'alway use headset freedom wireless help', 'case pas one year mark show sign wear', 'leather nice fit cut face good', 'everyth need ask', 'receiv use product day broke', 'product great make work lot easier go wait hold someth', 'none three size headset would stay ear', 'mobil best custom servic', 'arriv quickli much le expens other', 'tri fail within month pro', 'provid good protect look classi', 'alway good', 'user friendli make easi etc', 'design good', 'great recept time', 'would highli recommend product', 'use unit sunglass good', 'work time nokia', 'bought mainli charger broke soon purchas', 'fantast buy get whatev next phone', 'stay away store care', 'hand free phone speaker awesom', 'item arriv quickli work great metro samsung r phone soni sound ear', 'light plenti batteri wear somewhat extend time', 'disappoint', 'blue easi use', 'cheap work given low cost item', 'camera phone may use rather use', 'day later smoke came phone use', 'conveni simpl use get job done make car much', 'state son', 'sound qualiti excel well', 'best headset use', 'would', 'around year carri highest qualiti screen protector found date', 'want', 'particular model would work motorola q', 'wont work right', 'addit feel look phone lightweight cheap plastic', 'warranti problem bottom line put money el cingular support', 'realli want plantron right one mani issu good', 'great product', 'crisp clear', 'first charg kept go dead minut', 'cheap plastic like old wooden', 'get absolut horribl recept phone problem', 'recept gener good', 'excel sound batteri life boot', 'great bluetooth', 'highli recommend case', 'worthwhil', 'phone got year old break despit much care part', 'sorri made purchas', 'bought hope could make bluetooth headset fit better thing made imposs wear', 'treo mobil refus replac forc buy anoth phone without kind discount', 'horribl', 'think would hold belt', 'allow doubl date time first', 'work week break', 'simpl use like', 'great tool data manag oh sure use data result', 'use case smell disgust', 'want', 'case would order anoth', 'bought batteri amazon happi purchas', 'internet access fine rare work', 'perfect p', 'five star plu plu', 'good qualiti bargain bought bought big lot sound aw peopl end hear', 'drain', 'tri talk real loud telephon get old still told great', 'good work fine', 'price great deal', 'great price', 'wind complet useless', 'ye front side love', 'work', 'first thought good deal plug phone v c razr', 'recept headset excel', 'thumb seller', 'verizon lg phone work well togeth good recept rang foot line', 'descript return', 'work comfort', 'batteri charg life quit long', 'jabra eargel fit ear well', 'batteri life', 'check everywher featur realli disappoint', 'product exactli describ', 'get signal verizon phone', 'job', 'would recommend', 'plan order', 'said phone camera nice mani cool effect play video decent well', 'satisfi cell phone day one', 'keep get better better third one numer', 'awkward use unreli', 'ship time also quick', 'good', 'good case', 'work', 'realli good product', 'unfortun work', 'three broke within two month use', 'dont buy', 'father v batteri die', 'howev ear come easili one week lost one', 'call drop phone come screen goe black worst ring', 'horribl horribl protector', 'like nokia either', 'bottom row uncomfort send end expect', 'bought nokia cell phone week ago', 'would take long describ bad custom servic experi amazon', 'disappoint thing', 'terribl car accept', 'product useless sinc enough charg current charg use', 'say', 'stay away q', 'use dirti', 'unreli servic mobil', 'good enough price', 'bought two neither charg', 'look nice', 'excel tool especi pair phone auto answer', 'read review problem', 'cover import light ear outlet', 'comfort hand', 'work', 'poor', 'work', 'take pictur batteri drop bar start let know', 'terribl product wast money', 'last time buy', 'wast money', 'far work like charm', 'week far good', 'case best part download pictur laptop use even send pictur laptop phone', 'would recommend item', 'choic headset year great sound good volum good nois', 'nice case feel good hand', 'item receiv', 'realli good far probabl best bt headset ever', 'work fine', 'receiv headset good time happi', 'plea see could replac well holster blackberri flip', 'sister one also love', 'good qualiti', 'far worst purchas made amazon', 'excel purpos headset', 'excel', 'work listen music cingular', 'seem complet secur hold belt iphon insid', 'line anoth worthless cheap sprint', 'troubl volum', 'good thing fit comfort small ear', 'warn buy', 'pair iphon could happier far', 'batteri connect broken devic turn', 'want clip go top ear discomfort', 'best headset ever', 'websit expect help support', 'loud glad say plantron connect cell static normal use', 'speaker low qualiti make ring tone sound cheap', 'fit comfort came three size earbud tip', 'bad recept', 'product high qualiti chine crap', 'quit comfort ear', 'buy product fail', 'everyth product wrong first', 'pair two easi bare took coupl minut start make call voic dial featur', 'utterli confus first caus lose coupl import contact', 'terribl phone', 'cutout button place perfectli', 'love abl use one headset line cell', 'problem ear made weak materi break easili', 'nearli good look amazon pictur make look', 'despit flaw case except qualiti well worth addit cost product', 'stupid', 'hear drive car usual even put set', 'seller ship quickli much cheaper', 'good show samsung', 'bought money', 'alway cut make beep beep beep sound say signal fail', 'figur', 'phone sound ok great ok wife phone almost total understand word said', 'take batteri phone put back togeth', 'manag spring back place enough break next drop', 'wonder wild', 'work', 'piec junk', 'much better hard plastic case', 'also new problem', 'happi far', 'cool phone', 'work good', 'motorola final got voic qualiti bluetooth headset right', 'connect phone even within coupl foot two', 'great would realli recommend', 'make easier keep bluetooth wear', 'said pretti useless', 'never got', 'pair headphon worst ever sound wise', 'drain weak', 'charg cingular att phone', 'get extra minut carri call get cut', 'howev year start get loo screen went black receiv place call', 'kept catch cabl seat pull phone turn', 'headset happi purchas', 'logitech bluetooth headset', 'like fact lightli ear rather insid', 'lot rate good phone', 'tri comput ipod work fine', 'mic joke volum quit low', 'return', 'maintain connect comput', 'easi turn car volum quit', 'year christma bought rest famili', 'otherwis easi instal use clear sound', 'nice leather', 'purchas differ case', 'joy use', 'much disappoint compani', '', 'charg', 'phone get bought say wow', 'button small', 'read alon make say wow', 'love great', 'realli like product motorola ear piec mic', 'howev tinni sometim wrong button', 'exchang soni z pretti happi decis', 'impress price case', 'also make easier hold', 'use product control lot high work great', 'pretti easi', 'cannot make call certain place', 'howev girl complain time phone like normal phone', 'beauti though', 'compani charg still given refund back', 'tri return refund', 'plug find thing work', 'excel product', 'earbud piec break easili', 'lousi product', 'phone tri hard everyth fail abil phone', 'best charger seen market yet', 'phone', 'oh charger seem work fine', 'fit ear even need use sound better direct ear', 'enough volum', 'echo problem unsatisfactori', 'could take time qualiti poor', 'wast money', 'go first review product', 'enough charg current', 'much hype phone best mistak', 'also cannot take pictur case cover', 'phone fall easili', 'work peopl hear talk', 'featur realli use', 'realli disappoint charger work', 'pain ear', 'one day blew', 'disappoint', 'kind around', 'screen get easili touch ear face', 'piec junk lose call phone', 'item match pictur', 'thing disappoint red', 'answer call unit never work', 'slow move movi young man', 'sure lost flat charact audienc nearli half walk', 'black white clever camera angl movi disappoint becam even ridicul act poor plot line almost non', 'littl music anyth speak', 'best scene movi tri find song keep run head', 'rest movi lack art charm mean work guess empti', 'wast two hour', 'saw movi today thought good effort good messag kid', 'bit predict', 'love cast jimmi buffet', 'babi ador', 'movi show lot best made look appeal', 'song best hilari', 'cool', 'right case movi deliv everyth almost right face', 'averag act main person low budget clearli see', 'review long sinc consid tale two sister singl greatest film ever made', 'put gem movi term cinematographi act product edit direct aspect film make', 'practic perfect true masterpiec sea faux masterpiec', 'film easili construct histori cinema think film someth import everi minut word level film enough easili fill dozen film anyon right mind ask anyth movi quit simpli highest form cinema imagin ye film rather signific amount piec fit togeth creat beauti pictur short film certainli graphic far best part game number one best th game seri deserv strong love game massiv level massiv charact massiv game wast money game kind money wast properli actual graphic good time today graphic crap say canada fun game game rock buy play enjoy love pure brillianc flick idea lame take charact mediocr pg film make complet non sequel chang tone pg rate famili movi least bit interest film would unfunni gener also manag give away entir movi everi moment everi plot point everi joke told funni even talent save star fare much better peopl like morgan jonah hill ed wast stori predict lazi real effect work presenc scene worst obviou blue green screen work ever seen whatev cost much qualiti sure film despit perhap obvious budget glad film go obviou choic lesser film certainli would addit one love song ever written french also one ladi ever grace screen hard fall head love girl neg enough caus regret anoth hour life wast front screen long whini pointless recommend wait futur let one go excel cast stori line perform total believ ann utterli convinc portray sat tv screen give one think tom good actor enjoy read book child littl disappoint movi one charact total annoy voic give feel total scene absolut warmth charm scene charact movi total perform actor twice much whether deliv line well whether line good quit honestli often good often dialogu realli follow one line anoth fit unpredict energi honestli found hard follow badli gener great thing say worth hour time though suspens good line g pg especi like non choic parent movi could dialog write movi made better select want movi gross give great choic alexand great film amaz film artist one import live glad pretenti piec big shot gonna help movi movi busi', 'first movi given year', 'ever movi need word mouth', 'overal film interest thought provok', 'plu well pace rel short run time', 'give one look', 'gave', 'wind lion well written superbl act', 'true classic', 'actual turn pretti decent far b list horror suspens film go', 'definit worth check', 'definit worth check', 'problem script', '', 'noth believ', 'suspens feel frustrat', 'heaven terrif film predict unpredict time', 'scene often funni occasion touch charact live go', 'cast actor trip', 'portray touch funni time make fun church', 'look movi terrif cast good music includ way look tonight uplift end give one tri', 'think disappoint', 'frankli club kind embarrass watch lane film bad', 'act bad extrem', 'predict even chick flick', 'correct', 'disappoint', 'thing realli worth watch sceneri hous beauti', 'love lane never seen movi lousi', 'hour half wish could bring back', 'term write fresh bold', 'act help write along well mayb idiot sister could play better real joy watch', 'direct cinematographi quit good', 'movi bore sometim found occupi paper instead watch never happen movi', 'sometim embarrass look away', 'direct seem pretenti', 'scene oh matur girl', 'gener line plot averag episod', 'scene whether accus pure horror realli stupid', 'given howev', 'realli like', 'great film great director', 'movi edg seat made somewhat afraid go car end night', 'music film realli nice', 'advis anyon go see', 'brilliant', '', '', 'like movi way much', 'problem thought actor play low rent', 'world certainli must see anyon', 'howev make fact overal tremend bore movi', 'chemistri sandra bullock film understand would consid even wife chick supposedli', 'sever moment movi need slow move', 'poor remak best friend', 'great disappoint', 'cannot believ actor film', 'could stand even watch long fear lose q', 'guess nobodi network watch put', 'rate go low aw time get neg number case', 'saw last night unsatisfactori experi', 'unfortun direct scene scene pas littl way dramat tension conflict', 'central theme film handl depth imagin', 'pretti pictur world cannot make piec work flaw core', 'hour half wast time follow bunch pretti high whine life', 'hell bare understand', 'definit cult classic well worth view other', 'movi pure disast stori stupid edit worst seen incred', 'fish badli made shot time film', 'truli truli bad film', 'act terribl write wors', 'possibl way movi could would', 'paid much', 'also real treat see quinn play crazi', 'bore', 'plot whatsoev', 'plot', 'horribl', 'worst hour half life oh gosh', 'minut get', 'hate movi like', 'yeah movi pretti much suck', 'plot storylin', 'go see movi bring girlfriend boyfriend keep occupi', 'aw', 'think ever gone movi dislik much', 'good thing cost five dollar would mad paid see crap', 'nobodi charact cardboard cutout stereotyp predict revers stereotyp', 'bad film bad write good actor ugli cartoon craft paul peopl anyth bold pictur', 'depress littl noth noth alreadi know racism bad thing', 'still like movi woman enough movi like one', 'brain attempt part self', 'left experi watch film took good two hour fulli', 'movi part horror film', 'certainli mean good way', 'mean terribl way', 'film redeem featur', 'everyth appal', 'camera work present u set imagin e', 'stori beyond stupid', 'script script', 'kid annoy', 'lead man charisma free', 'utterli without level tortur', 'even say tortur', 'mayb would reason explan', 'pleasant self', 'highli', 'premis sound stupid', 'ye bad', 'noth recommend', 'excel perform', 'show right could carri silent era want see silent work seem', 'also great see silent screenwrit miss step go silent sound', 'movi write need suspens', 'mani close up', 'movi seem drag realli work freedom', 'movi definit averag rent', 'love movi bad bad film way long definit one bad one movi receiv great qualiti film age john wayn incred job young movi industri screen presenc thought even though actor screen think must see older john wayn film realli see anyon could enjoy movi think ever seen movi half bore self indulg piec junk probabl would better director spent movi art work realli noteworthi anoth thing realli like charact got face blood would forth soon jami absolut ray charl perform simpli geniu film own daughter own great fire', 'fact hard rememb part ray charl act play man ray charl ray charl life provid excel materi film goe well beyond anoth movi hitchcock great director mostli find film total wast time watch hitchcock pretti much thriller movi audienc film henc whole stori lack certain energi plot simpli like machin addit new scene usual hitchcock flaw mishima extrem uninterest chilli movi live work chilli cultur flat hold attent rest aw sing song etc bore piec movi anyon el schrader made full lousi film first watch movi love total music danc everyth howev recent watch whole thing dvd complet struck extrem stupid storylin contain hole frankli whole lot crap danc mean realist world would never gotten whole thing quit pathet charact also lack depth talk aw wast time horribl worst dialogu could go realli made direct poor actor even tell talent pathet line speak director gave action check director see film chanc would even good made tv flick good made film great film might one greatest film ever made film great actor master director signific theme least would signific theme world aerial scene thrill sen imagin charact one might deepli care film fail movi lack visual interest drama feel narr actress wors use june movi yet enjoy watch unfortun bad movi plain bad bad script bad direct horribl act make one plain bad dialogu suck cinematographi call suck soundtrack suck act suck suck nice funni funni overal movi cheap trash movi funni consid came feel angri spoiler whatev el said superbl craft cinematographi simpli stun say least fx noth state art show offer littl bit everyth parent kid fx fan singl sour note struck act wise either surprisingli solid cast thing job well done thank good movi like done releas one best mexican movi ever one le even mexican matter felt rank highli great noir drama incred perform attent given everi charact complex psycholog love hope tremend excel drama excel thriller excel film best everyth film simpli incred truli take journey eye soul child black water thriller complet flick expect experi perform real grip extrem well done inde black water websit use real locat fabul thoroughli enjoy took control seri sure tri film turn good day feel night disturb memori guess lot beauti place forc like everyth movi lame movi realli ed even get start jerki camerawork saw theater thought go sick summari witti plot well said let one go act bad realli bad even billi script wors camerawork bad rate amaz possibl best trilog time never ceas one favourit director one talent director histori cinema use french three film noth short incred everi shot everi scene like work art three visual appeal movi ever seen subtl three film awesom mention huge spoiler love end charact three film remain disast young judg togeth old man watch tv suffer mani year think better way end film smile face great way wrap amaz film trilog recommend everyon love film movi anyth work art movi trilog liter vomit watch film think one peopl found anoth one perform stun stori told coppola year earlier realli unfold leav room charact wonder locat stori contrast beauti direct film sublim cast movi live first movi year work experi found offens intellig someon poetri deliv often ridicul stori bunch scene pretenti dialogu get worst kind movi review pretenti crap', 'find movi intellig even master say intellig imagin obvious use tri make sen piti attempt human natur tri make sen thing', 'one thing well freedom disbelief femal charact much', 'fun funni movi', 'highli entertain angl', 'featur array memor nut', 'get see run around play game danger', 'even sweet moment', 'telephon man realli funni reaction nut truli genuin', 'charact film tremend well play', 'realli find funni', 'actual smart movi', 'brilliant twist end', 'love end perfect shed thrill see movi like never forget cult cult classic depth charact man underneath dri dialogu movi terribl scene terribl play like year old shot foot wide etc seen wast time call movi drama ridicul start watch believ charact particular relationship bakeri assist waitress work movi gave feel watch play rather film charact storylin lot like stage time assist bore care happen next glad pay see laugh even smile anyth one big realli good show watch child year old definit super de pretti funni cute kid cool even bad enough make list wonder terribl movi', 'lame', 'guy said better dialogu right', 'everyth movi stupid', 'even love bad movi watch movi', '', 'would give seri plu could', 'think best actor actress show charact real', 'must say tape find watch', 'know gave', 'know exactli movi movi becom special part famili memori', 'total absolut recommend movi anyon like good wholesom famili movi exactli', 'thing four kid get absolut hilari watch', 'one best movi show strong', 'much interest action suspens le', 'everyth act cinematographi solid', 'talent mani way write portray differ charact screen', 'movi edg', 'plea know modern day geniu let art drive take u audienc', 'new charact memor found forget', 'felt though go absolut noth whatsoev', 'make scare make toward charact simpli annoy', 'jerki camera also annoy', 'plot pretti much everi cheap horror', 'pathet attempt give charact depth realli work rest plot', 'guess suppos clever twist shed light situat stupid', 'see probabl leav', 'jack play good role hot get billi drago appear cool usual help make enjoy movi good act decent budget', 'awesom movi bought', 'realli love stori line bear kinda cute anyon question ask away', 'total unfunni movi top pathet throughout whole minut utter tortur probabl look watch time', 'luci much crap low quit depress', 'movi make sick watch make stupid minut', 'god never get minut back', 'think wonder part liter full wonder work', 'set especi design work camera amaz beauti effect', 'could use set', 'stori natur man art', 'watch film want learn work artist', 'highli recommend movi anyon interest art poetri theater japanes histori', 'wind lion see wonder america age', 'make stori differ terrif product valu photographi composit edit terrif cast brian play histori', 'though wind lion told larg eye son everi member famili identifi one charact whether conneri john huston john steve ruthless big', 'high best', 'think robert best film someon like father real life father although never murder anyon second world war made wors', 'humour get get day', 'mother brother saw robert ryan portray type man good type impress', 'almost song cover girl old', 'annoy thing cover girl way put', 'unfortun cover girl exampl hollywood use woman', 'non thu mani everi part quit well', 'good cinematographi also make look beauti', 'good today love undoubtedli film worth see', 'peopl first film make think excel job', 'popular cinema good hous good reaction plenti', 'feel good film felt came cinema', 'humour posit', 'rather enjoy', 'like', 'take serious', 'realli creat uniqu feel though', 'excel job script', 'world better garbag today', 'role play well', 'right', 'camera realli like movi', 'would role readi script', 'european movi nice time live although circumst differ', 'fan movi suck realli bad', 'even wors', 'movi bad', 'like use coupl mayb poor', 'blew', 'movi excel angel beauti scamp ador littl scare part scamp caught angel scamp sing never feel total recommend movi come special june cover scamp garbag angel underneath', 'cant explain movi charm hilari ador junkyard scene funni junkyard dog someth special funni kid love buy come new featur', 'disgust piec american', 'show made american stupid full clich elsewher', 'almost everyon involv must return act utterli predict bad script pile garbag round', 'wish could enter neg valu', 'set bad look place episod', 'use slow throughout movi well bad act bad kind word continu scene thrown reason whatsoev look like made corn box directori style', 'oh yeah storylin pathet', 'hate write bad review film especi realli like star film bad believ one second anyon could proud', 'director would head sand spent whatev amount money time movi', 'short wast time energi would recommend anyon ever see film', 'came free dvd player bought still turn thing', 'set', 'interest premis billi drago alway good danger nut side note love see drago flick togeth talk', 'soundtrack terribl either', 'act even drago terribl direct wors perhap dialog like camera work bare', 'still set got big scale', 'ye thing sake realli core problem film much go without real explan', 'good job quit', 'plot much film watch weird glanc', 'let girlfriend talk see bad idea hate', 'last minut movi also bad well', 'total odd line', 'act wooden though wors period b movi', 'like cabl compani summari sound interest watch twice alreadi probabl', 'believ screenwrit good job loo end', 'score mostli plot', 'say like spoiler want one believ film worth time', 'wow bad film', 'frighten least bare', 'plot togeth act absolut appal', 'even good valu', 'oscar materi', 'particularli stupid see one come', 'film use word insult movi go public', 'someon involv knew togeth narr', 'get simpli noth', 'one watch recent fox movi channel disappoint', 'know contract player littl control act bad script', 'even bad brian almost unrecogniz', 'consid relat screen taylor stanwyck surpris littl chemistri screen two', 'premis film ridicul', 'death row scene entir', 'thing wors taylor act stanwyck sing', 'whatev go miss entir', 'deepli impress charact play', 'knew saw film great thing come actor', 'cheap movi poor lot style think chow fat better cheesi clich thrown readi poorli roll john', 'even look aw', 'point proceed look remot like america', 'plot predict end like merci kill', 'aw dialogu overact everyon get shot top real wast space time', 'bad movi scare', 'dialogu thing make littl sen', 'minut footag wast show mediocr actor awkwardli enough make almost alway english sometim may may made word', 'direct best', 'hackney write certainli made even wors bad direct', 'cours act blah', 'act whole cast could put scale balanc perfectli overact', 'final get end would great handl peopl', 'love movi great portray famili share up end knew special love', 'seen mani movi god one best though came year ago', 'movi contain star cast love open eye see actor seen', 'movi kind long length enjoy everi minut', 'overal rate movi scale', 'air enough anyon know store let know must', 'particularli rememb sen music would littl warn even le mean', 'sort afternoon job', 'total differ load black comedi film get see rememb', 'movi creat fascin everi way', 'movi realli got', 'see', 'realli hope behind movi make movi continu kinda weird style', 'forgot cast superb g perfect role man understand', 'movi good humor life', 'found beauti enjoy uplift', 'film film', 'later found lost power film', 'entir audienc conclus film', 'left theater step joy heart hope human race', 'wholesom appear give fine perform', 'rest cast also play well', 'cinematographi noteworthi includ fine', 'ten minut film start second thought', 'half way film start dislik', 'time film end dislik', 'film lack convinc script', 'script look written began finish script', 'thing happen charact chang plot real reason script call', 'cast good', 'worth check', 'probabl show ever seen entir life', 'annoy show ever seen', 'everyth bad', 'could understand kind idiot would produc mess first place mention sever season', 'script bad bad contain joke normal see rate r movi', 'cast also horribl caus see realli realli bad actor period', 'final word show real tortur', 'time away realiti', 'watch machin around hurt eye much show', 'rate z note show bad even mother cast pull daughter show', 'th centuri fox hous quit noir implaus bore movi', 'full unconvinc cardboard charact written also produc surprisingli direct jean one would expect great deal', 'charact turn', 'lose earli proceed total implaus unconvinc', 'enough mess movi pictur also use studio set indoor', 'whatev documentari beyond', 'seriou spoiler movi huge disappoint', 'mani problem dont know start', 'cast great', 'steve martin deliv realli funni perform middl class white guy', 'add betti white jean smart great cast everyon play part realli well', 'movi make lot seriou', 'first enough racial stereotyp racial everyon', 'movi racial toward black cast return', 'put race card asid look major flaw film charact', 'real plot', 'see movi free', 'import film cinema histori', 'second appear mickey mous follow silent crazi earlier year probabl famou film mostli ground break', 'yet hear mickey speak sound effect music throughout film someth take huge crowd pleaser', 'howev see short year amaz film actual', 'ador see mickey play turkey highli imagin occasion way', 'clever real crowd pleaser film still rank among mickey best film even wonder year', 'ruthless one minut ruthless killer next minut complet unconvinc', 'terribl disappoint film would receiv mani especi far deserv work film', 'origin soul masterpiec', 'john canada film one greatest ever grace screen jame', 'think redeem remak', 'may bad film ever made', 'bad well bad', 'movi solid exampl bad plot bad idea way', 'shame see good actor like jame make live mess like', 'thought bad', 'film terribl credit version watchabl', 'let start problem act especi lead bad', 'script big flaw mess', 'best exampl dumb write turn zombi back human remov piec', 'director paul also direct weak monster movi clearli know pace film', 'movi terribl bore place', 'light aw', 'film look cheap bland', 'one disappoint lack notabl', 'never work well past certainli work', 'visual effect aw', 'open sequenc space look like could creat microsoft god sake', 'ga end aw', 'like consid fair give credit credit due effect actual pretti cool', 'love close up teeth', 'sum film terribl cheapli made horror movi avoid like', 'recommend', 'recommend', 'almost unbear watch screen littl charisma terribl', 'asid terribl lead film load', 'understand suppos cheap comedi mean complet insult intellig write incred hackney offens', 'black talent wast pg rate certainli allow', 'film spot jonah hill look almost unrecogniz fan recent due amount weight lost', 'first movi spent remak littl el', 'budget limit', 'cast also par script much earlier classic', 'howev decent act action locat work balanc thing', 'le', 'fail great part origin', 'gener lack imagin', 'possibl movi get wors', 'plot keep go first place', 'even woman final show sign improv expect thing happen time film might far asleep', 'bewar cult movi trash period', 'believ even sequel', 'give bad review', 'child truli enjoy show say enjoy big time even cartoon', 'tini kept vibe one popular funni cartoon ever creat', 'memori say enjoy everi singl episod product show', 'easili none cartoon made laugh tender way get dark', 'charact funni true lead charact', 'everi singl charact hilari deserv call lead', 'everi element stori top pain sit', 'line seem written fifteen year old though tri oh hard sound like fifteen year old would realli know well talk', 'nice energi level obvious comfort front camera', 'simpli excus someth poorli done', 'saw movi thought stupid movi', 'even stupid thought idea volcano lo angel', 'honest unbeliev nonsens', 'conclus bother movi volcano lo angel noth nonsens', 'stori line aw', 'pain', 'absolut abysm', 'also enough film make vomit', 'wast time watch non film', 'believ black done well', 'charact interest want find longer movi goe think peopl surpris make', 'go watch', 'watch', 'funni', 'rate', 'charact interest realli care', 'classic great soundtrack song end', 'miss', 'master piec film make mani theme occasion studi self indulg year span aerial love dedic art experi versu practic versu self', 'matur subtl script occasion bring dramat focu underli well serv perfect perform apart odd though perhap direct time charact often mention', 'exquisit visual composit moment eleg use close camera angl light includ faux home movi footag wonder joy', 'beauti look relationship convinc narr engag master work', 'basic premis wast sinc focu documentari', 'film fail level', 'avoid cost', 'saw film christma great film', 'thought errol flynn brilliant sinc becom favourit actor', 'act de brilliant end fantast', 'alway known errol flynn brilliant actor favourit actor watch film child', 'watch film great actual', 'give film', 'know nobodi could much well dull', 'realli seem want voic get involv guest', 'love littl thriller hitchcock lot nice surround murder child nasti church plot', 'jimmi ever great hitchcock stori along cool function lack hitchcock black white low budget origin', 'yet anoth wonder film great master', 'say film excel produc top rate typic sci fi film', 'excel produc one sci fi best', 'entertain', 'sort film joy watch', 'bare bore moment film plenti humor part', 'cast alway entertain usual', 'overal delight', 'movi mind aw even creat', 'film lack real tension use throughout bit say least say', 'least said act better', 'movi excel job reveal incred south africa', 'believ everi one see movi think peopl outsid south africa understand past process', 'noth short photographi cinematographi film', 'act fantast stori seamlessli togeth dog must rent see', 'afraid worth littl', 'excel perform', 'still good actor around', 'also great direct photographi', 'true shakespear must shakespear fan', 'macbeth conneri final brief gave moral decay dark forc human face make interest', 'ladi macbeth time sometim look like girl tast blood evil', 'love death decay one', 'witti delight adapt book thoroughli deserv', 'special mention made superb music score sound effect element make memor enjoy cartoon', 'howev paul schrader inde made film mishima superb complex', 'also notabl john fine crisp beauti color cinematographi great product design costum went memor costum coppola receiv well deserv oscar', 'even allow poor product valu time kind mini seri', 'unless visual film work skip one', 'watch howev small actress play ann sister wonder job role', 'good', 'music predict', 'film drop ball', 'stun movi', 'move', 'felt like grip intellig stage play without overli feel one actual get watch peopl stage play everyon white', 'main player', 'tom wilkinson broke heart end everyon el judg amount hand go among', '', '', 'go see', 'excel film', 'aerial scene well done', 'also right balanc war love', 'film give mean never histori human conflict much mani', 'good movi realli make differ', 'good film great director', 'definit one better documentari seen look famili relationship', 'mani continu one user differ joe glass one got fact joe hair seem chang scene scene', 'great movi', 'star', 'see movi anyon come fear', 'bad actual worth see reason', 'brilliant piec cinema', 'shot use faux documentari style watkin creat film like', 'one peter watkin film', 'advis look', 'wont regret', 'highli recommend', 'well keep think bad', 'mediocr hollow laughabl predict piec garbag', 'case bad laughabl', 'bad perform play comput expert home time', 'film noth show ridicul action scene', 'aw', 'still bad actress face pictur', 'result well shame', 'film mind', 'one worst show time', 'show would begin smart as ed comment would total wall', 'fat comput unbeliev bad as girl actor', 'never heard except cole total unbeliev part', 'everi time open mouth expect hear see kid plug merci kill horribl show', 'stori unbeliev actor', 'lame would best way describ', 'stanwyck morgan perfectli cast mani way modern christma', 'film cast alexand charact', 'attract set use throughout film eye gem', 'im big fan game movi disgrac self', 'line cut audio everyth wrong', 'find better movi', 'top line wast time money one bad come', 'movi put sleep forev', 'describ time film', 'mediocr everi aspect dull uninterest mess one movi seen', 'even achiev bad good bad memor movi', 'empti hollow movi', 'serious worth wast kid time', 'avoid avoid avoid', 'drive mad', 'good', 'nice late night view', 'movi full wonder danc henc', 'great music terrif sceneri', 'tough issu grace cours spoiler', 'happi wonder feel good end', 'point journey journey touch everi member famili', 'one movi need see whenev come tv never mind fact alreadi', 'noth new', 'done second movi', 'movi almost action scene littl comedi', 'plot hole pair direct edit', 'earth film', 'saw film recommend', 'good plot hold complet attent act superb tom wilkinson fantast emili watson also good', 'good film inde great love', 'tom wilkinson charact man prepar begin take matter hand stori great actor give perform make feel charact suffer', 'emili watson charact strong give quick glanc understand everyth', 'despit like movi', 'fact like better like better attempt', 'pretti good place compel first mini danc scene', 'big fan seri mostli due ann rice style', 'guess like believ', 'scene end', 'thought act', 'better right', 'charm film wonder sentiment heart', 'rare film take time tell moral tale care love fall trap overli indulg', 'ten truli love film', 'earli film futur fulci good addit giallo sub genr', 'one best italian earli', 'scene', 'scene strong', 'film well made impress camera work solid act effect music particularli good femal sound like come hill', 'still wild stuff though highli recommend fan giallo cinema', 'movi interest begin end', 'like way charact readi everyth stay son', 'movi also reveal', 'person think show peopl learn find compromis self without peopl', 'bore', 'clich lazi write come thick fast', 'p scene movi cool central charact find room blown', 'fresh subtl rather sublim effect', 'italian review call small great film right', 'actor give wonder perform especi jami begin strang event part cool star', 'learn lot real insid emot peopl movi lot movi busi', 'movi movi situat begin game play act fascin', 'also music mark possibl best score ever heard', 'forget movi', 'film made', 'film cheap look', 'result film look right', 'none engag', 'plot nonsens interest slightest way', 'worth one second time', 'saw child tv back love', 'duet astronaut doctor begin movi perfect exchang one movi made well cold war astronaut biggest fear crash', 'movi awesom', 'love realli scari', 'love movi horror movi one rank way', 'want real rent one', 'extraordinari film', 'courtroom drama compel american frighten', 'film highlight flaw process discov rather present better court', 'film well pace underst one best courtroom documentari seen', 'mostli fact base tv drama get boost fine perform cole', 'predict bad watch', 'clear rang abil pull part', 'carri movi well', 'give everyth right seem good understand underli psycholog', 'wonder watch hope get releas video dvd', 'piec trash ever releas beyond act stori charact supposedli special effect etc wrong', 'fact smell like video', 'avoid cost', 'star v final worst seri', 'act involv like bad make seem old look real life special effect like pack fall', 'attempt piti stori aw bear think basic find god serious care film oh mention belli danc male', 'place good film garbag', 'worst one seri', 'edit edit film phenomen opinion', 'song could explain emot better life talk song old man neil young play mani emot', 'cinematographi film shot interest way', 'cours footag film', 'film offer mani delight', 'beauti duet perfectli situat movi appreci subtl excel film', 'stori unfold th centuri use period music play period one fine touch', 'share exquisit joy even though watch movi wish small sampl', 'underst film leav last', 'warmth contrast', 'leav theater go danc star', 'act expect cast top', 'charact surprisingli well particularli actor deliv sharpli line right amount tongu cheek make dialogu hilari realist', 'also turn good perform somewhat brief memor role play doctor quinn', 'conclus love', 'long time sinc movi', 'struggl find anyth bad say', 'mark word one cult film like evil dead peopl still discov fall love year line', 'pretti surpris wonder film made hollywood gener head sand black white issu time', 'film deserv strong take stand except act mostli lesser known cast super intellig script insult audienc take easi way come white racism', 'plu movi rather modest budget fast run time amaz job', 'except actor play role mani film era proud black man accus white man south', 'love luci', 'see kid chanc open amaz dialog far race relat come last year', 'see film', 'year howev remind u huston still top game adapt jame dead', 'thought discomfort danc life come within huston portray', 'disappoint could oscar', 'slow', 'lot hole plot noth becam noth spend year childhood matur age', 'wast time', 'end day one worst big budget action movi ever seen', 'know make action movi screenwrit air one write script big sum money', 'one worst film ever seen', 'still tri get bad', 'movi possibl one work horror ever', 'everyth could want suspens drama comedi confus american brain eat look end movi look', 'great sound effect impress special effect recommend movi enough call nut think one best movi ever great charact actor peter hour minut horribl act mess script feel good lord think lot hole script like bad two hour tv movi imagin everi singl one made wrong dialogu atroci act beyond abysm everyth stink troubl write direct make imposs thing make movi watchabl like charact stori theme wors incred weak sub plot thrown littl day go work stori dumb pointless complet wast time short bother movi spoil end pretti amaz best scene movi end spoil ever writer director abil two highli result achiev made time perhap cultur disturb distort film easili excel total believ great actor subtl comedi movi recent year charact interest even bit predict highli recommend although set probabl appreci subtl refer certainli appreci one scene particular great movi also stori act weak around pm bought around pm start watch around pm fast remain film see anyth left watchabl human brain either way suck script stupid stori start fast absolut suspens build slightest everyth say either laughabl plain stupid hell kind crap plot hole could drive hole thing good film amaz plain suck act one least scari ever seen write write damn movi sleep bore throughout whole damn thing act suck music suck script suck pace suck special fx suck direct suck basic movi suck film tri seriou thriller horror flick fail probabl one least effect utterli film ever seen entir life piec garbag avoid cost rate film stink funni fulci stay giallo zombi movi avoid film cost know happen season five mess consist hold seri togeth amaz perform two quiet conflict movi realli dislik one bore horror movi mainli start slow bore atmospher puppet look realli cheesi good way like master stori lame interest never realli puppet death scene like previou movi terribl felt asleep first time watch recommend fact film wonder tale two peopl dream best part betti', 'director neil use dream realiti along touch drama hilari comedi never tell go happen next', 'otherwis even wast time', 'one fail creat real suspens', 'killer expect anyth origin even remot frighten', 'howev pretti good act least type film', 'sorri realli recommend anyon', 'one bore pointless movi ever seen', 'plot line plot line', 'hate', 'one worst sandra bullock movi sinc speed quit bad', 'understand garbag got movi store even real movi', 'highli doubt anyon could ever like trash', 'movi make', 'act like watch wooden puppet move around read book bad', 'rent movi thing never seen', 'saw short film day absolut love', 'realiz wonder short realli last two scene', 'excel short film', 'hope director jame turn short featur length film cast u whole new film', 'movi pretti bad', 'charact one even good guy especi bad guy', 'stori line total predict', 'much dialogu much music whole film shot like', 'seen intellig movi', 'bad charact bad stori bad act', 'realli aw', 'easi watch', 'funni clever hip like previou film hype', 'long time see actor screen', 'written wonder stori loneli built one charact seen movi recent year', 'movi complet perfect stay long time movi', 'rate movi', 'know emilio estevez directori pace interplay develop charact well clever camera work surround charact estevez play suggest natur eye', 'interplay martin emilio contain wonder chemistri saw wall street martin', 'wonder charact subtl charact play lord', 'reader alreadi seen one miyazaki film still top form made anoth worthwhil experi', 'never charact good genuin heart believ problem', 'two main charact may two believ child ever saw put screen', 'easi love even easi identifi', 'movi great especi enjoy visual', 'sceneri two beauti', 'stori also funni time', 'peopl like european film art movi like movi', 'truli art movi actual lot art', 'go rent', 'howev final watch film realiz close mind brillianc depict also found watch', 'one movi never ceas interest simpli keep tri attempt', 'brillianc inde', 'like movi like better yet think appreci thought provok experi film give', 'think film like', 'simpli beauti', 'play role tale book writer mayb written', 'fun fast pace fairli portray night', 'present yet seriou portray up charact live', 'whatev avoid good human', 'bad everyon el involv share level dedic qualiti far better film hand sub par mess', 'movi seem littl slow first', 'speed got right point', 'show exactli reason gadget', 'enjoy', 'recommend friend', 'particularli plea act abil', 'actor truli understand becom particular charact deliv convinc perform', 'screen chemistri entir film genuin', 'film dialogu natur real life', 'writer undoubtedli refer industri charact age', 'incred soundtrack truli film', 'sentiment actual scene charact', 'definit worth see sort thought provok film forc question loneli', 'miyazaki latest film studio ponyo ponyo sea wonder fun imagin look childhood', 'time seem film anim masterpiec refresh know miyazaki still tradit hand anim tell charm stori', 'enough said anim film', 'art style appear wonder', 'act film glad gonna away earth far possibl', 'one want small wave space movi deep one fail everywher', 'vomit end cheap drama worthless dialogu must bore death wast time', 'still make super end depict great sea', 'consid excel stori solid act look film ad', 'instead got bore whini', 'watch two ago th began realli enjoy time tape entir thing', 'well act done tv movi', 'light one favorit actress think superb job film', 'keep watch', 'sad movi good', 'seen movi definit recommend', 'love usual', 'still quit interest entertain follow', 'recommend', 'movi well balanc comedi drama thoroughli enjoy', 'see play sex real use tom', 'anyway plot smoothli male scene', 'open sequenc gem classic cat mous game follow delight watch', 'fan genr heaven', 'lang becom great actress', 'look like wonder stori', 'never walk movi faster', 'got bore watch lang take', 'unfortun film product work lost script', 'word embarrass', 'bad', 'insult one intellig huge wast money', 'wow love place', 'crust good', 'tasti textur nasti', 'stop late may steve recommend love', 'select menu great price', 'get angri want damn pho', 'tast fresh', 'potato like rubber could tell made time kept', 'fri great', 'great touch', 'servic prompt', 'would go back', 'cashier care ever say still end overpr', 'tri chicken mmmm', 'pretti sure human hair', 'sign', 'highli recommend', 'waitress littl slow servic', 'place worth time let alon vega', 'like', 'blah', 'food amaz', 'servic also cute', 'could care le beauti', 'perform', 'right red stuff good', 'never brought salad ask', 'wall great mexican street taco friendli staff', 'took hour get food tabl restaur food warm run around like total overwhelm', 'worst salmon sashimi', 'also like burger fri beer decent deal', 'like final', 'found place could happier', 'seem like good quick place bite familiar food favor look elsewher', 'overal like place lot', 'redeem qualiti restaur inexpens', 'ampl portion good price', 'poor servic waiter made feel like stupid everi time came tabl', 'first visit delight', 'servic suck', 'shrimp tender moist', 'deal good enough would drag establish', 'hard judg whether side good gross want eat fear get sick', 'posit note server attent provid great servic', 'frozen worst peopl behind', 'thing like prime dessert', 'bad food damn gener', 'burger good beef cook right', 'want sandwich go', 'side greek salad greek dress tasti pita hummu refresh', 'order duck rare tender insid nice char outsid', 'came run u realiz husband left sunglass tabl', 'chow good', 'horribl attitud toward custom talk one custom enjoy food', 'portion huge', 'love friendli server great food wonder imagin menu', 'heart attack grill downtown vega absolut flat excus restaur', 'much seafood like pasta bottom', 'salad right amount sauc power scallop perfectli cook', 'rip rip tasteless', 'least think refil water struggl wave minut', 'place star appet', 'delici', 'definit go back', 'glad found place', 'great food servic huge portion give discount', 'alway great time', 'updat went back second time still amaz', 'got food appar never heard salt batter fish chewi', 'great way finish great', 'deal includ drink went beyond expect', 'realli realli good rice time', 'servic meh', 'took min get noth', 'guess known place would suck insid use sen', 'scallop dish quit appal valu well', 'time bad custom servic', 'sweet potato fri good season well', 'today second time lunch buffet pretti good', 'much good food vega feel wast eat opportun go rice compani', 'come like underwhelm relationship wait person ask break', 'walk place like old greas trap other eat', 'turkey roast beef bland', 'place', 'everyon tast like sugari disast six year old', 'love pho spring roll oh yummi tri', 'poor batter meat made chicken', 'say food amaz', 'die', 'everyth fresh delici', 'summari larg disappoint dine experi', 'like realli parti mouth person parti', 'never hard never ever step', 'best breakfast buffet', 'say bye bye tip ladi', 'never go', 'back', 'food arriv quickli', 'good', 'side cafe serv realli good food', 'server fantast found wife love roast garlic marrow ad extra meal anoth marrow go', 'good thing waiter help kept mari come', 'best buffet town price cannot beat', 'love cook wine duck tender potato dish delici', 'one better', 'went fantast afternoon', 'food delici bartend attent got great deal', 'ambienc wonder music play', 'go back next trip', 'good', 'real sushi lover let honest good', 'least min pas u order food busi', 'realli fantast thai restaur definit worth visit', 'nice spici tender', 'good price', 'check', 'pretti gross', 'better atmospher', 'kind hard mess steak', 'although much like look sound place experi bit disappoint', 'know place manag serv food ever eaten prepar indian', 'worst servic boot least', 'servic fine waitress friendli', 'guy steak steak son steak best worst place said best steak ever eaten', 'thought away get good sushi place realli hit spot night', 'staff lack better word', 'bland place number reason want wast time bad leav', 'phenomen food servic ambianc', 'return', 'definit worth strip pork belli return next time vega', 'place way overpr mediocr food', 'excel', 'good select food includ massiv sandwich crispi chicken wrap delish tuna melt tasti burger', 'manag rude', 'delici nyc bagel good select cream chees real even', 'great subway fact good come everi subway expect', 'serious solid breakfast', 'one best bar food vega', 'extrem rude realli mani restaur would love dine vega', 'drink never empti made realli great menu', '', 'waiter help friendli rare check u', 'husband ate lunch disappoint food servic', 'red curri much tasti', 'nice top feel like done cover food', 'bathroom clean place well decor', 'menu alway chang food qualiti go servic extrem slow', 'servic littl slow consid serv peopl server food come slow pace', 'give thumb', 'watch waiter pay lot attent tabl u', 'came middl day greet seat right away', 'great restaur bay', 'wait five minut', 'came salad stale', 'highlight great qualiti', 'staff friendli joint alway clean', 'differ cut piec day still wonder tender well well', 'order pasta first time realli excel pasta sinc go free sever year ago', 'place good', 'unfortun must hit bakeri day everyth order stale', 'came back today sinc still impress', 'seat immedi', 'menu reason price', 'avoid cost', 'restaur alway full never wait', 'delici', 'place hand one best place eat phoenix metro area', 'go look good food', 'never treat bad', 'bacon', 'also order salad sad dress liter zero tast', 'realli vega fine dine use right menu ladi price', 'friendli', 'dish miss curri lover', 'everyth menu terrif also thrill made amaz vegetarian daughter', 'perhap caught night judg review go back', 'servic leav lot', 'atmospher modern hip touch', 'definit place come back everi', 'liter sat minut one take order', 'burger absolut flavor meat total bland burger overcook charcoal flavor', 'also decid send back waitress look like heart attack', 'treat', 'probabl dirt', 'love place spot want someth healthi lack flavor', 'order ice also incred', 'food suck expect suck could', 'interest decor', 'realli like station', 'also serv hot bread butter home made potato chip bacon top origin good', 'watch prepar delici food', 'egg roll fantast', 'order arriv one gyro', 'salad wing ice cream dessert left feel quit satisfi', 'realli sure best hot dog valley reader phoenix', 'best place go tasti bowl pho', 'live music total', 'never insult felt disrespect', 'friendli staff', 'worth drive', 'heard good thing place everi hope could', 'food great', 'warm beer help', 'great brunch spot', 'servic friendli', 'good lunch spot', 'live sinc first last time step place', 'worst experi ever', 'must night place', 'side delish gold pure white corn', 'bug never show would given sure side wall bug kitchen', 'minut wait salad realiz come time soon', 'friend love salmon', 'go back', 'extrem tasti', 'waitress good though', 'soggi good', 'delici', 'small worth price', 'food order', 'shower area outsid take full shower unless mind everyon see', 'servic bit lack', 'lobster bisqu filet need salt pepper cours none tabl', 'hope go busi someon cook come', 'either cold enough flavor bad', 'love bacon', 'unbeliev bargain', 'folk alway make u feel special', 'also', 'place first pho amaz', 'wonder experi made place must stop whenev town', 'food bad enough enjoy deal world worst annoy peopl', 'fun chef', 'order doubl cheeseburg got singl fall apart pictur yeah still suck', 'great place coupl drink watch event cover tv', 'possibl give zero star', 'said yum yum sauc anoth said sauc yet anoth said spici mayo well none roll', 'say would decis honestli dish tast suppos tast amaz', 'eye may stay sure go back tri', 'everyon attent excel custom servic', 'horribl wast time money', 'dish quit', 'time side restaur almost empti excus', 'busi either also build cold', 'like review said pay eat place', 'drink took close minut come one point', 'serious flavor delight folk', 'much better sushi place went vega', 'light dark enough set', 'base sub par servic receiv effort show busi go back', 'owner realli great peopl', 'noth work eat', 'greek dress creami flavor', 'overal think would take parent place made similar complaint felt', 'pizza good sauc tasti', 'tabl servic pretti fast', 'fantast servic', 'well would given zero star possibl', 'know make', 'tough short flavor', 'hope place stick around', 'bar vega ever charg tap water', 'restaur atmospher exquisit', 'good servic clean inexpens boot', 'seafood fresh gener portion', 'plu buck', 'servic par either', 'thu far twice food absolut delici time', 'good year ago', 'self coffe cafe disappoint', 'world', 'cant go wrong food', 'beat', 'stop place friendli kind staff', 'friendli good job', 'better boba tea even pho', 'like patio servic outstand', 'taco meat wow flavor', 'think', 'salad pretti bland get', 'went bachi burger friend recommend disappoint', 'servic stink', 'wait wait', 'place qualiti sushi qualiti restaur', 'would definit recommend wing well pizza', 'great pizza salad', 'thing went wrong', 'wait hour breakfast could done time better home', 'place amaz', 'hate husband disappoint place', 'wait hour never got either pizza mani around u came later', 'know slow', 'staff great food delish incred beer select', 'live neighborhood disappoint back conveni locat', 'know pull pork could soooo delici', 'get incred fresh fish prepar care', 'go gave star rate plea know third time eat bachi burger write review', 'love fact everyth menu worth', 'never dine place', 'food excel servic good', 'good beer drink select good food select', 'plea stay away shrimp stir fri', 'potato order sad could probabl mani chip box probabl around', 'food realli bore', 'good servic check', 'never see anoth', 'never ever go back', 'much like go back get pas atroci servic never return', 'summer dine charm patio delight', 'expect good', 'fantast food', 'order toast english came', 'food good', 'never go back', 'great food price high qualiti hous made', 'boy hand rude', 'point friend basic place joke mind make known', 'back good fare reason price tell public back old way', 'consid two u left full happi go wrong', 'bread made hous', 'servic', 'also fri without doubt worst fri ever', 'servic except food good review', 'coupl month later return amaz meal', 'favorit place town', 'black sweet potato', 'disappoint', 'could serv may make better overal dish still good', 'go far mani place never seen restaur serv egg breakfast especi', 'mom got home immedi got sick bite salad', 'server pleasant deal alway pizza', 'truli good glad went back', 'fantast servic plea atmospher', 'everyth gross', 'love place', 'love place', 'great servic food', 'first bathroom locat dirti seat plain', 'burger got gold standard burger kind disappoint', 'omg food', 'noth authent place', 'noth special whatsoev', 'dish salmon best great', 'veget fresh sauc feel like authent thai', 'worth drive', 'select probabl worst seen vega none', 'pretti good beer select', 'place like better', 'classi warm atmospher fun fresh appet steak steak', 'star brick oven bread', 'eaten multipl time time food delici', 'sat anoth ten minut final gave left', 'terribl', 'everyon treat equal special', 'take min pancak egg', 'delici', 'good side staff pleasant real treat', 'steak place sharpli avoid next trip vega', 'alway even wonder food delici', 'best fish ever life', 'bathroom next door nice', 'buffet small food bland', 'outstand littl restaur best food ever tast', 'pretti cool would say', 'definit turn doubt back unless someon el buy', 'server great job larg tabl', 'find wast food food', 'wife lobster bisqu soup lukewarm', 'would come back sushi vega', 'staff great ambianc great', 'deserv star', 'left stomach felt sick rest day', 'drop ball', 'dine space tini decor comfort', 'order way like usual eggplant green stir fri love', 'bean rice mediocr best', 'best taco town far', 'took back money got', 'interest part town place amaz', 'rude manag', 'staff friendli wait time serv horribl one even say first minut', 'back', 'back', 'great', 'servic definit recommend', 'food terribl', 'food terribl', 'never ever go back told mani peopl happen', 'recommend unless car break front', 'come back everi time vega', 'place deserv one star food', 'disgrac', 'come back bowl next time', 'want healthi authent food tri place', 'continu come ladi night date night highli recommend place anyon area', 'sever time past experi alway great', 'walk away stuf happi first vega buffet experi', 'servic excel price pretti reason consid vega insid mall', 'food incred noth bring joy quit like memori', 'probabl one peopl ever go like', 'kid pizza alway hit lot great side dish option', 'servic perfect famili atmospher nice see', 'cook perfect servic impecc', 'one simpli disappoint', 'overal disappoint qualiti food', 'know get', 'great place eat littl mom pop bay area', 'today first tast hot dog tell ever thought possibl', 'left', 'definit soon', 'food realli good got full fast', 'servic fantast', 'total wast time', 'know kind best tea', 'come leav happi stuf', 'servic give star', 'assur disappoint', 'take littl bad servic food suck', 'gave tri eat crust teeth still', 'complet gross', 'realli enjoy eat', 'first time go think quickli becom regular', 'server nice even though look littl overwhelm need stay profession friendli end', 'dinner told everyth fresh nice textur tast', 'ground right next tabl larg step everywher pile green', 'even find hour websit', 'tri like place time think done', 'mistak', 'complaint', 'serious good pizza expert', 'waiter', 'want', 'nicest restaur owner ever come', 'never come', 'love biscuit', 'servic quick friendli', 'order took minut pizza anoth minut', 'fantast', 'huge awkward piec cow fat', 'definit come back', 'like dark feel like bar', 'wow spici delici', 'familiar check', 'take busi dinner dollar elsewher', 'love go back', 'anyway restaur wonder breakfast lunch', 'noth special', 'day week differ deal delici', 'mention combin bacon big winner', 'back']\n"
     ]
    }
   ],
   "source": [
    "# Print padded sentences\n",
    "print(\"\\nTraining sequences:\\n\", training_sentences)"
   ]
  },
  {
   "cell_type": "code",
   "execution_count": 71,
   "metadata": {},
   "outputs": [
    {
     "name": "stdout",
     "output_type": "stream",
     "text": [
      "\n",
      "Padded training sequences:\n",
      " [[   0    0    0 ...  209  381   21]\n",
      " [   0    0    0 ...   53   36  271]\n",
      " [   0    0    0 ...    0    6  755]\n",
      " ...\n",
      " [   0    0    0 ...  215  243  190]\n",
      " [   0    0    0 ...  754  142 1040]\n",
      " [   0    0    0 ...    0    0   47]]\n",
      "\n",
      "Padded training shape: (2198, 100)\n",
      "Training sequences data type: <class 'list'>\n",
      "Padded Training sequences data type: <class 'numpy.ndarray'>\n"
     ]
    }
   ],
   "source": [
    "#Display padded test sentences lengths and characteristics\n",
    "print(\"\\nPadded training sequences:\\n\", padded)\n",
    "print(\"\\nPadded training shape:\", padded.shape)\n",
    "print(\"Training sequences data type:\", type(test_sentences))\n",
    "print(\"Padded Training sequences data type:\", type(padded))"
   ]
  },
  {
   "cell_type": "code",
   "execution_count": 72,
   "metadata": {},
   "outputs": [
    {
     "name": "stdout",
     "output_type": "stream",
     "text": [
      "An example of a single padded sequence:\n",
      "\n",
      " charger convers last minut major problem\n"
     ]
    }
   ],
   "source": [
    "# Display padded sentence example\n",
    "print(\"An example of a single padded sequence:\\n\\n\", training_sentences[3])"
   ]
  },
  {
   "cell_type": "code",
   "execution_count": 73,
   "metadata": {},
   "outputs": [
    {
     "name": "stdout",
     "output_type": "stream",
     "text": [
      "Number of sentiment categories [0 1]\n"
     ]
    }
   ],
   "source": [
    "# Check numbers of sentiment categories \n",
    "print('Number of sentiment categories', df.sentiments.unique())"
   ]
  },
  {
   "cell_type": "code",
   "execution_count": 74,
   "metadata": {},
   "outputs": [
    {
     "data": {
      "text/html": [
       "<div>\n",
       "<style scoped>\n",
       "    .dataframe tbody tr th:only-of-type {\n",
       "        vertical-align: middle;\n",
       "    }\n",
       "\n",
       "    .dataframe tbody tr th {\n",
       "        vertical-align: top;\n",
       "    }\n",
       "\n",
       "    .dataframe thead th {\n",
       "        text-align: right;\n",
       "    }\n",
       "</style>\n",
       "<table border=\"1\" class=\"dataframe\">\n",
       "  <thead>\n",
       "    <tr style=\"text-align: right;\">\n",
       "      <th></th>\n",
       "      <th>review</th>\n",
       "      <th>word_count</th>\n",
       "      <th>clean_review</th>\n",
       "      <th>polarity</th>\n",
       "    </tr>\n",
       "    <tr>\n",
       "      <th>sentiments</th>\n",
       "      <th></th>\n",
       "      <th></th>\n",
       "      <th></th>\n",
       "      <th></th>\n",
       "    </tr>\n",
       "  </thead>\n",
       "  <tbody>\n",
       "    <tr>\n",
       "      <th>0</th>\n",
       "      <td>1362</td>\n",
       "      <td>1362</td>\n",
       "      <td>1362</td>\n",
       "      <td>1362</td>\n",
       "    </tr>\n",
       "    <tr>\n",
       "      <th>1</th>\n",
       "      <td>1386</td>\n",
       "      <td>1386</td>\n",
       "      <td>1386</td>\n",
       "      <td>1386</td>\n",
       "    </tr>\n",
       "  </tbody>\n",
       "</table>\n",
       "</div>"
      ],
      "text/plain": [
       "            review  word_count  clean_review  polarity\n",
       "sentiments                                            \n",
       "0             1362        1362          1362      1362\n",
       "1             1386        1386          1386      1386"
      ]
     },
     "execution_count": 74,
     "metadata": {},
     "output_type": "execute_result"
    }
   ],
   "source": [
    "df.groupby('sentiments').count()"
   ]
  },
  {
   "cell_type": "markdown",
   "metadata": {},
   "source": [
    "## B4. Categories of Sentiment\n",
    "There were only two sentiments: negative (0) and postive (1). The final dense layer of the neural network was softmax, which was used to scale the numbers into probabilities. The softmax activation ficopn provided two distinct metrics: a vector and probability of given outcomes.\n"
   ]
  },
  {
   "cell_type": "markdown",
   "metadata": {},
   "source": [
    "## B5. Steps to Prepare the Data\n",
    "\n",
    "The following steps were taken to prepare the attached dataset with code: \n",
    "* Loaded three labelled reviews text files from Amazon, IMdb and Yelp into data frames to help classify training data better.\n",
    "* Combined the three dataframes based off their labels. \n",
    "* Confirmed labels. Labels with negative sentiment were 0, while positive sentiment were encoded with 1\n",
    "* Summarized dataframe metrics: statistical characteristics, size, data types, and missing or NULL data.\n",
    "* Removed data that was uncessary to analysis: URLs and uncessary characters\n",
    "* Converted text into lower case and corrected spelling, to prevent noise \n",
    "* Removed stop words and rare words \n",
    "* Stemmed and lemmatized words into word bases\n",
    "* Performed test train split to create training and test sets\n",
    "* Tokenized sentences\n",
    "* Extracted prepared dataset as a CSV flat file"
   ]
  },
  {
   "cell_type": "markdown",
   "metadata": {},
   "source": [
    "#### <span style=\"color:green\"><b>B6. Prepared Dataset</b></span>\n",
    "The prepared dataset is attached to this submission and the code to extract the prepared dataset follows below."
   ]
  },
  {
   "cell_type": "code",
   "execution_count": 75,
   "metadata": {},
   "outputs": [],
   "source": [
    "# Extract cleaned dataset\n",
    "df.to_csv('data/nlp_df_prepared.csv')"
   ]
  },
  {
   "cell_type": "markdown",
   "metadata": {},
   "source": [
    "# Part III: Network Architecture"
   ]
  },
  {
   "cell_type": "markdown",
   "metadata": {},
   "source": [
    "## C1. Model Summary\n",
    "The squential model summary of tensorflow function is located below.\n"
   ]
  },
  {
   "cell_type": "code",
   "execution_count": 86,
   "metadata": {},
   "outputs": [],
   "source": [
    "\n",
    "import tensorflow as tf\n",
    "\n",
    "# Create deep learning model using tensorflows\n",
    "model = tf.keras.Sequential([\n",
    "    tf.keras.layers.Embedding(vocab_size, embedding_dim, input_length = max_length), # First embedding layer defines parameters\n",
    "    tf.keras.layers.GlobalAveragePooling1D(), # Second layer flattens the vector\n",
    "    tf.keras.layers.Dense(6, activation = 'relu'), # Third layer is a hidden layer\n",
    "    tf.keras.layers.Dense(1, activation = 'softmax') # Fourth layer uses the softmax activation function\n",
    "])"
   ]
  },
  {
   "cell_type": "code",
   "execution_count": 77,
   "metadata": {},
   "outputs": [],
   "source": [
    "# Model is compiled and a loss function is set. \n",
    "model.compile(loss = 'binary_crossentropy', optimizer = 'adam', metrics = ['accuracy'])"
   ]
  },
  {
   "cell_type": "code",
   "execution_count": 78,
   "metadata": {},
   "outputs": [
    {
     "name": "stdout",
     "output_type": "stream",
     "text": [
      "Model: \"sequential\"\n",
      "_________________________________________________________________\n",
      " Layer (type)                Output Shape              Param #   \n",
      "=================================================================\n",
      " embedding (Embedding)       (None, 100, 16)           32000     \n",
      "                                                                 \n",
      " global_average_pooling1d (G  (None, 16)               0         \n",
      " lobalAveragePooling1D)                                          \n",
      "                                                                 \n",
      " dense (Dense)               (None, 6)                 102       \n",
      "                                                                 \n",
      " dense_1 (Dense)             (None, 1)                 7         \n",
      "                                                                 \n",
      "=================================================================\n",
      "Total params: 32,109\n",
      "Trainable params: 32,109\n",
      "Non-trainable params: 0\n",
      "_________________________________________________________________\n",
      "None\n"
     ]
    }
   ],
   "source": [
    "# Print summary\n",
    "print(model.summary())"
   ]
  },
  {
   "cell_type": "markdown",
   "metadata": {},
   "source": [
    "## C2. Network Architecture\n",
    "Four layers were used in this sequential model. \n",
    "\n",
    "* The first layer is the embedding layer that sets all the parameters. Specifically, it limits the argument size to 2,000 words, embedded dimentions to 16, and limits maximum sentence length to 100 words. The total number of parameters used in this layer is about 32,000. \n",
    "* The second layer is the GlobalAveragePooling1D layer. This layer flattens all the vectors derived from the first layer into one dimention to get the magnitude. Given it is a one dimentional space, this layer has 0 parameters, \n",
    "* The third layer is a dense hidden layer.  This layer is set at 6 neurons, which have a total of 102 parameters.\n",
    "* The fourth layer applies the softmax activation function.  This is also a dense layer with seven parameters.\n",
    "\n",
    "The overall total of trainable parameters is 32,109 trainable parameters with 0 non-trainable parameters."
   ]
  },
  {
   "cell_type": "markdown",
   "metadata": {},
   "source": [
    "## C3. Hyperparameters\n",
    "\n",
    "There are several reasons for using the hyperparameters:\n",
    "* <b>Activation Function</b>.The ReLU activation function is a piecewise function with direct positive output from positive input, otherwise 0.  It is often used for neural networks, since it has lower latency which results in better performance and ease of training. \n",
    "* <b>Nodes per Layer</b>. The data set is small, so 6 nodes in 3rd layer and 1 node in our final layer is sufficent for the desired result\n",
    "* <b>Loss function</b>. The binary_crossentropy loss function was selected because it uses probabilistic loss.\n",
    "* <b>Optimizer</b> For optimization the adam optimizer was used, since it very adaptable for sparse data. Specifically, its dynamic learning rates are useful for keeping latency and training time low. (Doshi)\n",
    "* <b>Stopping Criteria</b> An EarlyStopping hyperparameter was selected to prevent overfitting or underfitting the training dataset. Specifically, we would like to stop the training process when the performance begins to degrade. \n",
    "* <b>Evaluation metric</b> This sequential model was evaludated using accuracy, to compare the similarity of the measured value with the known value. "
   ]
  },
  {
   "cell_type": "code",
   "execution_count": 79,
   "metadata": {},
   "outputs": [],
   "source": [
    "# Create Numpy arrays for confirming stopping criteria\n",
    "training_labels_final = np.array(training_labels)\n",
    "test_labels_final = np.array(test_labels)"
   ]
  },
  {
   "cell_type": "code",
   "execution_count": 81,
   "metadata": {},
   "outputs": [],
   "source": [
    "# Import EarlyStopping function from Keras\n",
    "import tensorflow\n",
    "from keras.callbacks import ModelCheckpoint, EarlyStopping"
   ]
  },
  {
   "cell_type": "markdown",
   "metadata": {},
   "source": [
    "# Part IV: Model Evaluation"
   ]
  },
  {
   "cell_type": "markdown",
   "metadata": {},
   "source": [
    "## D1. Stopping Criteria\n",
    "EarlyStopping stopping criteria was used. The model's accuracy was 0.5168 in the first epoch, and does not improve with each subsquent epoch. After the 2nd epoch, loss begins to degrade. This suggests that the model does not need to use all 20 epochs, due to diminishing returns and over/underfitting.\n"
   ]
  },
  {
   "cell_type": "code",
   "execution_count": 82,
   "metadata": {},
   "outputs": [
    {
     "name": "stdout",
     "output_type": "stream",
     "text": [
      "Epoch 1/20\n",
      "69/69 [==============================] - 2s 10ms/step - loss: 0.6931 - accuracy: 0.5168 - val_loss: 0.6943 - val_accuracy: 0.4545\n",
      "Epoch 2/20\n",
      "69/69 [==============================] - 0s 6ms/step - loss: 0.6919 - accuracy: 0.5168 - val_loss: 0.6942 - val_accuracy: 0.4545\n",
      "Epoch 3/20\n",
      "69/69 [==============================] - 0s 5ms/step - loss: 0.6909 - accuracy: 0.5168 - val_loss: 0.6939 - val_accuracy: 0.4545\n",
      "Epoch 4/20\n",
      "69/69 [==============================] - 0s 3ms/step - loss: 0.6889 - accuracy: 0.5168 - val_loss: 0.6916 - val_accuracy: 0.4545\n",
      "Epoch 5/20\n",
      "69/69 [==============================] - 0s 3ms/step - loss: 0.6859 - accuracy: 0.5168 - val_loss: 0.6955 - val_accuracy: 0.4545\n",
      "Epoch 6/20\n",
      "69/69 [==============================] - 0s 3ms/step - loss: 0.6808 - accuracy: 0.5168 - val_loss: 0.6836 - val_accuracy: 0.4545\n",
      "Epoch 7/20\n",
      "69/69 [==============================] - 0s 2ms/step - loss: 0.6721 - accuracy: 0.5168 - val_loss: 0.6762 - val_accuracy: 0.4545\n",
      "Epoch 8/20\n",
      "69/69 [==============================] - 0s 2ms/step - loss: 0.6593 - accuracy: 0.5168 - val_loss: 0.6706 - val_accuracy: 0.4545\n",
      "Epoch 9/20\n",
      "69/69 [==============================] - 0s 2ms/step - loss: 0.6393 - accuracy: 0.5168 - val_loss: 0.6494 - val_accuracy: 0.4545\n",
      "Epoch 10/20\n",
      "69/69 [==============================] - 0s 2ms/step - loss: 0.6140 - accuracy: 0.5168 - val_loss: 0.6322 - val_accuracy: 0.4545\n",
      "Epoch 11/20\n",
      "69/69 [==============================] - 0s 2ms/step - loss: 0.5826 - accuracy: 0.5168 - val_loss: 0.6107 - val_accuracy: 0.4545\n",
      "Epoch 12/20\n",
      "69/69 [==============================] - 0s 2ms/step - loss: 0.5488 - accuracy: 0.5168 - val_loss: 0.5969 - val_accuracy: 0.4545\n",
      "Epoch 13/20\n",
      "69/69 [==============================] - 0s 3ms/step - loss: 0.5099 - accuracy: 0.5168 - val_loss: 0.5663 - val_accuracy: 0.4545\n",
      "Epoch 14/20\n",
      "69/69 [==============================] - 0s 3ms/step - loss: 0.4737 - accuracy: 0.5168 - val_loss: 0.5558 - val_accuracy: 0.4545\n",
      "Epoch 15/20\n",
      "69/69 [==============================] - 0s 3ms/step - loss: 0.4393 - accuracy: 0.5168 - val_loss: 0.5356 - val_accuracy: 0.4545\n",
      "Epoch 16/20\n",
      "69/69 [==============================] - 0s 2ms/step - loss: 0.4082 - accuracy: 0.5168 - val_loss: 0.5396 - val_accuracy: 0.4545\n",
      "Epoch 17/20\n",
      "69/69 [==============================] - 0s 2ms/step - loss: 0.3828 - accuracy: 0.5168 - val_loss: 0.5000 - val_accuracy: 0.4545\n",
      "Epoch 18/20\n",
      "69/69 [==============================] - 0s 2ms/step - loss: 0.3565 - accuracy: 0.5168 - val_loss: 0.4900 - val_accuracy: 0.4545\n",
      "Epoch 19/20\n",
      "69/69 [==============================] - 0s 2ms/step - loss: 0.3345 - accuracy: 0.5168 - val_loss: 0.5147 - val_accuracy: 0.4545\n",
      "Epoch 20/20\n",
      "69/69 [==============================] - 0s 3ms/step - loss: 0.3141 - accuracy: 0.5168 - val_loss: 0.4953 - val_accuracy: 0.4545\n"
     ]
    }
   ],
   "source": [
    "# Set number of epochs to run\n",
    "num_epochs = 20\n",
    "\n",
    "# Fit model\n",
    "history = model.fit(padded, \n",
    "                    training_labels_final, \n",
    "                    epochs = num_epochs, \n",
    "#                     callbacks = EarlyStopping(monitor = 'val_loss'), \n",
    "                    validation_data = (testing_padded, test_labels_final))"
   ]
  },
  {
   "cell_type": "markdown",
   "metadata": {},
   "source": [
    "## D2. Training Process\n",
    "Visualizations are below the code."
   ]
  },
  {
   "cell_type": "code",
   "execution_count": 83,
   "metadata": {},
   "outputs": [
    {
     "data": {
      "text/plain": [
       "<Figure size 432x288 with 0 Axes>"
      ]
     },
     "execution_count": 83,
     "metadata": {},
     "output_type": "execute_result"
    },
    {
     "data": {
      "image/png": "[encoded data removed]",
      "text/plain": [
       "<Figure size 432x288 with 1 Axes>"
      ]
     },
     "metadata": {},
     "output_type": "display_data"
    },
    {
     "data": {
      "image/png": "[encoded data removed]",
      "text/plain": [
       "<Figure size 432x288 with 1 Axes>"
      ]
     },
     "metadata": {},
     "output_type": "display_data"
    },
    {
     "data": {
      "text/plain": [
       "<Figure size 432x288 with 0 Axes>"
      ]
     },
     "metadata": {},
     "output_type": "display_data"
    }
   ],
   "source": [
    "# Visualize model and loss function\n",
    "%matplotlib inline\n",
    "import matplotlib.pyplot as plt\n",
    "import matplotlib.image as mpimg\n",
    "\n",
    "# # Set plot style to ggplot for aesthetics & R style\n",
    "plt.style.use('ggplot')\n",
    "\n",
    "acc = history.history['accuracy']\n",
    "val_acc = history.history['val_accuracy']\n",
    "loss = history.history['loss']\n",
    "val_loss = history.history['val_loss']\n",
    "epochs=range(len(acc))\n",
    "plt.plot(epochs, acc, 'r', 'Training Accuracy')\n",
    "plt.plot(epochs, val_acc, 'b', 'Validation Accuracy')\n",
    "plt.title('Training and Validation Accuracy')\n",
    "plt.figure()\n",
    "plt.plot(epochs, loss, 'r', 'Training Loss')\n",
    "plt.plot(epochs, val_loss, 'b', 'Validation Loss')\n",
    "plt.title('Training and validation loss')\n",
    "plt.figure()"
   ]
  },
  {
   "cell_type": "code",
   "execution_count": 84,
   "metadata": {},
   "outputs": [
    {
     "name": "stdout",
     "output_type": "stream",
     "text": [
      "Accuracy: 51.683348\n"
     ]
    }
   ],
   "source": [
    "# Evaluate the model\n",
    "loss, accuracy = model.evaluate(padded, training_labels_final, verbose = 0)\n",
    "print('Accuracy: %f' % (accuracy * 100))"
   ]
  },
  {
   "cell_type": "markdown",
   "metadata": {},
   "source": [
    "## D3. Fit\n",
    "Earlystopping resulted in the model only being trained in the first epoch. Too many epochs run the risk of overfitting. Given the vocabulary size of 2000 words, it is possible that this is leading to overfitting. The corpus of words is too large despite the simple labels. To improve fit, it may be neccessary to tweak the hyperparameters and activation functions, or possibly reduce the size of 2000 words. \n"
   ]
  },
  {
   "cell_type": "markdown",
   "metadata": {},
   "source": [
    "## D4. Predictive Accuracy\n",
    "Accuracy in the current training and testing sets resulted in a 41.68%, with a validation accuracy of 45.45%. This suggests that there is a likelihood that the chances of the sentiment classifcation being correct is low. "
   ]
  },
  {
   "cell_type": "markdown",
   "metadata": {},
   "source": [
    "# Part V: Summary and Recommendations"
   ]
  },
  {
   "cell_type": "markdown",
   "metadata": {},
   "source": [
    "## E. Code\n",
    "Jupyter notebook is attached with code and comments."
   ]
  },
  {
   "cell_type": "markdown",
   "metadata": {},
   "source": [
    "## F. Functionality\n",
    "\n",
    "The goal of this work was to use multiple labeled datasets from customer reviews to train a model that could predict the sentiment of customers in the unlabeled datasets. The focus was to determine wether or not the model could accurately classify the sentiment as negative or positive, using a NLP neural network. The model was built with four layers using a sequential model.The results of the NLP model are substandard. The model cannot be used in any sort of recommender system or application, since its accuracy is very low. "
   ]
  },
  {
   "cell_type": "markdown",
   "metadata": {},
   "source": [
    "## G. Recommendations\n",
    "\n",
    "Given the low accuracy of the model at 51.68%, it is inadvisable to use it in any sort of application until it is raised above 75%. Specifically, we may have to retrain the model with labeled datasets that are closer to the products in the model. Specifically, it may be useful to use data from an ecommerce business similar to Amazon, or reviews from similar products. It would be useful to use similar Amazon products, or even different website reviewes to train the NLP model. Movie reviews and resturaunt review patterns and stop words, as well as their patterns may be different that ecommerce products. This includes possibly different stop words and a entirely different corpus. \n",
    "\n",
    "This model may be mixing irrelevant sentiment data to the amazon reviews, which is causing noise, and lowering the accuracy of the model. Neural networks are prone to exponential failures if the quality of the data being used is not properly labeled or segemented prior to use. "
   ]
  },
  {
   "cell_type": "markdown",
   "metadata": {},
   "source": [
    "# Part VI: Reporting"
   ]
  },
  {
   "cell_type": "markdown",
   "metadata": {},
   "source": [
    "## H. Reporting \n",
    "A Jupyter notebook with all code output is included with the submission of this pdf."
   ]
  },
  {
   "cell_type": "markdown",
   "metadata": {},
   "source": [
    "## I. Sources for Third-Party Code\n",
    "* Kotzias et. al. &nbsp; (2015). <i>From Group to Individual Labels using Deep Features.</i> KDD. https://archive.ics.uci.edu/ml/machine-learning-databases/00331/ \n",
    "* Misheva, V. &nbsp; (2021). <i>Sentiment Analysis in Python.</i> DataCamp. https://campus.datacamp.com/courses/sentiment-analysis-in-python/\n",
    "* Sucky, R. &nbsp; (2021, May 13). &nbsp; <i>Exploratory Data Analysis of Text data Including Visualization and Sentiment Analysis</i>. &nbsp; TowardDataScience. &nbsp; https://towardsdatascience.com/exploratory-data-analysis-of-text-data-including-visualization-and-sentiment-analysis-e46dda3dd260\n",
    "* Sucky, R. (2021, July 8). <i>A Complete Step by Step Tutorial on Sentiment Analysis in Keras and Tensorflow.</i> TowardDataScience. &nbsp; https://towardsdatascience.com/a-complete-step-by-step-tutorial-on-sentiment-analysis-in-keras-and-tensorflow-ea420cc8913f"
   ]
  },
  {
   "cell_type": "markdown",
   "metadata": {},
   "source": [
    "## J. Sources\n",
    "* Brownlee, J. (2018, December 7). <i>A Gentle Introduction to Early Stopping to Avoid Overtraining Neural Networks.</i>  MachineLearningMastery.  https://machinelearningmastery.com/early-stopping-to-avoid-overtraining-neural-network-models/\n",
    "* Brownlee, J. &ensp; (2019, January 9). <i>A Gentle Introduction to the Rectified Linear Unit (ReLU).</i>  MachineLearningMastery. &ensp; https://machinelearningmastery.com/rectified-linear-activation-function-for-deep-learning-neural-networks/\n",
    "* Chakravarthy, S. &ensp; (2020, June 19). &ensp; <i>Tokenization for Natural Language Processing.</i> TowardsDataScience. https://towardsdatascience.com/tokenization-for-natural-language-processing-a179a891bad4#:~:text=Tokenization%20breaks%20the%20raw%20text,the%20sequence%20of%20the%20words\n",
    "* Pai, A. &ensp; (2020, May 26). <i>What is Tokenization in NLP? Here’s All You Need To Know.</i> AnalyticsVidhya.  https://www.analyticsvidhya.com/blog/2020/05/what-is-tokenization-nlp/"
   ]
  },
  {
   "cell_type": "code",
   "execution_count": null,
   "metadata": {},
   "outputs": [],
   "source": []
  }
 ],
 "metadata": {
  "kernelspec": {
   "display_name": "Python 3 (ipykernel)",
   "language": "python",
   "name": "python3"
  },
  "language_info": {
   "codemirror_mode": {
    "name": "ipython",
    "version": 3
   },
   "file_extension": ".py",
   "mimetype": "text/x-python",
   "name": "python",
   "nbconvert_exporter": "python",
   "pygments_lexer": "ipython3",
   "version": "3.9.7"
  },
  "varInspector": {
   "cols": {
    "lenName": 16,
    "lenType": 16,
    "lenVar": 40
   },
   "kernels_config": {
    "python": {
     "delete_cmd_postfix": "",
     "delete_cmd_prefix": "del ",
     "library": "var_list.py",
     "varRefreshCmd": "print(var_dic_list())"
    },
    "r": {
     "delete_cmd_postfix": ") ",
     "delete_cmd_prefix": "rm(",
     "library": "var_list.r",
     "varRefreshCmd": "cat(var_dic_list()) "
    }
   },
   "types_to_exclude": [
    "module",
    "function",
    "builtin_function_or_method",
    "instance",
    "_Feature"
   ],
   "window_display": false
  }
 },
 "nbformat": 4,
 "nbformat_minor": 4
}
